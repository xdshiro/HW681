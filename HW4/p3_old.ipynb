{
 "cells": [
  {
   "cell_type": "markdown",
   "metadata": {
    "collapsed": true,
    "pycharm": {
     "name": "#%% md\n"
    }
   },
   "source": [
    "# **3 Gradient computations in Neural Networks (Ed Tam)**\n",
    "\n",
    "$$\\mathbf{h}_1 = \\sigma\\left( \\mathbf{W}_1^\\top \\mathbf{x} + \\mathbf{b}_1 \\right),$$\n",
    "$$\\mathbf{h}_2 = \\sigma\\left( \\mathbf{W}_2^\\top \\mathbf{h}_1 + \\mathbf{b}_2 \\right),$$\n",
    "$$f(\\mathbf{x}) = \\mathbf{h}_3 =  \\sigma\\left( \\mathbf{W}_3^\\top \\mathbf{h}_2 + b_3 \\right),$$\n",
    "\n",
    "$$L=-\\sum_{i=1}^{N}y_i\\log(f(\\mathbf{x}_i)) + (1-y_i)\\log(1-f(\\mathbf{x}_i)),$$\n",
    "\n",
    "$$\\mathbf{z}_l := \\mathbf{W}_l^{\\top} \\mathbf{h}_{l-1}+\\mathbf{b}_l.$$"
   ]
  },
  {
   "cell_type": "markdown",
   "source": [
    "**3.1 Gradient Evaluation**\n",
    "\n",
    "In order to get $\\frac{\\partial L}{\\partial \\mathbf{W}_1}$ let's start with\n",
    " $-\\frac{\\partial L_i}{\\partial \\mathbf{W}_1}$:\n",
    "\n",
    "\\begin{eqnarray}\n",
    "\\frac{\\partial L_i}{\\partial \\mathbf{W}_1}=\\frac{\\partial L_i}{\\partial {h}_3}\\frac{\\partial {h}_3}{\\partial \\mathbf{W}_1},\n",
    "\\end{eqnarray}\n",
    "\n",
    "\n",
    "\\begin{eqnarray}\n",
    "\\frac{\\partial L_i}{\\partial {h}_3}=\\frac{\\partial L_i}{\\partial f}=\\frac{\\partial}{\\partial f}\\left(y_i\\log(f) + (1-y_i)\\log(1-f)\\right)=\\\\\n",
    "y_i\\dfrac{1}{f}+(1-y_i)\\dfrac{-1}{1-f}=\\dfrac{y_i-y_if-f+y_if}{f(1-f)}=\\dfrac{y_i-f}{f(1-f)}.\n",
    "\\end{eqnarray}\n",
    "\n",
    "Now let's simplify $\\frac{\\partial {h}_3}{\\partial \\mathbf{W}_1}$:\n",
    "\n",
    "\\begin{eqnarray}\n",
    "\\frac{\\partial {h}_3}{\\partial \\mathbf{W}_1}=\\frac{\\partial {h}_3}{\\partial z_3}\\frac{\\partial z_3}{\\partial \\mathbf{h_2}}\\frac{\\partial\\mathbf{h_2}}{\\partial\\mathbf{W}_1}=\\frac{\\partial {h}_3}{\\partial z_3}\\sum_{l=1}^{H}\\frac{\\partial z_3}{\\partial h_2^l}\\frac{\\partial h_2^l}{\\partial\\mathbf{W}_1},\n",
    "\\end{eqnarray}\n",
    "\n",
    "We know that\n",
    "\n",
    "$$\\frac{\\partial {h}_3}{\\partial z_3}=\\sigma'(z_3)=\\sigma(z_3)(1-\\sigma(z_3))=h_3(1-h_3).$$\n",
    "\n",
    "Also,\n",
    "\n",
    "$$\\frac{\\partial z_3}{\\partial h_2^l}=\\frac{\\partial}{\\partial h_2^l}\\left(\\sum_{l=1}^{H}W_{3,l}^Th_2^l +b_3\\right)=W_{3,l}^T.$$\n",
    "\n",
    "Next step is to calculate $\\frac{\\partial h_2^l}{\\partial\\mathbf{W}_1}$:\n",
    "\n",
    "$$\\frac{\\partial h_2^l}{\\partial\\mathbf{W}_1}=\\frac{\\partial {h}_2^l}{\\partial z_2^l}\\frac{\\partial z_2^l}{\\partial \\mathbf{h_1}}\\frac{\\partial\\mathbf{h_1}}{\\partial\\mathbf{W}_1}=\\frac{\\partial {h}_2^l}{\\partial z_2^l}\\sum_{m=1}^{H}\\frac{\\partial z_2^l}{\\partial h_1^m}\\frac{\\partial h_1^m}{\\partial\\mathbf{W}_1},$$\n",
    "\n",
    "where\n",
    "\n",
    "$$\\frac{\\partial {h}_2^l}{\\partial z_2^l}=\\sigma'(z_2^l)=\\sigma(z_2^l)(1-\\sigma(z_2^l))=h_2^l(1-h_2^l),$$\n",
    "\n",
    "and\n",
    "\n",
    "$$\\frac{\\partial z_2^l}{\\partial h_1^m}=\\frac{\\partial}{\\partial h_1^m}\\left(\\sum_{m=1}^{H}W_{2,m}^{lT}h_2^{lm} +b_2^l\\right)=W_{2,m}^{lT}.$$\n",
    "\n",
    "The last derivative we are missing is $\\frac{\\partial h_1^m}{\\partial\\mathbf{W}_1}$ which is\n",
    "\n",
    "$$\\frac{\\partial h_1^m}{\\partial\\mathbf{W}_1}=\\frac{\\partial {h}_1^m}{\\partial z_1^m}\\frac{\\partial z_1^m}{\\partial \\mathbf{W}_1}=h_1^m(1-h_1^m)\\frac{\\partial z_1^m}{\\partial \\mathbf{W}_1},$$\n",
    "\n",
    "and the directional derivative $\\frac{\\partial z_1^m}{\\partial \\mathbf{W}_1}$ is\n",
    "\n",
    "$$\\frac{\\partial z_1^m}{\\partial \\mathbf{W}_1}=\\mathbf{x}_i^T\\dfrac{\\mathbf{W}_1}{|\\mathbf{W}_1|}.$$"
   ],
   "metadata": {
    "collapsed": false
   }
  },
  {
   "cell_type": "markdown",
   "source": [
    "Combining everything together we can have:\n",
    "\n",
    "\\begin{eqnarray}\n",
    "\\frac{\\partial L_i}{\\partial \\mathbf{W}_1}=\\dfrac{y_i-f(\\mathbf{x}_i)}{f(\\mathbf{x}_i)(1-f(\\mathbf{x}_i))}h_3(1-h_3)\\sum_{l=1}^{H}W_{3,l}^T\\times\\\\\n",
    "\\times h_2^l(1-h_2^l)\\sum_{m=1}^{H}W_{2,m}^{lT}h_1^m(1-h_1^m)\\mathbf{x}_i^T\\dfrac{\\mathbf{W}_1}{|\\mathbf{W}_1|}.\n",
    "\\end{eqnarray}\n",
    "\n",
    "Since $f(\\mathbf{x}_i)=h_3$, we can simplify it as follow\n",
    "\n",
    "\\begin{eqnarray}\n",
    "\\frac{\\partial L_i}{\\partial \\mathbf{W}_1}=(y_i-f(\\mathbf{x}_i))\\sum_{l=1}^{H}W_{3,l}^Th_2^l(1-h_2^l)\\sum_{m=1}^{H}W_{2,m}^{lT}h_1^m(1-h_1^m)\\mathbf{x}_i^T\\dfrac{\\mathbf{W}_1}{|\\mathbf{W}_1|}.\n",
    "\\end{eqnarray}\n",
    "\n",
    "After the summation over all $i=1...N$ we have:\n",
    "\n",
    "\\begin{eqnarray}\n",
    "\\frac{\\partial L}{\\partial \\mathbf{W}_1}=-\\sum_{i=1}^N(y_i-f(\\mathbf{x}_i))\\sum_{l=1}^{H}W_{3,l}^Th_2^l(1-h_2^l)\\sum_{m=1}^{H}W_{2,m}^{lT}h_1^m(1-h_1^m)\\mathbf{x}_i^T\\dfrac{\\mathbf{W}_1}{|\\mathbf{W}_1|}=\\\\\n",
    "=\\sum_{l=1}^{H}W_{3,l}^Th_2^l(1-h_2^l)\\sum_{m=1}^{H}W_{2,m}^{lT}h_1^m(1-h_1^m)\\sum_{i=1}^N(f(\\mathbf{x}_i)-y_i)\\mathbf{x}_i^T\\dfrac{\\mathbf{W}_1}{|\\mathbf{W}_1|}\n",
    "\\end{eqnarray}\n",
    "\n",
    "The gradient of $\\frac{\\partial L}{\\partial \\mathbf{W}_1}$ is\n",
    "\n",
    "\\begin{eqnarray}\n",
    "\\Delta W_1^j=\\sum_{l=1}^{H}W_{3,l}^Th_2^l(1-h_2^l)\\sum_{m=1}^{H}W_{2,m}^{lT}h_1^m(1-h_1^m)\\sum_{i=1}^N(f(\\mathbf{x}_i)-y_i)x_i^j.\n",
    "\\end{eqnarray}\n",
    "\n",
    "Below I was trying to simplify this equation.\n",
    "\n",
    "Let's define matrix operator $\\hat D$ as $\\hat DA=B$, where all the elements $b_{ij}=a_{ij}(1-a_{ij})$. Here\n",
    "I denote matrices $A=(a_{ij})$ and $B=(b_{ij})$. Thus, we can simplify the formula as follow:\n",
    "\n",
    "\\begin{eqnarray}\n",
    "\\frac{\\partial L_i}{\\partial \\mathbf{W}_1}=(y_i-f(\\mathbf{x}_i))W_{3}^T\\hat D\\mathbf{h}_2\\mathbf{W}_2^{T}\\hat D\\mathbf{h}_1\\mathbf{x}_i^T\\dfrac{\\mathbf{W}_1}{|\\mathbf{W}_1|},\n",
    "\\end{eqnarray}\n",
    "\n",
    "Then\n",
    "\n",
    "\\begin{eqnarray}\n",
    "\\Delta W_1^j=(y_i-f(\\mathbf{x}_i))W_{3}^T\\hat D\\mathbf{h}_2\\mathbf{W}_2^{T}\\hat D\\mathbf{h}_1\\mathbf{x}_i^T\\sum_{i=1}^N(f(\\mathbf{x}_i)-y_i)x_i^j.\n",
    "\\end{eqnarray}"
   ],
   "metadata": {
    "collapsed": false
   }
  },
  {
   "cell_type": "markdown",
   "source": [
    "**3.2 Gradient Evaluation**\n",
    "\n",
    "We need to compute $\\delta_l^i:= \\frac{\\partial L_i}{\\partial z_l}$, knowing\n",
    "$\\delta_{l+1}^i$, $\\mathbf{W}_{l+1}$, and $\\mathbf{h}_l$.\n",
    "\n",
    "Using out previous derivation we can write\n",
    "\n",
    "\\begin{eqnarray}\n",
    "\\frac{\\partial L_i}{\\partial z_l^m}=\\sum_{t=1}^H\\dfrac{\\partial L_i}{\\partial z_{l+1}^t}  \\dfrac{\\partial z_{l+1}^t}{\\partial h_l^m}   \\dfrac{\\partial h_l^m}{\\partial z_{l}^m}=\\\\\n",
    "=\\sum_{t=1}^H\\delta_{lt}^i  \\dfrac{\\partial z_{l+1}^t}{\\partial h_l^m}   \\dfrac{\\partial h_l^m}{\\partial z_{l}^m}=\\sum_{t=1}^H\\delta_{l,t}^i  W_{2,m}^t   \\dfrac{\\partial h_l^m}{\\partial z_{l}^m}=\\sum_{t=1}^H\\delta_{l,t}^i  W_{2,m}^t   h_l^m(1 - h_l^m).\n",
    "\\end{eqnarray}"
   ],
   "metadata": {
    "collapsed": false
   }
  }
 ],
 "metadata": {
  "kernelspec": {
   "display_name": "Python 3",
   "language": "python",
   "name": "python3"
  },
  "language_info": {
   "codemirror_mode": {
    "name": "ipython",
    "version": 2
   },
   "file_extension": ".py",
   "mimetype": "text/x-python",
   "name": "python",
   "nbconvert_exporter": "python",
   "pygments_lexer": "ipython2",
   "version": "2.7.6"
  }
 },
 "nbformat": 4,
 "nbformat_minor": 0
}