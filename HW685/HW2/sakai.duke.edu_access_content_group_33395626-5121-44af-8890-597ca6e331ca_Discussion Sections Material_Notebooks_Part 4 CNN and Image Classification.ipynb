{
 "cells": [
  {
   "cell_type": "markdown",
   "metadata": {},
   "source": [
    "# The material presented in this notebook is for using in Introduction to Deep Learning (ECE 685D) course, Duke University, Fall 2020."
   ]
  },
  {
   "cell_type": "markdown",
   "metadata": {},
   "source": [
    "# Convolutional Neural Networks"
   ]
  },
  {
   "cell_type": "markdown",
   "metadata": {},
   "source": [
    "* ### LeNet5 with MNIST and CIFAR10"
   ]
  },
  {
   "cell_type": "code",
   "execution_count": 5,
   "metadata": {},
   "outputs": [],
   "source": [
    "import torch\n",
    "import torch.nn as nn\n",
    "import torch.nn.functional as F\n",
    "import torch.optim\n",
    "import torchvision\n",
    "import torchvision.transforms as transforms\n",
    "import torch.optim as optim\n",
    "import matplotlib.pyplot as plt\n",
    "import numpy as np"
   ]
  },
  {
   "cell_type": "markdown",
   "metadata": {},
   "source": [
    "## Dataset"
   ]
  },
  {
   "cell_type": "markdown",
   "metadata": {},
   "source": [
    "## MNIST"
   ]
  },
  {
   "cell_type": "code",
   "execution_count": 6,
   "metadata": {},
   "outputs": [],
   "source": [
    "batch_size = 100\n",
    "train_set,test_set,train_loader,test_loader = {},{},{},{}\n",
    "transform = transforms.Compose(\n",
    "    [transforms.ToTensor(),\n",
    "     transforms.Normalize((0.1307,), (0.3081,))])\n",
    "train_set['mnist'] = torchvision.datasets.MNIST(root='./data', train=True, download=True, transform=transform)\n",
    "train_loader['mnist'] = torch.utils.data.DataLoader(train_set['mnist'], batch_size=batch_size, shuffle=True, num_workers=0)\n",
    "test_set['mnist'] = torchvision.datasets.MNIST(root='./data', train=False, download=True, transform=transform)\n",
    "test_loader['mnist'] = torch.utils.data.DataLoader(test_set['mnist'], batch_size=batch_size, shuffle=False, num_workers=0)"
   ]
  },
  {
   "cell_type": "markdown",
   "metadata": {},
   "source": [
    "## CIFAR10"
   ]
  },
  {
   "cell_type": "code",
   "execution_count": 7,
   "metadata": {},
   "outputs": [
    {
     "name": "stdout",
     "output_type": "stream",
     "text": [
      "Files already downloaded and verified\n",
      "Files already downloaded and verified\n"
     ]
    }
   ],
   "source": [
    "train_transform = transforms.Compose([\n",
    "    transforms.RandomCrop(32, padding=4),\n",
    "    transforms.RandomHorizontalFlip(),\n",
    "    transforms.ToTensor(),\n",
    "    transforms.Normalize((0.4914, 0.4822, 0.4465), (0.2023, 0.1994, 0.2010)),\n",
    "])\n",
    "\n",
    "test_transform = transforms.Compose([\n",
    "    transforms.ToTensor(),\n",
    "    transforms.Normalize((0.4914, 0.4822, 0.4465), (0.2023, 0.1994, 0.2010)),\n",
    "])\n",
    "train_set['cifar10'] = torchvision.datasets.CIFAR10(root='./data', train=True, download=True, transform=train_transform)\n",
    "train_loader['cifar10'] = torch.utils.data.DataLoader(train_set['cifar10'], batch_size=batch_size, shuffle=True, num_workers=0)\n",
    "test_set['cifar10'] = torchvision.datasets.CIFAR10(root='./data', train=False, download=True, transform=test_transform)\n",
    "test_loader['cifar10'] = torch.utils.data.DataLoader(test_set['cifar10'], batch_size=batch_size, shuffle=False, num_workers=0)"
   ]
  },
  {
   "cell_type": "markdown",
   "metadata": {},
   "source": [
    "### [LeNet](http://yann.lecun.com/exdb/lenet/) is a classic CNN architecture for MNIST dataset proposed in 1990’s "
   ]
  },
  {
   "cell_type": "markdown",
   "metadata": {},
   "source": [
    "![LeNet5](https://miro.medium.com/max/2154/1*1TI1aGBZ4dybR6__DI9dzA.png)"
   ]
  },
  {
   "cell_type": "markdown",
   "metadata": {},
   "source": [
    "## Model architecture for MNIST"
   ]
  },
  {
   "cell_type": "code",
   "execution_count": 8,
   "metadata": {},
   "outputs": [],
   "source": [
    "class LeNet5(nn.Module):\n",
    "    def __init__(self, in_channels, out_channels):\n",
    "        super(LeNet5, self).__init__()\n",
    "        self.conv1 = nn.Conv2d(in_channels=in_channels, out_channels=6, kernel_size=5, stride=1, padding=2, bias=True)\n",
    "        self.conv2 = nn.Conv2d(in_channels=6, out_channels=16, kernel_size=5, stride=1, padding=0, bias=True)\n",
    "        self.fc1   = nn.Linear(in_features=16*5*5, out_features=120) if data_name == 'mnist' else nn.Linear(in_features=16*6*6, out_features=120)\n",
    "        self.fc2   = nn.Linear(in_features=120, out_features=84)\n",
    "        self.fc3   = nn.Linear(in_features=84, out_features=out_channels)\n",
    "\n",
    "    def forward(self, x):\n",
    "        x = F.relu(self.conv1(x))\n",
    "        x = F.max_pool2d(x, 2)\n",
    "        x = F.relu(self.conv2(x))\n",
    "        x = F.max_pool2d(x, 2)\n",
    "        x = x.view(x.size(0), -1)\n",
    "        x = F.relu(self.fc1(x))\n",
    "        x = F.relu(self.fc2(x))\n",
    "        x = self.fc3(x)\n",
    "        return x"
   ]
  },
  {
   "cell_type": "markdown",
   "metadata": {},
   "source": [
    "## Define train() and test()"
   ]
  },
  {
   "cell_type": "code",
   "execution_count": 9,
   "metadata": {},
   "outputs": [],
   "source": [
    "def train(model, device, train_loader, criterion, optimizer, epoch):\n",
    "    train_loss = 0\n",
    "    model.train()\n",
    "    for batch_idx, (data, target) in enumerate(train_loader):\n",
    "        data, target = data.to(device), target.to(device)\n",
    "        optimizer.zero_grad()\n",
    "        output = model(data)\n",
    "        loss = criterion(output, target)\n",
    "        loss.backward()\n",
    "        optimizer.step()\n",
    "        train_loss += loss.item()\n",
    "        if batch_idx % (len(train_loader)//2) == 0:\n",
    "            print('Train({})[{:.0f}%]: Loss: {:.4f}'.format(\n",
    "                epoch, 100. * batch_idx / len(train_loader), train_loss/(batch_idx+1)))\n",
    "\n",
    "def test(model, device, test_loader, criterion, epoch):\n",
    "    model.eval()\n",
    "    test_loss = 0\n",
    "    correct = 0\n",
    "    with torch.no_grad():\n",
    "        for data, target in test_loader:\n",
    "            data, target = data.to(device), target.to(device)\n",
    "            output = model(data)\n",
    "            test_loss += criterion(output, target).item() # sum up batch loss\n",
    "            pred = output.argmax(dim=1, keepdim=True) # get the index of the max log-probability\n",
    "            correct += pred.eq(target.view_as(pred)).sum().item()\n",
    "\n",
    "    test_loss = (test_loss*batch_size)/len(test_loader.dataset)\n",
    "    print('Test({}): Loss: {:.4f}, Accuracy: {:.4f}%'.format(\n",
    "        epoch, test_loss, 100. * correct / len(test_loader.dataset)))"
   ]
  },
  {
   "cell_type": "markdown",
   "metadata": {},
   "source": [
    "## Define make_optimizer() and make_scheduler()"
   ]
  },
  {
   "cell_type": "code",
   "execution_count": 12,
   "metadata": {},
   "outputs": [],
   "source": [
    "def make_optimizer(optimizer_name, model, **kwargs):\n",
    "    if optimizer_name=='Adam':\n",
    "        optimizer = optim.Adam(model.parameters(),lr=kwargs['lr'])\n",
    "    elif optimizer_name=='SGD':\n",
    "        optimizer = optim.SGD(model.parameters(),lr=kwargs['lr'],momentum=kwargs['momentum'], weight_decay=kwargs['weight_decay'])\n",
    "    else:\n",
    "        raise ValueError('Not valid optimizer name')\n",
    "    return optimizer\n",
    "    \n",
    "def make_scheduler(scheduler_name, optimizer, **kwargs):\n",
    "    if scheduler_name=='MultiStepLR':\n",
    "        scheduler = optim.lr_scheduler.MultiStepLR(optimizer,milestones=kwargs['milestones'],gamma=kwargs['factor'])\n",
    "    else:\n",
    "        raise ValueError('Not valid scheduler name')\n",
    "    return scheduler"
   ]
  },
  {
   "cell_type": "markdown",
   "metadata": {},
   "source": [
    "## Define main()"
   ]
  },
  {
   "cell_type": "code",
   "execution_count": 19,
   "metadata": {},
   "outputs": [
    {
     "name": "stdout",
     "output_type": "stream",
     "text": [
      "Train(1)[0%]: Loss: 2.3096\n",
      "Train(1)[50%]: Loss: 0.7897\n",
      "Test(1): Loss: 0.1018, Accuracy: 96.6400%\n",
      "Optimizer Learning rate: 0.0500\n",
      "Train(2)[0%]: Loss: 0.0879\n",
      "Train(2)[50%]: Loss: 0.1036\n",
      "Test(2): Loss: 0.0663, Accuracy: 97.8100%\n",
      "Optimizer Learning rate: 0.0500\n",
      "Train(3)[0%]: Loss: 0.1106\n",
      "Train(3)[50%]: Loss: 0.0662\n",
      "Test(3): Loss: 0.0474, Accuracy: 98.3700%\n",
      "Optimizer Learning rate: 0.0500\n",
      "Train(4)[0%]: Loss: 0.0161\n",
      "Train(4)[50%]: Loss: 0.0507\n",
      "Test(4): Loss: 0.0481, Accuracy: 98.3400%\n",
      "Optimizer Learning rate: 0.0500\n",
      "Train(5)[0%]: Loss: 0.0109\n",
      "Train(5)[50%]: Loss: 0.0396\n",
      "Test(5): Loss: 0.0459, Accuracy: 98.4100%\n",
      "Optimizer Learning rate: 0.0050\n",
      "Train(6)[0%]: Loss: 0.0397\n",
      "Train(6)[50%]: Loss: 0.0272\n",
      "Test(6): Loss: 0.0310, Accuracy: 98.9300%\n",
      "Optimizer Learning rate: 0.0050\n",
      "Train(7)[0%]: Loss: 0.0150\n",
      "Train(7)[50%]: Loss: 0.0238\n",
      "Test(7): Loss: 0.0302, Accuracy: 98.9800%\n",
      "Optimizer Learning rate: 0.0050\n",
      "Train(8)[0%]: Loss: 0.0138\n",
      "Train(8)[50%]: Loss: 0.0230\n",
      "Test(8): Loss: 0.0296, Accuracy: 98.9700%\n",
      "Optimizer Learning rate: 0.0050\n",
      "Train(9)[0%]: Loss: 0.0629\n",
      "Train(9)[50%]: Loss: 0.0224\n",
      "Test(9): Loss: 0.0293, Accuracy: 98.9500%\n",
      "Optimizer Learning rate: 0.0050\n",
      "Train(10)[0%]: Loss: 0.0111\n",
      "Train(10)[50%]: Loss: 0.0214\n",
      "Test(10): Loss: 0.0290, Accuracy: 99.0400%\n",
      "Optimizer Learning rate: 0.0050\n"
     ]
    }
   ],
   "source": [
    "seed = 1\n",
    "device = 'cuda'\n",
    "data_name = 'mnist'\n",
    "optimizer_name = 'SGD'\n",
    "scheduler_name = 'MultiStepLR'\n",
    "num_epochs = 10\n",
    "lr = 0.05\n",
    "device = torch.device(device)\n",
    "torch.manual_seed(1)\n",
    "torch.cuda.manual_seed(1)\n",
    "in_channels = 1 if data_name== 'mnist' else 3\n",
    "out_channels = 10\n",
    "model = LeNet5(in_channels, out_channels).to(device)\n",
    "criterion = nn.CrossEntropyLoss()\n",
    "optimizer = make_optimizer(optimizer_name, model, lr=lr, momentum=0, weight_decay=0)\n",
    "scheduler = make_scheduler(scheduler_name, optimizer, milestones=[5], factor=0.1)\n",
    "for epoch in range(1, num_epochs + 1):\n",
    "    train(model, device, train_loader[data_name], criterion, optimizer, epoch)\n",
    "    test(model, device, test_loader[data_name], criterion, epoch)\n",
    "    scheduler.step()\n",
    "    print('Optimizer Learning rate: {0:.4f}'.format(optimizer.param_groups[0]['lr']))"
   ]
  },
  {
   "cell_type": "code",
   "execution_count": 21,
   "metadata": {},
   "outputs": [
    {
     "name": "stdout",
     "output_type": "stream",
     "text": [
      "Train(1)[0%]: Loss: 2.3027\n",
      "Train(1)[50%]: Loss: 2.1445\n",
      "Test(1): Loss: 1.6475, Accuracy: 40.4300%\n",
      "Optimizer Learning rate: 0.0500\n",
      "Train(2)[0%]: Loss: 1.7159\n",
      "Train(2)[50%]: Loss: 1.6845\n",
      "Test(2): Loss: 1.4809, Accuracy: 46.8100%\n",
      "Optimizer Learning rate: 0.0500\n",
      "Train(3)[0%]: Loss: 1.4799\n",
      "Train(3)[50%]: Loss: 1.5472\n",
      "Test(3): Loss: 1.4880, Accuracy: 46.2600%\n",
      "Optimizer Learning rate: 0.0500\n",
      "Train(4)[0%]: Loss: 1.7816\n",
      "Train(4)[50%]: Loss: 1.4549\n",
      "Test(4): Loss: 1.3182, Accuracy: 53.0100%\n",
      "Optimizer Learning rate: 0.0500\n",
      "Train(5)[0%]: Loss: 1.4507\n",
      "Train(5)[50%]: Loss: 1.3901\n",
      "Test(5): Loss: 1.2838, Accuracy: 54.8400%\n",
      "Optimizer Learning rate: 0.0050\n",
      "Train(6)[0%]: Loss: 1.4016\n",
      "Train(6)[50%]: Loss: 1.2645\n",
      "Test(6): Loss: 1.2009, Accuracy: 57.6500%\n",
      "Optimizer Learning rate: 0.0050\n",
      "Train(7)[0%]: Loss: 1.1127\n",
      "Train(7)[50%]: Loss: 1.2356\n",
      "Test(7): Loss: 1.1921, Accuracy: 58.2100%\n",
      "Optimizer Learning rate: 0.0050\n",
      "Train(8)[0%]: Loss: 1.1692\n",
      "Train(8)[50%]: Loss: 1.2178\n",
      "Test(8): Loss: 1.1771, Accuracy: 58.3500%\n",
      "Optimizer Learning rate: 0.0050\n",
      "Train(9)[0%]: Loss: 1.1861\n",
      "Train(9)[50%]: Loss: 1.2173\n",
      "Test(9): Loss: 1.1628, Accuracy: 59.0400%\n",
      "Optimizer Learning rate: 0.0050\n",
      "Train(10)[0%]: Loss: 1.2799\n",
      "Train(10)[50%]: Loss: 1.2023\n",
      "Test(10): Loss: 1.1629, Accuracy: 59.0300%\n",
      "Optimizer Learning rate: 0.0050\n"
     ]
    }
   ],
   "source": [
    "seed = 1\n",
    "device = 'cuda'\n",
    "data_name = 'cifar10'\n",
    "optimizer_name = 'SGD'\n",
    "scheduler_name = 'MultiStepLR'\n",
    "num_epochs = 10\n",
    "lr = 0.05\n",
    "device = torch.device(device)\n",
    "torch.manual_seed(1)\n",
    "torch.cuda.manual_seed(1)\n",
    "in_channels = 1 if data_name== 'mnist' else 3\n",
    "out_channels = 10\n",
    "model = LeNet5(in_channels, out_channels).to(device)\n",
    "criterion = nn.CrossEntropyLoss()\n",
    "optimizer = make_optimizer(optimizer_name, model, lr=lr, momentum=0, weight_decay=0)\n",
    "scheduler = make_scheduler(scheduler_name, optimizer, milestones=[5], factor=0.1)\n",
    "for epoch in range(1, num_epochs + 1):\n",
    "    train(model, device, train_loader[data_name], criterion, optimizer, epoch)\n",
    "    test(model, device, test_loader[data_name], criterion, epoch)\n",
    "    scheduler.step()\n",
    "    print('Optimizer Learning rate: {0:.4f}'.format(optimizer.param_groups[0]['lr']))"
   ]
  },
  {
   "cell_type": "code",
   "execution_count": null,
   "metadata": {},
   "outputs": [],
   "source": []
  }
 ],
 "metadata": {
  "kernelspec": {
   "display_name": "Python 3",
   "language": "python",
   "name": "python3"
  },
  "language_info": {
   "codemirror_mode": {
    "name": "ipython",
    "version": 3
   },
   "file_extension": ".py",
   "mimetype": "text/x-python",
   "name": "python",
   "nbconvert_exporter": "python",
   "pygments_lexer": "ipython3",
   "version": "3.7.6"
  }
 },
 "nbformat": 4,
 "nbformat_minor": 4
}
