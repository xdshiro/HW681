{
 "cells": [
  {
   "cell_type": "code",
   "execution_count": 104,
   "metadata": {
    "collapsed": true
   },
   "outputs": [],
   "source": [
    "# This Python 3 environment comes with many helpful analytics libraries installed\n",
    "# It is defined by the kaggle/python Docker image: https://github.com/kaggle/docker-python\n",
    "# For example, here's several helpful packages to load\n",
    "\n",
    "import numpy as np # linear algebra\n",
    "import pandas as pd # data processing, CSV file I/O (e.g. pd.read_csv)\n",
    "import matplotlib.pyplot as plt\n",
    "# Input data files are available in the read-only \"../input/\" directory\n",
    "# For example, running this (by clicking run or pressing Shift+Enter) will list all files under the input directory\n",
    "\n",
    "import os\n",
    "for dirname, _, filenames in os.walk('/kaggle/input'):\n",
    "    for filename in filenames:\n",
    "        print(os.path.join(dirname, filename))\n",
    "\n",
    "# You can write up to 20GB to the current directory (/kaggle/working/) that gets preserved as output when you create a version using \"Save & Run All\"\n",
    "# You can also write temporary files to /kaggle/temp/, but they won't be saved outside of the current session"
   ]
  },
  {
   "cell_type": "code",
   "execution_count": 105,
   "outputs": [],
   "source": [
    "########################################################"
   ],
   "metadata": {
    "collapsed": false,
    "pycharm": {
     "name": "#%%\n"
    }
   }
  },
  {
   "cell_type": "markdown",
   "source": [
    "'Attrition' - Yes, No предсказываем\n",
    "\n",
    "1) Нужно весть препоцесс в одну функцию засунуть, чтобы он работал на что угодно."
   ],
   "metadata": {
    "collapsed": false,
    "pycharm": {
     "name": "#%% md\n"
    }
   }
  },
  {
   "cell_type": "markdown",
   "source": [
    "Loading dataset."
   ],
   "metadata": {
    "collapsed": false
   }
  },
  {
   "cell_type": "code",
   "execution_count": 106,
   "outputs": [
    {
     "data": {
      "text/plain": "    EmployeeID  Age Attrition     BusinessTravel  DailyRate  Department  \\\n0      1317087   40        No      Travel_Rarely       1398  Cardiology   \n1      1548175   40        No      Travel_Rarely       1300   Maternity   \n2      1215433   25        No      Travel_Rarely        622  Cardiology   \n3      1375351   33        No      Travel_Rarely        922   Maternity   \n4      1028734   39        No  Travel_Frequently        505   Maternity   \n5      1863408   27        No         Non-Travel        210  Cardiology   \n6      1316836   32        No         Non-Travel       1200   Maternity   \n7      1574111   33        No      Travel_Rarely        392  Cardiology   \n8      1143717   34        No      Travel_Rarely        511  Cardiology   \n9      1474227   25        No      Travel_Rarely        383  Cardiology   \n10     1745305   29       Yes  Travel_Frequently        746  Cardiology   \n11     1127107   32       Yes      Travel_Rarely        515   Maternity   \n12     1808720   45        No  Travel_Frequently       1297   Neurology   \n13     1620322   26        No      Travel_Rarely       1330   Neurology   \n14     1450885   43        No  Travel_Frequently        957   Maternity   \n\n    DistanceFromHome  Education    EducationField  EmployeeCount  ...  \\\n0                  2          4     Life Sciences              1  ...   \n1                 24          2  Technical Degree              1  ...   \n2                 13          1           Medical              1  ...   \n3                  1          5           Medical              1  ...   \n4                  2          4  Technical Degree              1  ...   \n5                  1          1         Marketing              1  ...   \n6                  1          4  Technical Degree              1  ...   \n7                  2          4           Medical              1  ...   \n8                  3          2     Life Sciences              1  ...   \n9                  9          2     Life Sciences              1  ...   \n10                24          3  Technical Degree              1  ...   \n11                 1          3     Life Sciences              1  ...   \n12                 1          4           Medical              1  ...   \n13                21          3           Medical              1  ...   \n14                28          3           Medical              1  ...   \n\n    RelationshipSatisfaction StandardHours  Shift  TotalWorkingYears  \\\n0                          4            80      0                 21   \n1                          1            80      2                  9   \n2                          3            80      0                  7   \n3                          3            80      1                 10   \n4                          4            80      0                 20   \n5                          4            80      1                  6   \n6                          2            80      1                  9   \n7                          3            80      2                  6   \n8                          1            80      0                  6   \n9                          1            80      0                  6   \n10                         4            80      0                  1   \n11                         4            80      0                  4   \n12                         3            80      0                 12   \n13                         3            80      1                  1   \n14                         4            80      0                 18   \n\n    TrainingTimesLastYear WorkLifeBalance  YearsAtCompany YearsInCurrentRole  \\\n0                       2               3              20                 15   \n1                       3               3               9                  8   \n2                       1               3               7                  4   \n3                       2               3               6                  1   \n4                       1               3              19                  6   \n5                       0               3               5                  4   \n6                       3               2               6                  5   \n7                       5               3               6                  2   \n8                       3               3               2                  2   \n9                       2               3               3                  2   \n10                      3               3               1                  0   \n11                      2               1               3                  2   \n12                      3               3               4                  2   \n13                      0               2               1                  1   \n14                      2               3               3                  2   \n\n    YearsSinceLastPromotion  YearsWithCurrManager  \n0                         1                    12  \n1                         4                     7  \n2                         0                     6  \n3                         0                     5  \n4                        11                     8  \n5                         1                     4  \n6                         1                     2  \n7                         0                     4  \n8                         2                     2  \n9                         2                     2  \n10                        0                     0  \n11                        1                     2  \n12                        0                     3  \n13                        0                     0  \n14                        1                     2  \n\n[15 rows x 35 columns]",
      "text/html": "<div>\n<style scoped>\n    .dataframe tbody tr th:only-of-type {\n        vertical-align: middle;\n    }\n\n    .dataframe tbody tr th {\n        vertical-align: top;\n    }\n\n    .dataframe thead th {\n        text-align: right;\n    }\n</style>\n<table border=\"1\" class=\"dataframe\">\n  <thead>\n    <tr style=\"text-align: right;\">\n      <th></th>\n      <th>EmployeeID</th>\n      <th>Age</th>\n      <th>Attrition</th>\n      <th>BusinessTravel</th>\n      <th>DailyRate</th>\n      <th>Department</th>\n      <th>DistanceFromHome</th>\n      <th>Education</th>\n      <th>EducationField</th>\n      <th>EmployeeCount</th>\n      <th>...</th>\n      <th>RelationshipSatisfaction</th>\n      <th>StandardHours</th>\n      <th>Shift</th>\n      <th>TotalWorkingYears</th>\n      <th>TrainingTimesLastYear</th>\n      <th>WorkLifeBalance</th>\n      <th>YearsAtCompany</th>\n      <th>YearsInCurrentRole</th>\n      <th>YearsSinceLastPromotion</th>\n      <th>YearsWithCurrManager</th>\n    </tr>\n  </thead>\n  <tbody>\n    <tr>\n      <th>0</th>\n      <td>1317087</td>\n      <td>40</td>\n      <td>No</td>\n      <td>Travel_Rarely</td>\n      <td>1398</td>\n      <td>Cardiology</td>\n      <td>2</td>\n      <td>4</td>\n      <td>Life Sciences</td>\n      <td>1</td>\n      <td>...</td>\n      <td>4</td>\n      <td>80</td>\n      <td>0</td>\n      <td>21</td>\n      <td>2</td>\n      <td>3</td>\n      <td>20</td>\n      <td>15</td>\n      <td>1</td>\n      <td>12</td>\n    </tr>\n    <tr>\n      <th>1</th>\n      <td>1548175</td>\n      <td>40</td>\n      <td>No</td>\n      <td>Travel_Rarely</td>\n      <td>1300</td>\n      <td>Maternity</td>\n      <td>24</td>\n      <td>2</td>\n      <td>Technical Degree</td>\n      <td>1</td>\n      <td>...</td>\n      <td>1</td>\n      <td>80</td>\n      <td>2</td>\n      <td>9</td>\n      <td>3</td>\n      <td>3</td>\n      <td>9</td>\n      <td>8</td>\n      <td>4</td>\n      <td>7</td>\n    </tr>\n    <tr>\n      <th>2</th>\n      <td>1215433</td>\n      <td>25</td>\n      <td>No</td>\n      <td>Travel_Rarely</td>\n      <td>622</td>\n      <td>Cardiology</td>\n      <td>13</td>\n      <td>1</td>\n      <td>Medical</td>\n      <td>1</td>\n      <td>...</td>\n      <td>3</td>\n      <td>80</td>\n      <td>0</td>\n      <td>7</td>\n      <td>1</td>\n      <td>3</td>\n      <td>7</td>\n      <td>4</td>\n      <td>0</td>\n      <td>6</td>\n    </tr>\n    <tr>\n      <th>3</th>\n      <td>1375351</td>\n      <td>33</td>\n      <td>No</td>\n      <td>Travel_Rarely</td>\n      <td>922</td>\n      <td>Maternity</td>\n      <td>1</td>\n      <td>5</td>\n      <td>Medical</td>\n      <td>1</td>\n      <td>...</td>\n      <td>3</td>\n      <td>80</td>\n      <td>1</td>\n      <td>10</td>\n      <td>2</td>\n      <td>3</td>\n      <td>6</td>\n      <td>1</td>\n      <td>0</td>\n      <td>5</td>\n    </tr>\n    <tr>\n      <th>4</th>\n      <td>1028734</td>\n      <td>39</td>\n      <td>No</td>\n      <td>Travel_Frequently</td>\n      <td>505</td>\n      <td>Maternity</td>\n      <td>2</td>\n      <td>4</td>\n      <td>Technical Degree</td>\n      <td>1</td>\n      <td>...</td>\n      <td>4</td>\n      <td>80</td>\n      <td>0</td>\n      <td>20</td>\n      <td>1</td>\n      <td>3</td>\n      <td>19</td>\n      <td>6</td>\n      <td>11</td>\n      <td>8</td>\n    </tr>\n    <tr>\n      <th>5</th>\n      <td>1863408</td>\n      <td>27</td>\n      <td>No</td>\n      <td>Non-Travel</td>\n      <td>210</td>\n      <td>Cardiology</td>\n      <td>1</td>\n      <td>1</td>\n      <td>Marketing</td>\n      <td>1</td>\n      <td>...</td>\n      <td>4</td>\n      <td>80</td>\n      <td>1</td>\n      <td>6</td>\n      <td>0</td>\n      <td>3</td>\n      <td>5</td>\n      <td>4</td>\n      <td>1</td>\n      <td>4</td>\n    </tr>\n    <tr>\n      <th>6</th>\n      <td>1316836</td>\n      <td>32</td>\n      <td>No</td>\n      <td>Non-Travel</td>\n      <td>1200</td>\n      <td>Maternity</td>\n      <td>1</td>\n      <td>4</td>\n      <td>Technical Degree</td>\n      <td>1</td>\n      <td>...</td>\n      <td>2</td>\n      <td>80</td>\n      <td>1</td>\n      <td>9</td>\n      <td>3</td>\n      <td>2</td>\n      <td>6</td>\n      <td>5</td>\n      <td>1</td>\n      <td>2</td>\n    </tr>\n    <tr>\n      <th>7</th>\n      <td>1574111</td>\n      <td>33</td>\n      <td>No</td>\n      <td>Travel_Rarely</td>\n      <td>392</td>\n      <td>Cardiology</td>\n      <td>2</td>\n      <td>4</td>\n      <td>Medical</td>\n      <td>1</td>\n      <td>...</td>\n      <td>3</td>\n      <td>80</td>\n      <td>2</td>\n      <td>6</td>\n      <td>5</td>\n      <td>3</td>\n      <td>6</td>\n      <td>2</td>\n      <td>0</td>\n      <td>4</td>\n    </tr>\n    <tr>\n      <th>8</th>\n      <td>1143717</td>\n      <td>34</td>\n      <td>No</td>\n      <td>Travel_Rarely</td>\n      <td>511</td>\n      <td>Cardiology</td>\n      <td>3</td>\n      <td>2</td>\n      <td>Life Sciences</td>\n      <td>1</td>\n      <td>...</td>\n      <td>1</td>\n      <td>80</td>\n      <td>0</td>\n      <td>6</td>\n      <td>3</td>\n      <td>3</td>\n      <td>2</td>\n      <td>2</td>\n      <td>2</td>\n      <td>2</td>\n    </tr>\n    <tr>\n      <th>9</th>\n      <td>1474227</td>\n      <td>25</td>\n      <td>No</td>\n      <td>Travel_Rarely</td>\n      <td>383</td>\n      <td>Cardiology</td>\n      <td>9</td>\n      <td>2</td>\n      <td>Life Sciences</td>\n      <td>1</td>\n      <td>...</td>\n      <td>1</td>\n      <td>80</td>\n      <td>0</td>\n      <td>6</td>\n      <td>2</td>\n      <td>3</td>\n      <td>3</td>\n      <td>2</td>\n      <td>2</td>\n      <td>2</td>\n    </tr>\n    <tr>\n      <th>10</th>\n      <td>1745305</td>\n      <td>29</td>\n      <td>Yes</td>\n      <td>Travel_Frequently</td>\n      <td>746</td>\n      <td>Cardiology</td>\n      <td>24</td>\n      <td>3</td>\n      <td>Technical Degree</td>\n      <td>1</td>\n      <td>...</td>\n      <td>4</td>\n      <td>80</td>\n      <td>0</td>\n      <td>1</td>\n      <td>3</td>\n      <td>3</td>\n      <td>1</td>\n      <td>0</td>\n      <td>0</td>\n      <td>0</td>\n    </tr>\n    <tr>\n      <th>11</th>\n      <td>1127107</td>\n      <td>32</td>\n      <td>Yes</td>\n      <td>Travel_Rarely</td>\n      <td>515</td>\n      <td>Maternity</td>\n      <td>1</td>\n      <td>3</td>\n      <td>Life Sciences</td>\n      <td>1</td>\n      <td>...</td>\n      <td>4</td>\n      <td>80</td>\n      <td>0</td>\n      <td>4</td>\n      <td>2</td>\n      <td>1</td>\n      <td>3</td>\n      <td>2</td>\n      <td>1</td>\n      <td>2</td>\n    </tr>\n    <tr>\n      <th>12</th>\n      <td>1808720</td>\n      <td>45</td>\n      <td>No</td>\n      <td>Travel_Frequently</td>\n      <td>1297</td>\n      <td>Neurology</td>\n      <td>1</td>\n      <td>4</td>\n      <td>Medical</td>\n      <td>1</td>\n      <td>...</td>\n      <td>3</td>\n      <td>80</td>\n      <td>0</td>\n      <td>12</td>\n      <td>3</td>\n      <td>3</td>\n      <td>4</td>\n      <td>2</td>\n      <td>0</td>\n      <td>3</td>\n    </tr>\n    <tr>\n      <th>13</th>\n      <td>1620322</td>\n      <td>26</td>\n      <td>No</td>\n      <td>Travel_Rarely</td>\n      <td>1330</td>\n      <td>Neurology</td>\n      <td>21</td>\n      <td>3</td>\n      <td>Medical</td>\n      <td>1</td>\n      <td>...</td>\n      <td>3</td>\n      <td>80</td>\n      <td>1</td>\n      <td>1</td>\n      <td>0</td>\n      <td>2</td>\n      <td>1</td>\n      <td>1</td>\n      <td>0</td>\n      <td>0</td>\n    </tr>\n    <tr>\n      <th>14</th>\n      <td>1450885</td>\n      <td>43</td>\n      <td>No</td>\n      <td>Travel_Frequently</td>\n      <td>957</td>\n      <td>Maternity</td>\n      <td>28</td>\n      <td>3</td>\n      <td>Medical</td>\n      <td>1</td>\n      <td>...</td>\n      <td>4</td>\n      <td>80</td>\n      <td>0</td>\n      <td>18</td>\n      <td>2</td>\n      <td>3</td>\n      <td>3</td>\n      <td>2</td>\n      <td>1</td>\n      <td>2</td>\n    </tr>\n  </tbody>\n</table>\n<p>15 rows × 35 columns</p>\n</div>"
     },
     "execution_count": 106,
     "metadata": {},
     "output_type": "execute_result"
    }
   ],
   "source": [
    "df_train = pd.read_csv('train.csv')\n",
    "df_test = pd.read_csv('test.csv')\n",
    "df_train[0:15]"
   ],
   "metadata": {
    "collapsed": false,
    "pycharm": {
     "name": "#%%\n"
    }
   }
  },
  {
   "cell_type": "markdown",
   "source": [
    "This function transforms all the data into numerical values"
   ],
   "metadata": {
    "collapsed": false,
    "pycharm": {
     "name": "#%% md\n"
    }
   }
  },
  {
   "cell_type": "code",
   "execution_count": 107,
   "outputs": [],
   "source": [
    "def data_renaming(df, renames_dict, features=None):\n",
    "    if features is None:\n",
    "        df = df.replace({**renames_dict})\n",
    "    else:\n",
    "        for i, feature in enumerate(features):\n",
    "            df[feature] = df[feature].replace({**renames_dict[i]})\n",
    "    return   df"
   ],
   "metadata": {
    "collapsed": false,
    "pycharm": {
     "name": "#%%\n"
    }
   }
  },
  {
   "cell_type": "markdown",
   "source": [
    "Preprocessing data: сщтмукештп all string values into numerical values."
   ],
   "metadata": {
    "collapsed": false,
    "pycharm": {
     "name": "#%% md\n"
    }
   }
  },
  {
   "cell_type": "code",
   "execution_count": 108,
   "outputs": [],
   "source": [
    "features = [\n",
    "    'BusinessTravel',\n",
    "    'Department',\n",
    "    'EducationField',\n",
    "    'Gender',\n",
    "    'JobRole',\n",
    "    'MaritalStatus',\n",
    "    'OverTime',\n",
    "]\n",
    "renames = [\n",
    "    {'Travel_Rarely': 0.5, 'Travel_Frequently': 1, 'Non-Travel': 0},\n",
    "    {'Cardiology': 0, 'Maternity': 1, 'Neurology': 2},\n",
    "    {'Life Sciences': 0, 'Medical': 1, 'Marketing': 2, 'Technical Degree': 3,\n",
    "     'Human Resources': 4, 'Other': 5},\n",
    "    {'Male': 0, 'Female': 1},\n",
    "    {'Nurse': 1, 'Other': 0, 'Therapist': 2, 'Administrative': 3, 'Admin': 4},\n",
    "    {'Married': 0, 'Single': 1, 'Divorced': 2},\n",
    "    {'No': 0, 'Yes' : 1},\n",
    "]\n",
    "data_train_num = data_renaming(df_train, renames, features)\n",
    "data_train_num = data_renaming(df_train, [{'No': 0, 'Yes' : 1}], ['Attrition'])\n",
    "data_test_num = data_renaming(df_test, renames, features)"
   ],
   "metadata": {
    "collapsed": false,
    "pycharm": {
     "name": "#%%\n"
    }
   }
  },
  {
   "cell_type": "markdown",
   "source": [
    "Deleting ['Over18', 'EmployeeCount', 'StandardHours']  since they carry 0 info (all the same)."
   ],
   "metadata": {
    "collapsed": false,
    "pycharm": {
     "name": "#%% md\n"
    }
   }
  },
  {
   "cell_type": "code",
   "execution_count": 109,
   "outputs": [],
   "source": [
    "def delete_useless_data(data, features):\n",
    "    return data.drop(features, axis=1)\n",
    "\n",
    "features = ['Over18', 'EmployeeCount', 'StandardHours']\n",
    "data_train_num_useful = delete_useless_data(data_train_num, features)\n",
    "data_test_num_useful = delete_useless_data(data_test_num, features)"
   ],
   "metadata": {
    "collapsed": false,
    "pycharm": {
     "name": "#%%\n"
    }
   }
  },
  {
   "cell_type": "markdown",
   "source": [
    "Rescaling all the features into [0, 1] diapason."
   ],
   "metadata": {
    "collapsed": false,
    "pycharm": {
     "name": "#%% md\n"
    }
   }
  },
  {
   "cell_type": "code",
   "execution_count": 113,
   "outputs": [
    {
     "name": "stdout",
     "output_type": "stream",
     "text": [
      "[[0.70043927 0.57142857 0.5        ... 0.16666667 0.         0.23529412]\n",
      " [0.73527667 0.26190476 0.5        ... 0.         0.         0.        ]\n",
      " [0.57519093 0.47619048 0.         ... 0.38888889 0.46666667 0.29411765]\n",
      " ...\n",
      " [0.712923   0.26190476 0.5        ... 0.11111111 0.13333333 0.11764706]\n",
      " [0.61017463 0.38095238 0.         ... 0.11111111 0.06666667 0.11764706]\n",
      " [0.12573255 0.45238095 0.5        ... 0.05555556 0.         0.11764706]]\n"
     ]
    }
   ],
   "source": [
    "from sklearn.preprocessing import MinMaxScaler\n",
    "\n",
    "def rescaler_data(data, data_train, range=(0,1)):\n",
    "    min_max_scaler = MinMaxScaler(feature_range=range)\n",
    "    min_max_scaler.fit(data_train)\n",
    "    return min_max_scaler.transform(data)\n",
    "\n",
    "X_train_num_useful = data_train_num_useful.drop('Attrition', axis=1)\n",
    "y_train = data_train_num_useful['Attrition']\n",
    "X_train = rescaler_data(X_train_num_useful, X_train_num_useful)\n",
    "X_test = rescaler_data(data_test_num_useful, X_train_num_useful)\n",
    "print(X_test)"
   ],
   "metadata": {
    "collapsed": false,
    "pycharm": {
     "name": "#%%\n"
    }
   }
  },
  {
   "cell_type": "markdown",
   "source": [
    "Looking at the correlations between different features."
   ],
   "metadata": {
    "collapsed": false,
    "pycharm": {
     "name": "#%% md\n"
    }
   }
  },
  {
   "cell_type": "code",
   "execution_count": null,
   "outputs": [],
   "source": [],
   "metadata": {
    "collapsed": false,
    "pycharm": {
     "name": "#%%\n"
    }
   }
  }
 ],
 "metadata": {
  "kernelspec": {
   "display_name": "Python 3",
   "language": "python",
   "name": "python3"
  },
  "language_info": {
   "codemirror_mode": {
    "name": "ipython",
    "version": 2
   },
   "file_extension": ".py",
   "mimetype": "text/x-python",
   "name": "python",
   "nbconvert_exporter": "python",
   "pygments_lexer": "ipython2",
   "version": "2.7.6"
  }
 },
 "nbformat": 4,
 "nbformat_minor": 0
}