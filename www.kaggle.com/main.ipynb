{
 "cells": [
  {
   "cell_type": "code",
   "execution_count": 374,
   "metadata": {
    "collapsed": true
   },
   "outputs": [],
   "source": [
    "# This Python 3 environment comes with many helpful analytics libraries installed\n",
    "# It is defined by the kaggle/python Docker image: https://github.com/kaggle/docker-python\n",
    "# For example, here's several helpful packages to load\n",
    "\n",
    "import numpy as np # linear algebra\n",
    "import pandas as pd # data processing, CSV file I/O (e.g. pd.read_csv)\n",
    "import matplotlib.pyplot as plt\n",
    "# Input data files are available in the read-only \"../input/\" directory\n",
    "# For example, running this (by clicking run or pressing Shift+Enter) will list all files under the input directory\n",
    "\n",
    "import os\n",
    "for dirname, _, filenames in os.walk('/kaggle/input'):\n",
    "    for filename in filenames:\n",
    "        print(os.path.join(dirname, filename))\n",
    "\n",
    "# You can write up to 20GB to the current directory (/kaggle/working/) that gets preserved as output when you create a version using \"Save & Run All\"\n",
    "# You can also write temporary files to /kaggle/temp/, but they won't be saved outside of the current session"
   ]
  },
  {
   "cell_type": "code",
   "execution_count": 375,
   "outputs": [],
   "source": [
    "########################################################"
   ],
   "metadata": {
    "collapsed": false,
    "pycharm": {
     "name": "#%%\n"
    }
   }
  },
  {
   "cell_type": "markdown",
   "source": [
    "'Attrition' - Yes, No предсказываем\n",
    "\n",
    "1) Нужно весть препоцесс в одну функцию засунуть, чтобы он работал на что угодно."
   ],
   "metadata": {
    "collapsed": false,
    "pycharm": {
     "name": "#%% md\n"
    }
   }
  },
  {
   "cell_type": "markdown",
   "source": [
    "Loading dataset."
   ],
   "metadata": {
    "collapsed": false
   }
  },
  {
   "cell_type": "code",
   "execution_count": 376,
   "outputs": [],
   "source": [
    "df_train = pd.read_csv('train.csv')\n",
    "df_test = pd.read_csv('test.csv')\n",
    "# df_train[0:15]"
   ],
   "metadata": {
    "collapsed": false,
    "pycharm": {
     "name": "#%%\n"
    }
   }
  },
  {
   "cell_type": "markdown",
   "source": [
    "This function transforms all the data into numerical values"
   ],
   "metadata": {
    "collapsed": false,
    "pycharm": {
     "name": "#%% md\n"
    }
   }
  },
  {
   "cell_type": "code",
   "execution_count": 377,
   "outputs": [],
   "source": [
    "def data_renaming(df, renames_dict, features=None):\n",
    "    if features is None:\n",
    "        df = df.replace({**renames_dict})\n",
    "    else:\n",
    "        for i, feature in enumerate(features):\n",
    "            df[feature] = df[feature].replace({**renames_dict[i]})\n",
    "    return   df"
   ],
   "metadata": {
    "collapsed": false,
    "pycharm": {
     "name": "#%%\n"
    }
   }
  },
  {
   "cell_type": "markdown",
   "source": [
    "Let's first put all"
   ],
   "metadata": {
    "collapsed": false
   }
  },
  {
   "cell_type": "markdown",
   "source": [
    "Preprocessing data: converting all string values into numerical values."
   ],
   "metadata": {
    "collapsed": false,
    "pycharm": {
     "name": "#%% md\n"
    }
   }
  },
  {
   "cell_type": "code",
   "execution_count": 378,
   "outputs": [],
   "source": [
    "features = [\n",
    "    'BusinessTravel',  # 1\n",
    "    'Department',  # 2\n",
    "    'EducationField',  # 3\n",
    "    'Gender',  # 4\n",
    "    'JobRole',  # 5\n",
    "    'MaritalStatus',  # 6\n",
    "    'OverTime',  # 7\n",
    "]\n",
    "renames = [\n",
    "    {'Travel_Rarely': 0.5, 'Travel_Frequently': 1, 'Non-Travel': 0},  # 1\n",
    "    {'Cardiology': 0, 'Maternity': 1, 'Neurology': 2},  # 2\n",
    "    {'Life Sciences': 0, 'Medical': 1, 'Marketing': 2, 'Technical Degree': 3,\n",
    "     'Human Resources': 4, 'Other': 5},  # 3\n",
    "    {'Male': 0, 'Female': 1},  # 4\n",
    "    {'Nurse': 1, 'Other': 0, 'Therapist': 2, 'Administrative': 3, 'Admin': 4},  # 5\n",
    "    {'Married': 0, 'Single': 1, 'Divorced': 2},  # 6\n",
    "    {'No': 0, 'Yes' : 1},  # 7\n",
    "]\n",
    "data_train_num = data_renaming(df_train, renames, features)\n",
    "data_train_num = data_renaming(data_train_num, [{'No': 0, 'Yes' : 1}], ['Attrition'])\n",
    "data_test_num = data_renaming(df_test, renames, features)"
   ],
   "metadata": {
    "collapsed": false,
    "pycharm": {
     "name": "#%%\n"
    }
   }
  },
  {
   "cell_type": "markdown",
   "source": [
    "Relocating all \"non-numerical feature\" (features with multiple choices and not numerical values)\n",
    "to the end of the data base to make it easier to process later."
   ],
   "metadata": {
    "collapsed": false,
    "pycharm": {
     "name": "#%% md\n"
    }
   }
  },
  {
   "cell_type": "code",
   "execution_count": 379,
   "outputs": [],
   "source": [
    "def features_move_to_end(data, features):\n",
    "    new_data = data[[c for c in data if c not in features] + features]\n",
    "    return new_data\n",
    "\n",
    "features_end = [\n",
    "    'Department',  # 2\n",
    "    'EducationField',  # 3\n",
    "    'JobRole',  # 5\n",
    "    'MaritalStatus',  # 6\n",
    "]\n",
    "data_train_num_sort = features_move_to_end(data_train_num, features_end)\n",
    "data_test_num_sort = features_move_to_end(data_test_num, features_end)"
   ],
   "metadata": {
    "collapsed": false,
    "pycharm": {
     "name": "#%%\n"
    }
   }
  },
  {
   "cell_type": "markdown",
   "source": [
    "Deleting ['Over18', 'EmployeeCount', 'StandardHours']  since they carry 0 info (all the same)."
   ],
   "metadata": {
    "collapsed": false
   }
  },
  {
   "cell_type": "code",
   "execution_count": 380,
   "outputs": [],
   "source": [
    "def delete_useless_data(data, features):\n",
    "    return data.drop(features, axis=1)\n",
    "\n",
    "features_delete = ['Over18', 'EmployeeCount', 'StandardHours']\n",
    "data_train_num_useful = delete_useless_data(data_train_num_sort, features_delete)\n",
    "data_test_num_useful = delete_useless_data(data_test_num_sort, features_delete)"
   ],
   "metadata": {
    "collapsed": false,
    "pycharm": {
     "name": "#%%\n"
    }
   }
  },
  {
   "cell_type": "markdown",
   "source": [
    "Rescaling all the features into [0, 1] diapason."
   ],
   "metadata": {
    "collapsed": false,
    "pycharm": {
     "name": "#%% md\n"
    }
   }
  },
  {
   "cell_type": "code",
   "execution_count": 381,
   "outputs": [
    {
     "name": "stdout",
     "output_type": "stream",
     "text": [
      "[[0.70043927 0.57142857 0.5        ... 0.2        0.25       1.        ]\n",
      " [0.73527667 0.26190476 0.5        ... 0.         0.         0.5       ]\n",
      " [0.57519093 0.47619048 0.         ... 0.         0.25       0.        ]\n",
      " ...\n",
      " [0.712923   0.26190476 0.5        ... 0.4        0.         1.        ]\n",
      " [0.61017463 0.38095238 0.         ... 0.4        0.25       0.        ]\n",
      " [0.12573255 0.45238095 0.5        ... 0.2        0.         0.        ]]\n"
     ]
    }
   ],
   "source": [
    "from sklearn.preprocessing import MinMaxScaler\n",
    "\n",
    "def rescaler_data(data, data_train, range=(0,1)):\n",
    "    min_max_scaler = MinMaxScaler(feature_range=range)\n",
    "    min_max_scaler.fit(data_train)\n",
    "    return min_max_scaler.transform(data)\n",
    "\n",
    "X_train_num_useful = data_train_num_useful.drop('Attrition', axis=1)\n",
    "y_train = data_train_num_useful['Attrition']\n",
    "X_train = rescaler_data(X_train_num_useful, X_train_num_useful)\n",
    "X_test = rescaler_data(data_test_num_useful, X_train_num_useful)\n",
    "print(X_test)"
   ],
   "metadata": {
    "collapsed": false,
    "pycharm": {
     "name": "#%%\n"
    }
   }
  },
  {
   "cell_type": "markdown",
   "source": [
    "Looking at the correlations between different features."
   ],
   "metadata": {
    "collapsed": false,
    "pycharm": {
     "name": "#%% md\n"
    }
   }
  },
  {
   "cell_type": "code",
   "execution_count": 382,
   "outputs": [
    {
     "name": "stdout",
     "output_type": "stream",
     "text": [
      "0.06947372341147388\n"
     ]
    }
   ],
   "source": [
    "print(np.abs(np.corrcoef(X_train.T)[0][1:]).max())"
   ],
   "metadata": {
    "collapsed": false,
    "pycharm": {
     "name": "#%%\n"
    }
   }
  },
  {
   "cell_type": "markdown",
   "source": [
    "Plotting ROC curves for all the individual features."
   ],
   "metadata": {
    "collapsed": false,
    "pycharm": {
     "name": "#%% md\n"
    }
   }
  },
  {
   "cell_type": "code",
   "execution_count": 383,
   "outputs": [
    {
     "name": "stdout",
     "output_type": "stream",
     "text": [
      "#0: 0.5230563588047652), score=0.8813432835820896\n",
      "#1: 0.749817604737484), score=0.8813432835820896\n",
      "#2: 0.5551286352574036), score=0.8813432835820896\n",
      "#3: 0.5507857641163283), score=0.8813432835820896\n",
      "#4: 0.5883219103307611), score=0.8813432835820896\n",
      "#5: 0.5284882761118124), score=0.8813432835820896\n",
      "#6: 0.5987836765559514), score=0.8813432835820896\n",
      "#7: 0.508744321782521), score=0.8813432835820896\n",
      "#8: 0.5296731796420261), score=0.8813432835820896\n",
      "#9: 0.6234855867802044), score=0.8813432835820896\n",
      "#10: 0.7162808407755926), score=0.8813432835820896\n",
      "#11: 0.5650099318880173), score=0.8813432835820896\n",
      "#12: 0.737193722407724), score=0.8813432835820896\n",
      "#13: 0.5297956640518908), score=0.8813432835820896\n",
      "#14: 0.5), score=0.8813432835820896\n",
      "#15: 0.7290618226745269), score=0.8813432835820896\n",
      "#16: 0.5148738676848849), score=0.8813432835820896\n",
      "#17: 0.5043029305726412), score=0.8813432835820896\n",
      "#18: 0.5357148562938348), score=0.8813432835820896\n",
      "#19: 0.6567507548767434), score=0.8813432835820896\n",
      "#20: 0.7553214150677126), score=0.8813432835820896\n",
      "#21: 0.5479712853940004), score=0.8813432835820896\n",
      "#22: 0.556444011311169), score=0.8813432835820896\n",
      "#23: 0.7327896090617161), score=0.8813432835820896\n",
      "#24: 0.7100128342359902), score=0.8813432835820896\n",
      "#25: 0.5929922941329968), score=0.8813432835820896\n",
      "#26: 0.7041708604263522), score=0.8813432835820896\n",
      "#27: 0.5482695083049756), score=0.8813432835820896\n",
      "#28: 0.5144957636370414), score=0.8813432835820896\n",
      "#29: 0.6308399767812163), score=0.8813432835820896\n",
      "#30: 0.5354672247695429), score=0.8813432835820896\n",
      "[0.5230563588047652, 0.749817604737484, 0.5551286352574036, 0.5507857641163283, 0.5883219103307611, 0.5284882761118124, 0.5987836765559514, 0.508744321782521, 0.5296731796420261, 0.6234855867802044, 0.7162808407755926, 0.5650099318880173, 0.737193722407724, 0.5297956640518908, 0.5, 0.7290618226745269, 0.5148738676848849, 0.5043029305726412, 0.5357148562938348, 0.6567507548767434, 0.7553214150677126, 0.5479712853940004, 0.556444011311169, 0.7327896090617161, 0.7100128342359902, 0.5929922941329968, 0.7041708604263522, 0.5482695083049756, 0.5144957636370414, 0.6308399767812163, 0.5354672247695429]\n"
     ]
    },
    {
     "data": {
      "text/plain": "<Figure size 432x288 with 1 Axes>",
      "image/png": "[encoded data removed]"
     },
     "metadata": {
      "needs_background": "light"
     },
     "output_type": "display_data"
    }
   ],
   "source": [
    "from sklearn import metrics\n",
    "from sklearn.linear_model import LogisticRegression\n",
    "import matplotlib.pyplot as plt\n",
    "\n",
    "# algorithm starting here\n",
    "auc_value = []\n",
    "# print(X_train)\n",
    "for i, x_train in enumerate(np.array(X_train).T):\n",
    "    x_train  = x_train.reshape(-1, 1)\n",
    "    # print(x_train)\n",
    "    log_reg = LogisticRegression(random_state=0, penalty='l1', solver='liblinear').fit(x_train, np.array(y_train))\n",
    "    y_pred = log_reg.predict_proba(x_train)[:, 1]\n",
    "    fpr, tpr, thresholds = metrics.roc_curve(np.array(y_train, dtype=int),  y_pred)\n",
    "    auc = metrics.roc_auc_score(y_train, y_pred)\n",
    "    auc_value.append(auc)\n",
    "    # predict = log_reg.predict(x_train)\n",
    "    # print(predict[predict != 0])\n",
    "    print(f'#{i}: {auc}), score={log_reg.score(x_train, np.array(y_train))}')\n",
    "    plt.plot(fpr,tpr)\n",
    "    plt.ylabel('TP Rate')\n",
    "    plt.xlabel('FP Rate')\n",
    "print(auc_value)\n",
    "plt.grid(True)\n",
    "plt.show()\n",
    "\n",
    "# good: 1, (9), 10, 12, 15, (19), 20, 23, 24, 26, (29)"
   ],
   "metadata": {
    "collapsed": false,
    "pycharm": {
     "name": "#%%\n"
    }
   }
  },
  {
   "cell_type": "code",
   "execution_count": 384,
   "outputs": [
    {
     "name": "stdout",
     "output_type": "stream",
     "text": [
      "[[0.33895688 0.52380952 0.5        ... 0.         0.75       0.        ]\n",
      " [0.60728912 0.52380952 0.5        ... 0.6        0.         1.        ]\n",
      " [0.22091939 0.16666667 0.5        ... 0.2        0.         0.        ]\n",
      " ...\n",
      " [0.73653886 0.26190476 0.5        ... 0.         0.         0.        ]\n",
      " [0.86914553 0.21428571 0.5        ... 0.         0.25       0.5       ]\n",
      " [0.96449261 0.21428571 0.5        ... 0.2        0.25       0.5       ]]\n",
      "[0 1 0 0 0 0 0 0 0 0 0 0 0 0 0 0 0 0 0 0 0 0 0 0 0 0 0 0 0 0 0 0 0 0 0 0 0\n",
      " 0 0 0 0 0 0 0 0 0 0 0 0 0 0 0 0 0 0 1 0 0 0 0 0 0 0 0 0 0 0 0 0 0 0 0 0 0\n",
      " 0 0 0 0 0 0 0 0 0 0 0 0 0 0 0 0 0 0 0 0 0 0 0 0 0 1 0 0 0 0 0 0 0 0 0 0 0\n",
      " 1 0 0 0 0 0 0 0 0 0 0 0 0 0 0 0 0 0 0 1 0 0 0 0 0 0 0 0 0 0 0 0 0 0 0 0 0\n",
      " 0 0 0 0 0 0 0 0 0 0 0 0 0 0 0 0 0 0 0 0 0 0 0 0 0 0 0 0 0 1 0 0 0 0 0 1 0\n",
      " 0 0 0 0 0 0 0 0 0 0 0 1 0 0 0 0 0 0 0 0 0 0 0 0 0 0 0 1 0 0 0 0 0 0 0 0 0\n",
      " 0 0 0 1 0 0 1 0 0 0 0 0 0 0 0 0 0 0 0 0 0 0 0 0 0 0 0 0 0 0 0 0 0 0 0 0 0\n",
      " 0 0 0 0 0 0 0 0 0 0 1 0 0 0 0 0 0 0 0 0 0 0 0 0 0 0 0 0 0 0 0 0 0 0 0 0 0\n",
      " 0 0 0 0 0 0 0 0 0 0 1 0 0 0 0 0 0 0 0 0 0 1 0 0 0 0 0 0 0 0 0 0 0 0 0 0 0\n",
      " 0 0 0]\n"
     ]
    }
   ],
   "source": [
    "good = [1, 10, 12, 15, 20, 23, 24, 26]\n",
    "print(X_train)\n",
    "log_reg = LogisticRegression(random_state=0).fit(X_train.T[good].T, np.array(y_train))\n",
    "log_reg.score(X_train.T[good].T, np.array(y_train))\n",
    "prediction = log_reg.predict(X_test.T[good].T)\n",
    "print(prediction)\n",
    "# log_reg.score(X_test.T[good].T)"
   ],
   "metadata": {
    "collapsed": false,
    "pycharm": {
     "name": "#%%\n"
    }
   }
  },
  {
   "cell_type": "code",
   "execution_count": 385,
   "outputs": [
    {
     "name": "stdout",
     "output_type": "stream",
     "text": [
      "[[0.33895688 0.52380952 0.5        ... 0.         0.75       0.        ]\n",
      " [0.60728912 0.52380952 0.5        ... 0.6        0.         1.        ]\n",
      " [0.22091939 0.16666667 0.5        ... 0.2        0.         0.        ]\n",
      " ...\n",
      " [0.73653886 0.26190476 0.5        ... 0.         0.         0.        ]\n",
      " [0.86914553 0.21428571 0.5        ... 0.         0.25       0.5       ]\n",
      " [0.96449261 0.21428571 0.5        ... 0.2        0.25       0.5       ]]\n",
      "[0 1 0 0 0 0 0 1 0 0 0 0 0 0 0 0 0 0 0 0 0 0 1 0 0 0 0 0 0 0 0 0 0 0 0 0 0\n",
      " 0 0 0 0 0 0 0 0 0 0 0 0 0 0 0 0 0 0 1 0 0 0 0 0 0 0 0 0 0 0 0 0 0 0 0 0 0\n",
      " 0 0 0 0 0 0 0 0 0 0 0 0 0 0 0 0 0 0 1 0 0 0 0 0 0 1 0 0 0 0 0 0 0 0 0 0 0\n",
      " 1 0 0 0 0 0 0 0 0 0 0 0 0 0 0 0 0 0 0 1 0 0 0 0 0 0 0 0 0 0 0 0 0 0 0 0 0\n",
      " 0 0 0 0 0 0 0 0 0 0 0 0 0 0 0 0 0 0 0 0 0 0 1 0 0 0 0 0 0 1 0 0 0 0 0 0 0\n",
      " 0 0 0 0 0 0 0 0 0 0 0 1 0 0 0 0 0 0 0 0 0 0 0 0 0 0 0 1 0 0 0 0 0 0 0 0 0\n",
      " 0 0 0 1 0 0 1 0 0 0 0 1 0 0 0 0 0 0 0 0 0 0 0 0 0 0 0 0 0 0 0 0 0 0 0 0 0\n",
      " 0 0 0 0 0 0 0 0 0 0 1 0 0 0 0 0 0 0 0 0 0 0 0 0 0 0 0 0 0 0 0 0 0 0 0 1 1\n",
      " 0 0 0 0 0 0 0 0 0 0 1 0 0 0 0 0 0 0 0 0 0 1 0 0 0 0 1 0 0 0 0 0 0 0 0 0 0\n",
      " 0 0 0]\n"
     ]
    }
   ],
   "source": [
    "from sklearn.ensemble import RandomForestClassifier\n",
    "good = [1, 10, 12, 15, 20, 23, 24, 26]\n",
    "print(X_train)\n",
    "log_reg = RandomForestClassifier(random_state=0).fit(X_train.T[good].T, np.array(y_train))\n",
    "log_reg.score(X_train.T[good].T, np.array(y_train))\n",
    "prediction = log_reg.predict(X_test.T[good].T)\n",
    "print(prediction)"
   ],
   "metadata": {
    "collapsed": false,
    "pycharm": {
     "name": "#%%\n"
    }
   }
  },
  {
   "cell_type": "code",
   "execution_count": 386,
   "outputs": [
    {
     "name": "stdout",
     "output_type": "stream",
     "text": [
      "[[0.33895688 0.52380952 0.5        ... 0.         0.75       0.        ]\n",
      " [0.60728912 0.52380952 0.5        ... 0.6        0.         1.        ]\n",
      " [0.22091939 0.16666667 0.5        ... 0.2        0.         0.        ]\n",
      " ...\n",
      " [0.73653886 0.26190476 0.5        ... 0.         0.         0.        ]\n",
      " [0.86914553 0.21428571 0.5        ... 0.         0.25       0.5       ]\n",
      " [0.96449261 0.21428571 0.5        ... 0.2        0.25       0.5       ]]\n",
      "[0 1 0 0 0 0 0 1 0 0 0 0 0 0 0 0 0 0 0 0 0 0 1 0 0 0 0 0 0 0 0 0 0 0 0 0 0\n",
      " 0 0 0 0 0 0 0 0 0 0 0 0 0 0 0 0 0 0 1 0 0 0 0 0 0 0 0 0 0 0 0 0 0 0 0 0 0\n",
      " 0 0 0 0 0 0 0 0 0 0 0 0 0 0 0 0 0 0 1 0 0 0 0 0 0 1 0 0 0 0 0 0 0 0 0 0 0\n",
      " 1 0 0 0 0 0 0 0 0 0 0 0 0 0 0 0 0 0 0 1 0 0 0 0 0 0 0 0 0 0 0 0 0 0 0 0 0\n",
      " 0 0 0 0 0 0 0 0 0 0 0 0 0 0 0 0 0 0 0 0 0 0 1 0 0 0 0 0 0 1 0 0 0 0 0 0 0\n",
      " 0 0 0 0 0 0 0 0 0 0 0 1 0 0 0 0 0 0 0 0 0 0 0 0 0 0 0 1 0 0 0 0 0 0 0 0 0\n",
      " 0 0 0 1 0 0 1 0 0 0 0 1 0 0 0 0 0 0 0 0 0 0 0 0 0 0 0 0 0 0 0 0 0 0 0 0 0\n",
      " 0 0 0 0 0 0 0 0 0 0 1 0 0 0 0 0 0 0 0 0 0 0 0 0 0 0 0 0 0 0 0 0 0 0 0 1 1\n",
      " 0 0 0 0 0 0 0 0 0 0 1 0 0 0 0 0 0 0 0 0 0 1 0 0 0 0 1 0 0 0 0 0 0 0 0 0 0\n",
      " 0 0 0]\n"
     ]
    }
   ],
   "source": [
    "from sklearn.ensemble import AdaBoostClassifier\n",
    "good = [1, 10, 12, 15, 20, 23, 24, 26]\n",
    "print(X_train)\n",
    "log_reg = AdaBoostClassifier(random_state=0).fit(X_train.T[good].T, np.array(y_train))\n",
    "log_reg.score(X_train.T[good].T, np.array(y_train))\n",
    "prediction = log_reg.predict(X_test.T[good].T)\n",
    "print(prediction)"
   ],
   "metadata": {
    "collapsed": false,
    "pycharm": {
     "name": "#%%\n"
    }
   }
  },
  {
   "cell_type": "code",
   "execution_count": 387,
   "outputs": [],
   "source": [
    "def result_file(prediction, name):\n",
    "    example = pd.read_csv('sample_submission.csv')\n",
    "    example['Predicted'] = prediction\n",
    "    print(name)\n",
    "    example.to_csv(name + '.csv', index=False)"
   ],
   "metadata": {
    "collapsed": false,
    "pycharm": {
     "name": "#%%\n"
    }
   }
  },
  {
   "cell_type": "code",
   "execution_count": 388,
   "outputs": [
    {
     "name": "stdout",
     "output_type": "stream",
     "text": [
      "prediction_RF_2\n",
      "[0 1 0 0 0 0 0 1 0 0 0 0 0 0 0 0 0 0 0 0 0 0 1 0 0 0 0 0 0 0 0 0 0 0 0 0 0\n",
      " 0 0 0 0 0 0 0 0 0 0 0 0 0 0 0 0 0 0 1 0 0 0 0 0 0 0 0 0 0 0 0 0 0 0 0 0 0\n",
      " 0 0 0 0 0 0 0 0 0 0 0 0 0 0 0 0 0 0 1 0 0 0 0 0 0 1 0 0 0 0 0 0 0 0 0 0 0\n",
      " 1 0 0 0 0 0 0 0 0 0 0 0 0 0 0 0 0 0 0 1 0 0 0 0 0 0 0 0 0 0 0 0 0 0 0 0 0\n",
      " 0 0 0 0 0 0 0 0 0 0 0 0 0 0 0 0 0 0 0 0 0 0 1 0 0 0 0 0 0 1 0 0 0 0 0 0 0\n",
      " 0 0 0 0 0 0 0 0 0 0 0 1 0 0 0 0 0 0 0 0 0 0 0 0 0 0 0 1 0 0 0 0 0 0 0 0 0\n",
      " 0 0 0 1 0 0 1 0 0 0 0 1 0 0 0 0 0 0 0 0 0 0 0 0 0 0 0 0 0 0 0 0 0 0 0 0 0\n",
      " 0 0 0 0 0 0 0 0 0 0 1 0 0 0 0 0 0 0 0 0 0 0 0 0 0 0 0 0 0 0 0 0 0 0 0 1 1\n",
      " 0 0 0 0 0 0 0 0 0 0 1 0 0 0 0 0 0 0 0 0 0 1 0 0 0 0 1 0 0 0 0 0 0 0 0 0 0\n",
      " 0 0 0]\n"
     ]
    }
   ],
   "source": [
    "result_file(prediction, 'prediction_RF_2')\n",
    "print(prediction)"
   ],
   "metadata": {
    "collapsed": false,
    "pycharm": {
     "name": "#%%\n"
    }
   }
  }
 ],
 "metadata": {
  "kernelspec": {
   "display_name": "Python 3",
   "language": "python",
   "name": "python3"
  },
  "language_info": {
   "codemirror_mode": {
    "name": "ipython",
    "version": 2
   },
   "file_extension": ".py",
   "mimetype": "text/x-python",
   "name": "python",
   "nbconvert_exporter": "python",
   "pygments_lexer": "ipython2",
   "version": "2.7.6"
  }
 },
 "nbformat": 4,
 "nbformat_minor": 0
}