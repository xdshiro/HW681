{
 "cells": [
  {
   "cell_type": "markdown",
   "metadata": {
    "collapsed": true,
    "pycharm": {
     "name": "#%% md\n"
    }
   },
   "source": [
    "**Dima Tsvetkov**\n",
    "\n",
    "**NetID: dt169**\n",
    "\n",
    "**Homework #4**\n",
    "\n",
    "Agreement 1) This assignment represents my own work. I did not work on this assignment with\n",
    "others. All coding was done by myself.\n",
    "\n",
    "Agreement 2) I understand that if I struggle with this assignment that I will reevaluate whether\n",
    "this is the correct class for me to take. I understand that the homework only gets harder."
   ]
  },
  {
   "cell_type": "markdown",
   "metadata": {},
   "source": [
    "**1 VC dimension of Binary Decision Trees with Fixed Split Points**\n",
    "\n",
    "For identical binary decision trees with l leaves:\n",
    "\n",
    "$$\\text{VC}=l$$,\n",
    "\n",
    "For the lower bound we can distribute every point to it's own leave by choosing the correct\n",
    "$x_i=\\{x_{i1}, x_{i2}...x_{il}\\}$ according to each leaf (i-th leaf has ${\\{x_{i1}, x_{i2}...x_{il}\\}}$\n",
    "feature distribution) and label each leaf as any $y_i$ we need.\n",
    "\n",
    "For example, for the tree of height 3 with 4 leaves we can select 4 points: 00, 01, 10, 11. First split\n",
    "is based on the 1st feature, 2nd split is based on 2nd feature. so all the points are in their own leaves\n",
    "and we can give them any labels from the set {00, 01, 10, 11}.\n",
    "\n",
    "The upper bound can be understood from a simpler example of a tree with 2 leaves. Let's say we have 3 points\n",
    "{00, 10, 11}. If the split is made based on the 1st feature, then 2nd and 3rd points will\n",
    "be in the same leaf, if the split is made based on the 2nd feature - 1st and 2nd points are in the same leaf.\n",
    "In that case there is no possible split that classify 1st point as 1, 2nd point as 0, and 3rd point as 1,\n",
    "because we cannot place 1st and 3rd points into the same leaf.\n",
    "For the points {00, 10, 01} we can use the same logic. So we cannot shatter 3 points.\n",
    "\n",
    "\n",
    "The leafs can be assigned accordingly to any hypothesis,\n",
    "inducing 2 in power of 2d implementations by the class of decision trees"
   ]
  }
 ],
 "metadata": {
  "kernelspec": {
   "display_name": "Python 3",
   "language": "python",
   "name": "python3"
  },
  "language_info": {
   "codemirror_mode": {
    "name": "ipython",
    "version": 3
   },
   "file_extension": ".py",
   "mimetype": "text/x-python",
   "name": "python",
   "nbconvert_exporter": "python",
   "pygments_lexer": "ipython3",
   "version": "3.9.7"
  }
 },
 "nbformat": 4,
 "nbformat_minor": 1
}