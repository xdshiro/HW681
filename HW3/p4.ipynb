{
 "cells": [
  {
   "cell_type": "markdown",
   "source": [
    "# **4 Kernel Power on SVM and Regularized Logistic Regression (Ray)**\n",
    "\n",
    "Generating a dataset with 100 samples and 5,000,000 features from the standard normal distribution."
   ],
   "metadata": {
    "collapsed": false
   }
  },
  {
   "cell_type": "code",
   "execution_count": 1,
   "outputs": [
    {
     "name": "stdout",
     "output_type": "stream",
     "text": [
      "     1.0  59.0  52.0  70.0  67.0  73.0  66.0  72.0  61.0  58.0  ...  66.0.3  \\\n",
      "0    1.0  72.0  62.0  69.0  67.0  78.0  82.0  74.0  65.0  69.0  ...    65.0   \n",
      "1    1.0  71.0  62.0  70.0  64.0  67.0  64.0  79.0  65.0  70.0  ...    73.0   \n",
      "2    1.0  69.0  71.0  70.0  78.0  61.0  63.0  67.0  65.0  59.0  ...    61.0   \n",
      "3    1.0  70.0  66.0  61.0  66.0  61.0  58.0  69.0  69.0  72.0  ...    67.0   \n",
      "4    1.0  57.0  69.0  68.0  75.0  69.0  74.0  73.0  71.0  57.0  ...    63.0   \n",
      "..   ...   ...   ...   ...   ...   ...   ...   ...   ...   ...  ...     ...   \n",
      "261  0.0  74.0  69.0  75.0  70.0  70.0  74.0  77.0  77.0  65.0  ...    66.0   \n",
      "262  0.0  72.0  61.0  64.0  66.0  64.0  59.0  68.0  66.0  76.0  ...    69.0   \n",
      "263  0.0  75.0  73.0  72.0  77.0  68.0  67.0  76.0  73.0  67.0  ...    70.0   \n",
      "264  0.0  59.0  62.0  72.0  74.0  66.0  66.0  74.0  76.0  63.0  ...    65.0   \n",
      "265  0.0  64.0  66.0  68.0  71.0  62.0  64.0  74.0  73.0  63.0  ...    70.0   \n",
      "\n",
      "     56.0.1  62.0  56.0.2  72.0.3  62.0.1  74.0.2  74.0.3  64.0.1  67.0.4  \n",
      "0      71.0  63.0    60.0    69.0    73.0    67.0    71.0    56.0    58.0  \n",
      "1      70.0  66.0    65.0    64.0    55.0    61.0    41.0    51.0    46.0  \n",
      "2      61.0  66.0    65.0    72.0    73.0    68.0    68.0    59.0    63.0  \n",
      "3      69.0  70.0    66.0    70.0    64.0    60.0    55.0    49.0    41.0  \n",
      "4      58.0  69.0    67.0    79.0    77.0    72.0    70.0    61.0    65.0  \n",
      "..      ...   ...     ...     ...     ...     ...     ...     ...     ...  \n",
      "261    67.0  63.0    61.0    71.0    68.0    66.0    65.0    54.0    57.0  \n",
      "262    64.0  67.0    71.0    69.0    68.0    65.0    73.0    56.0    52.0  \n",
      "263    67.0  72.0    71.0    79.0    75.0    77.0    75.0    67.0    71.0  \n",
      "264    71.0  67.0    69.0    77.0    78.0    77.0    76.0    70.0    70.0  \n",
      "265    69.0  68.0    65.0    75.0    72.0    62.0    64.0    57.0    54.0  \n",
      "\n",
      "[266 rows x 45 columns]\n"
     ]
    }
   ],
   "source": [
    "from sklearn.model_selection import train_test_split\n",
    "import pandas as pd\n",
    "data_raw = pd.read_csv('spectf.csv')\n",
    "data_train, data_test = train_test_split(data_raw, test_size=0.20, random_state=0)\n",
    "print(data_raw)"
   ],
   "metadata": {
    "collapsed": false,
    "pycharm": {
     "name": "#%%\n"
    }
   }
  },
  {
   "cell_type": "markdown",
   "source": [
    "**4.1**"
   ],
   "metadata": {
    "collapsed": false,
    "pycharm": {
     "name": "#%% md\n"
    }
   }
  },
  {
   "cell_type": "code",
   "execution_count": null,
   "outputs": [],
   "source": [
    "import numpy as np"
   ],
   "metadata": {
    "collapsed": false,
    "pycharm": {
     "name": "#%%\n"
    }
   }
  }
 ],
 "metadata": {
  "kernelspec": {
   "display_name": "Python 3",
   "language": "python",
   "name": "python3"
  },
  "language_info": {
   "codemirror_mode": {
    "name": "ipython",
    "version": 2
   },
   "file_extension": ".py",
   "mimetype": "text/x-python",
   "name": "python",
   "nbconvert_exporter": "python",
   "pygments_lexer": "ipython2",
   "version": "2.7.6"
  }
 },
 "nbformat": 4,
 "nbformat_minor": 0
}