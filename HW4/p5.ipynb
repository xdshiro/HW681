{
 "cells": [
  {
   "cell_type": "markdown",
   "source": [],
   "metadata": {
    "collapsed": false,
    "pycharm": {
     "name": "#%% md\n"
    }
   }
  },
  {
   "cell_type": "code",
   "execution_count": 148,
   "outputs": [],
   "source": [
    "import torch\n",
    "import torch.nn as nn\n",
    "import torch.nn.functional as F\n",
    "import torchvision\n",
    "import torchvision.transforms as transforms\n",
    "import torch.optim as optim\n",
    "import matplotlib.pyplot as plt\n",
    "import numpy as np\n",
    "from torch.utils.data.dataset import random_split\n",
    "from torchvision import datasets\n",
    "from sklearn.metrics import confusion_matrix\n",
    "import PIL"
   ],
   "metadata": {
    "collapsed": false,
    "pycharm": {
     "name": "#%%\n"
    }
   }
  },
  {
   "cell_type": "code",
   "execution_count": 149,
   "outputs": [],
   "source": [
    "##Do Not Touch This Cell\n",
    "\n",
    "class Net(nn.Module):\n",
    "    def __init__(self):\n",
    "        super(Net, self).__init__()\n",
    "        self.conv1 = nn.Conv2d(3, 8, 5)\n",
    "        self.conv2 = nn.Conv2d(8, 16, 3)\n",
    "        self.bn1 = nn.BatchNorm2d(8)\n",
    "        self.bn2 = nn.BatchNorm2d(16)\n",
    "        self.fc1 = nn.Linear(16*6*6, 120)\n",
    "        self.fc2 = nn.Linear(120, 84)\n",
    "        self.fc3 = nn.Linear(84, 10)\n",
    "\n",
    "    def forward(self, x):\n",
    "        out = F.relu(self.bn1(self.conv1(x)))\n",
    "        out = F.max_pool2d(out, 2)\n",
    "        out = F.relu(self.bn2(self.conv2(out)))\n",
    "        out = F.max_pool2d(out, 2)\n",
    "        out = out.view(out.size(0), -1)\n",
    "        out = F.relu(self.fc1(out))\n",
    "        out = F.relu(self.fc2(out))\n",
    "        out = self.fc3(out)\n",
    "        return out"
   ],
   "metadata": {
    "collapsed": false,
    "pycharm": {
     "name": "#%%\n"
    }
   }
  },
  {
   "cell_type": "code",
   "execution_count": 150,
   "outputs": [
    {
     "name": "stdout",
     "output_type": "stream",
     "text": [
      "Train on CPU...\n"
     ]
    }
   ],
   "source": [
    "##Do Not Touch This Cell\n",
    "\n",
    "device = 'cuda' if torch.cuda.is_available() else 'cpu'\n",
    "net = Net().to(device)\n",
    "optimizer = optim.SGD(net.parameters(), lr=0.01, momentum=0.5)\n",
    "if device =='cuda':\n",
    "    print(\"Train on GPU...\")\n",
    "else:\n",
    "    print(\"Train on CPU...\")"
   ],
   "metadata": {
    "collapsed": false,
    "pycharm": {
     "name": "#%%\n"
    }
   }
  },
  {
   "cell_type": "code",
   "execution_count": 151,
   "outputs": [
    {
     "data": {
      "text/plain": "<torch._C.Generator at 0x2b34bc0b190>"
     },
     "execution_count": 151,
     "metadata": {},
     "output_type": "execute_result"
    }
   ],
   "source": [
    "##Do Not Touch This Cell\n",
    "max_epochs = 50\n",
    "\n",
    "random_seed = 671\n",
    "torch.manual_seed(random_seed)"
   ],
   "metadata": {
    "collapsed": false,
    "pycharm": {
     "name": "#%%\n"
    }
   }
  },
  {
   "cell_type": "code",
   "execution_count": 152,
   "outputs": [
    {
     "name": "stdout",
     "output_type": "stream",
     "text": [
      "Files already downloaded and verified\n",
      "Files already downloaded and verified\n"
     ]
    }
   ],
   "source": [
    "train_transform = transforms.Compose(\n",
    "     [transforms.ToTensor(),\n",
    "     transforms.Normalize((0.4914, 0.4822, 0.4465), (0.2023, 0.1994, 0.2010))])\n",
    "\n",
    "test_transform = transforms.Compose(\n",
    "     [transforms.ToTensor(),\n",
    "     transforms.Normalize((0.4914, 0.4822, 0.4465), (0.2023, 0.1994, 0.2010))])\n",
    "\n",
    "dataset = torchvision.datasets.CIFAR10(root='./data', train=True, download=True, transform=train_transform)\n",
    "##TODO: Split the set into 80% train, 20% validation (there are 50K total images)\n",
    "train_num = 0.8\n",
    "val_num = 0.2\n",
    "train_set, val_set = random_split(dataset, [train_num, val_num])\n",
    "\n",
    "train_loader = torch.utils.data.DataLoader(train_set, batch_size=128, shuffle=True)\n",
    "val_loader = torch.utils.data.DataLoader(val_set, batch_size=128, shuffle=False)\n",
    "\n",
    "test_set = torchvision.datasets.CIFAR10(root='./data', train=False, download=True, transform=test_transform)\n",
    "test_loader = torch.utils.data.DataLoader(test_set, batch_size=1, shuffle=False)\n",
    "\n",
    "classes = ['plane', 'car', 'bird', 'cat', 'deer', 'dog', 'frog', 'horse', 'ship', 'truck']"
   ],
   "metadata": {
    "collapsed": false,
    "pycharm": {
     "name": "#%%\n"
    }
   }
  },
  {
   "cell_type": "markdown",
   "source": [
    "**5.1**"
   ],
   "metadata": {
    "collapsed": false,
    "pycharm": {
     "name": "#%% md\n"
    }
   }
  },
  {
   "cell_type": "code",
   "execution_count": 153,
   "outputs": [
    {
     "name": "stdout",
     "output_type": "stream",
     "text": [
      "[epoch 1] loss: 1.97591 accuracy: 0.2816 val loss: 1.67961 val accuracy: 0.3759\n",
      "[epoch 2] loss: 1.54382 accuracy: 0.4283 val loss: 1.49225 val accuracy: 0.4551\n",
      "[epoch 3] loss: 1.40619 accuracy: 0.4900 val loss: 1.42135 val accuracy: 0.4926\n",
      "[epoch 4] loss: 1.32065 accuracy: 0.5239 val loss: 1.30028 val accuracy: 0.5351\n",
      "[epoch 5] loss: 1.25412 accuracy: 0.5501 val loss: 1.25586 val accuracy: 0.5571\n",
      "[epoch 6] loss: 1.19632 accuracy: 0.5736 val loss: 1.27070 val accuracy: 0.5655\n",
      "[epoch 7] loss: 1.14903 accuracy: 0.5920 val loss: 1.20883 val accuracy: 0.5767\n",
      "[epoch 8] loss: 1.10359 accuracy: 0.6085 val loss: 1.15935 val accuracy: 0.5989\n",
      "[epoch 9] loss: 1.06731 accuracy: 0.6203 val loss: 1.16568 val accuracy: 0.5913\n",
      "[epoch 10] loss: 1.03735 accuracy: 0.6337 val loss: 1.11377 val accuracy: 0.6072\n",
      "[epoch 11] loss: 1.00831 accuracy: 0.6433 val loss: 1.12228 val accuracy: 0.6087\n",
      "[epoch 12] loss: 0.98193 accuracy: 0.6537 val loss: 1.09055 val accuracy: 0.6182\n",
      "[epoch 13] loss: 0.95781 accuracy: 0.6616 val loss: 1.08174 val accuracy: 0.6262\n",
      "[epoch 14] loss: 0.93285 accuracy: 0.6726 val loss: 1.01933 val accuracy: 0.6424\n",
      "[epoch 15] loss: 0.91455 accuracy: 0.6781 val loss: 1.02472 val accuracy: 0.6452\n",
      "[epoch 16] loss: 0.89131 accuracy: 0.6879 val loss: 0.99573 val accuracy: 0.6530\n",
      "[epoch 17] loss: 0.86697 accuracy: 0.6954 val loss: 1.03057 val accuracy: 0.6431\n",
      "[epoch 18] loss: 0.84857 accuracy: 0.7018 val loss: 0.98119 val accuracy: 0.6577\n",
      "[epoch 19] loss: 0.82719 accuracy: 0.7081 val loss: 0.98127 val accuracy: 0.6619\n",
      "[epoch 20] loss: 0.80809 accuracy: 0.7158 val loss: 0.97285 val accuracy: 0.6681\n",
      "[epoch 21] loss: 0.78888 accuracy: 0.7227 val loss: 0.96538 val accuracy: 0.6675\n",
      "[epoch 22] loss: 0.77001 accuracy: 0.7301 val loss: 0.95491 val accuracy: 0.6677\n",
      "[epoch 23] loss: 0.74999 accuracy: 0.7370 val loss: 0.95976 val accuracy: 0.6694\n",
      "[epoch 24] loss: 0.73327 accuracy: 0.7428 val loss: 0.95777 val accuracy: 0.6723\n",
      "[epoch 25] loss: 0.71509 accuracy: 0.7503 val loss: 1.02581 val accuracy: 0.6578\n",
      "[epoch 26] loss: 0.69620 accuracy: 0.7568 val loss: 0.97691 val accuracy: 0.6707\n",
      "[epoch 27] loss: 0.68161 accuracy: 0.7611 val loss: 0.96224 val accuracy: 0.6749\n",
      "[epoch 28] loss: 0.66219 accuracy: 0.7687 val loss: 0.96297 val accuracy: 0.6746\n",
      "[epoch 29] loss: 0.64623 accuracy: 0.7758 val loss: 0.95680 val accuracy: 0.6798\n",
      "[epoch 30] loss: 0.62482 accuracy: 0.7831 val loss: 0.98125 val accuracy: 0.6758\n",
      "[epoch 31] loss: 0.61793 accuracy: 0.7841 val loss: 0.95759 val accuracy: 0.6843\n",
      "[epoch 32] loss: 0.59507 accuracy: 0.7909 val loss: 0.97985 val accuracy: 0.6828\n",
      "[epoch 33] loss: 0.58067 accuracy: 0.7981 val loss: 1.03202 val accuracy: 0.6627\n",
      "[epoch 34] loss: 0.56329 accuracy: 0.8035 val loss: 1.02195 val accuracy: 0.6758\n",
      "[epoch 35] loss: 0.55118 accuracy: 0.8091 val loss: 0.99583 val accuracy: 0.6883\n",
      "[epoch 36] loss: 0.53271 accuracy: 0.8154 val loss: 1.03122 val accuracy: 0.6746\n",
      "[epoch 37] loss: 0.51459 accuracy: 0.8228 val loss: 1.04447 val accuracy: 0.6757\n",
      "[epoch 38] loss: 0.50475 accuracy: 0.8247 val loss: 1.03563 val accuracy: 0.6788\n",
      "[epoch 39] loss: 0.49196 accuracy: 0.8301 val loss: 1.05210 val accuracy: 0.6780\n",
      "[epoch 40] loss: 0.47550 accuracy: 0.8343 val loss: 1.06067 val accuracy: 0.6790\n",
      "[epoch 41] loss: 0.46100 accuracy: 0.8402 val loss: 1.09827 val accuracy: 0.6714\n",
      "[epoch 42] loss: 0.44950 accuracy: 0.8444 val loss: 1.09649 val accuracy: 0.6736\n",
      "[epoch 43] loss: 0.43140 accuracy: 0.8506 val loss: 1.17860 val accuracy: 0.6578\n",
      "[epoch 44] loss: 0.42104 accuracy: 0.8538 val loss: 1.10659 val accuracy: 0.6806\n",
      "[epoch 45] loss: 0.40974 accuracy: 0.8570 val loss: 1.21243 val accuracy: 0.6617\n",
      "[epoch 46] loss: 0.39435 accuracy: 0.8623 val loss: 1.24295 val accuracy: 0.6604\n",
      "[epoch 47] loss: 0.38134 accuracy: 0.8669 val loss: 1.17816 val accuracy: 0.6742\n",
      "[epoch 48] loss: 0.36976 accuracy: 0.8713 val loss: 1.20355 val accuracy: 0.6783\n",
      "[epoch 49] loss: 0.35680 accuracy: 0.8748 val loss: 1.34643 val accuracy: 0.6524\n",
      "[epoch 50] loss: 0.34400 accuracy: 0.8798 val loss: 1.26587 val accuracy: 0.6665\n"
     ]
    }
   ],
   "source": [
    "loss_list, acc_list = [], []\n",
    "loss_list_val, acc_list_val = [], []\n",
    "criterion = nn.CrossEntropyLoss()\n",
    "\n",
    "for epoch in range(max_epochs):\n",
    "    #TODO: set the net to train mode:\n",
    "    net.train()\n",
    "    epoch_loss = 0.0\n",
    "    correct = 0\n",
    "    for batch_idx, (data, labels) in enumerate(train_loader):\n",
    "        data, labels = data.to(device), labels.to(device)\n",
    "        optimizer.zero_grad()\n",
    "        ##TODO: pass the data into the network and store the output\n",
    "        output = net(data)\n",
    "        ##TODO: Calculate the cross entropy loss between the output and target\n",
    "        loss = criterion(output, labels)\n",
    "        ##TODO: Perform backpropagation\n",
    "        loss.backward()\n",
    "        optimizer.step()\n",
    "        ##TODO: Get the prediction from the output\n",
    "        _, predicted = torch.max(output, 1)\n",
    "        ##TODO: Calculate the correct number and add the number to correct\n",
    "        correct += (predicted==labels).sum().item()\n",
    "        ##TODO: Add the loss to epoch_loss.\n",
    "        epoch_loss += loss\n",
    "    ##TODO: calculate the average loss\n",
    "    avg_loss = epoch_loss / len(train_loader)\n",
    "    ##TODO: calculate the average accuracy\n",
    "    avg_acc = correct / len(train_set)\n",
    "    ##TODO: append average epoch loss to loss list\n",
    "    loss_list.append(avg_loss.detach().numpy())\n",
    "    ##TODO: append average accuracy to accuracy list\n",
    "    acc_list.append(avg_acc)\n",
    "    # validation\n",
    "    ##TODO: set the model to eval mode\n",
    "    net.eval()\n",
    "    with torch.no_grad():\n",
    "        loss_val = 0.0\n",
    "        correct_val = 0\n",
    "        for batch_idx, (data, labels) in enumerate(val_loader):\n",
    "            data, labels = data.to(device), labels.to(device)\n",
    "            ##TODO: pass the data into the network and store the output\n",
    "            output = net(data)\n",
    "            ##TODO: Calculate the cross entropy loss between the output and target\n",
    "            loss = criterion(output, labels)\n",
    "            ##TODO: Get the prediction from the output\n",
    "            _, predicted = torch.max(output, 1)\n",
    "            ##TODO: Calculate the correct number and add the number to correct_val\n",
    "            correct_val += (predicted==labels).sum().item()\n",
    "            ##TODO: Add the loss to loss_val\n",
    "            loss_val += loss\n",
    "        ##TODO: calculate the average loss of validation\n",
    "        avg_loss_val = loss_val / len(val_loader)\n",
    "        ##TODO: calculate the average accuracy of validation\n",
    "        avg_acc_val = correct_val / len(val_set)\n",
    "        ##TODO: append average epoch loss to loss list of validation\n",
    "        loss_list_val.append(avg_loss_val.detach().numpy())\n",
    "        ##TODO: append average accuracy to accuracy list of validation\n",
    "        acc_list_val.append(avg_acc_val)\n",
    "    print('[epoch %d] loss: %.5f accuracy: %.4f val loss: %.5f val accuracy: %.4f' % (epoch + 1, avg_loss, avg_acc, avg_loss_val, avg_acc_val))"
   ],
   "metadata": {
    "collapsed": false,
    "pycharm": {
     "name": "#%%\n"
    }
   }
  },
  {
   "cell_type": "markdown",
   "source": [
    "**5.1**\n",
    "We can see, that after the epoch ~25 the model starts overfitting the data: the training loss is going down\n",
    "but the validation loss is increasing.\n",
    "\n",
    "Same happens with the accuracy. The validation accuracy reaches the plato near the epoch ~20 and even starts\n",
    " decreasing after the epoch ~30."
   ],
   "metadata": {
    "collapsed": false,
    "pycharm": {
     "name": "#%% md\n"
    }
   }
  },
  {
   "cell_type": "code",
   "execution_count": 154,
   "outputs": [
    {
     "data": {
      "text/plain": "<Figure size 432x288 with 1 Axes>",
      "image/png": "[encoded data removed]"
     },
     "metadata": {
      "needs_background": "light"
     },
     "output_type": "display_data"
    }
   ],
   "source": [
    "##TODO: Plot the training losses and validation losses\n",
    "\n",
    "epochs = np.arange(max_epochs)\n",
    "fig, ax = plt.subplots(1, 1)\n",
    "ax.plot(epochs, loss_list, label='Training')\n",
    "ax.plot(epochs, loss_list_val, label='Validation')\n",
    "ax.set_title('Loss')\n",
    "ax.set_xlabel('Epochs')\n",
    "ax.set_ylabel('Loss')\n",
    "plt.legend()\n",
    "plt.show()"
   ],
   "metadata": {
    "collapsed": false,
    "pycharm": {
     "name": "#%%\n"
    }
   }
  },
  {
   "cell_type": "code",
   "execution_count": 155,
   "outputs": [
    {
     "data": {
      "text/plain": "<Figure size 432x288 with 1 Axes>",
      "image/png": "[encoded data removed]"
     },
     "metadata": {
      "needs_background": "light"
     },
     "output_type": "display_data"
    }
   ],
   "source": [
    "##TODO: Plot the training accuracies and validation accuracies\n",
    "fig, ax = plt.subplots(1, 1)\n",
    "ax.plot(epochs, acc_list, label='Training')\n",
    "ax.plot(epochs, acc_list_val, label='Validation')\n",
    "ax.set_title('Accuracy')\n",
    "ax.set_xlabel('Epochs')\n",
    "ax.set_ylabel('Accuracy')\n",
    "plt.legend()\n",
    "plt.show()"
   ],
   "metadata": {
    "collapsed": false,
    "pycharm": {
     "name": "#%%\n"
    }
   }
  },
  {
   "cell_type": "markdown",
   "source": [
    "**5.3**"
   ],
   "metadata": {
    "collapsed": false,
    "pycharm": {
     "name": "#%% md\n"
    }
   }
  },
  {
   "cell_type": "code",
   "execution_count": 181,
   "outputs": [
    {
     "name": "stdout",
     "output_type": "stream",
     "text": [
      "Accuracy on the 10000 test images: 67.12 %\n"
     ]
    }
   ],
   "source": [
    "#Test\n",
    "true_labels = []\n",
    "predictions = []\n",
    "correct_test = 0\n",
    "net.eval()\n",
    "with torch.no_grad():\n",
    "    for batch_idx, (data, label) in enumerate(test_loader):\n",
    "        data, label = data.to(device), label.to(device)\n",
    "        ##TODO: pass the data into the network and store the output\n",
    "        output = net(data)\n",
    "        ##TODO: Get the prediction from the output\n",
    "        _, predicted = torch.max(output, 1)\n",
    "        ##TODO: Calculate the correct number and add the number to correct_test\n",
    "        correct_test += (predicted==label).sum().item()\n",
    "        ##TODO: update predictions list and true label list\n",
    "        true_labels.append(label.tolist()[0])\n",
    "        predictions.append(predicted.tolist()[0])\n",
    "        ##We can directly append the value because here batch_size=1\n",
    "\n",
    "print('Accuracy on the 10000 test images: %.2f %%' % (100 * correct_test / len(test_set)))"
   ],
   "metadata": {
    "collapsed": false,
    "pycharm": {
     "name": "#%%\n"
    }
   }
  },
  {
   "cell_type": "markdown",
   "source": [
    "Test accuracy is ~67%. The most confused classes are cats and dogs. And the 3rd most confused\n",
    "class is deer. That makes sense because they are very similar with each other and moreover, these are 3\n",
    "similar classes compared to all other classes that can be similar to each other in pairs, like trucks and\n",
    "cars, or birds and planes, but not 3 strongly \"competing\" classes.\n",
    "\n",
    "Birds and planes are 2nd worst group because they can be very similar to each other sometimes."
   ],
   "metadata": {
    "collapsed": false,
    "pycharm": {
     "name": "#%% md\n"
    }
   }
  },
  {
   "cell_type": "code",
   "execution_count": 182,
   "outputs": [
    {
     "name": "stdout",
     "output_type": "stream",
     "text": [
      "[[645  40 112  27  25   7  32  16  68  28]\n",
      " [ 12 834  13  10   5   4  18   3  22  79]\n",
      " [ 39   7 612  61  76  37  97  45  16  10]\n",
      " [ 17  14 113 473  73 101 123  54  12  20]\n",
      " [ 12   9 112  72 582  22 106  65  15   5]\n",
      " [  6   7  88 212  48 470  67  91   8   3]\n",
      " [  2   3  40  35  21  10 868  10   8   3]\n",
      " [ 16   5  48  62  83  36  22 712   1  15]\n",
      " [ 55  56  29  16   4   4  22   6 766  42]\n",
      " [ 21 111  16  14  12   7  23  17  29 750]]\n"
     ]
    },
    {
     "data": {
      "text/plain": "<Figure size 432x288 with 2 Axes>",
      "image/png": "[encoded data removed]"
     },
     "metadata": {
      "needs_background": "light"
     },
     "output_type": "display_data"
    }
   ],
   "source": [
    "##TODO: print the confusion matrix of test set\n",
    "##You can use sklearn.metrics.confusion_matrix\n",
    "from sklearn.metrics import confusion_matrix, ConfusionMatrixDisplay\n",
    "cm = confusion_matrix(true_labels, predictions)\n",
    "print(cm)\n",
    "disp = ConfusionMatrixDisplay(confusion_matrix=cm, display_labels=classes)\n",
    "disp.plot()\n",
    "plt.show()"
   ],
   "metadata": {
    "collapsed": false,
    "pycharm": {
     "name": "#%%\n"
    }
   }
  }
 ],
 "metadata": {
  "kernelspec": {
   "display_name": "Python 3",
   "language": "python",
   "name": "python3"
  },
  "language_info": {
   "codemirror_mode": {
    "name": "ipython",
    "version": 2
   },
   "file_extension": ".py",
   "mimetype": "text/x-python",
   "name": "python",
   "nbconvert_exporter": "python",
   "pygments_lexer": "ipython2",
   "version": "2.7.6"
  }
 },
 "nbformat": 4,
 "nbformat_minor": 0
}