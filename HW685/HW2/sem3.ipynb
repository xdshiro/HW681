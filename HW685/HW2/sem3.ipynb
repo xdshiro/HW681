{
 "cells": [
  {
   "cell_type": "markdown",
   "metadata": {},
   "source": [
    "# The material presented in this notebook is for using in Introduction to Deep Learning ECE.685D course, Duke University, Fall 2020."
   ]
  },
  {
   "cell_type": "markdown",
   "metadata": {},
   "source": [
    "# Working with Data and Models in Pytorch"
   ]
  },
  {
   "cell_type": "markdown",
   "metadata": {},
   "source": [
    "* ## A summary for a general learning procedure.\n",
    "* ## Loading data:\n",
    "    * ### Common datasets, access the data by the Pytorch build-in package torchvision, torchaudio and torchtext, and then load it by torch.utils.data.DataLoader;\n",
    "    * ### Private datasets, access and load the data by adding new custom datasets. The dataset should inherit from the standard torch.utils.data.Dataset class, including \"__getitem__\" and \"__len__\".\n",
    "* ## Saving and loading models:\n",
    "    * ### save and load the entire model including the model architecture.\n",
    "    * ### save and load trained parameters of the model."
   ]
  },
  {
   "cell_type": "markdown",
   "metadata": {},
   "source": [
    "## I. Training and Testing for supervised learning"
   ]
  },
  {
   "cell_type": "markdown",
   "metadata": {},
   "source": [
    "### Training,\n",
    "Train a model to fit given data, $\\{(x_i, y_i)\\}_{i=1}^n\\to \\text{Algorithm} \\to f$.\n",
    "\n",
    "    for epoch in range(total_epoch):\n",
    "\n",
    "        for batch in range(trainloader):   \n",
    "            ...\n",
    "        \n",
    "### Testing,\n",
    "Evaluate how well the model match some new income data, $\\mathcal{L}(f(x), y)$.\n",
    "\n",
    "    for epoch in range(total_epoch):\n",
    "\n",
    "        for batch in range(trainloader):   \n",
    "            ...\n",
    "        for batch in range(testloader):\n",
    "            ...\n",
    "\n",
    "After learning, we hope\n",
    "1. The algorithm is able to train $f$ well, saying small training errors.\n",
    "2. The trained model $f$ is able to match the pattern of new data well, saying small testing errors.\n",
    "\n",
    "With small training error, hopefully the testing error will be small.\n",
    "\n",
    "### Dataloader\n",
    "Original data -> random shuffle -> queue of minibatches for iterative training."
   ]
  },
  {
   "cell_type": "markdown",
   "metadata": {},
   "source": [
    "## II. Loading Data\n",
    "### 1. Custom the Dataloader\n",
    "(1) Define the class of data inheriting from the standard torch.utils.data.Dataset class.\n",
    "\n",
    "    a. download the online dataset or read the local dataset.\n",
    "    \n",
    "    b. define __getitem__, return index of items in the dataset.\n",
    "    \n",
    "    c. define __len__, return the size of the dataset.\n",
    "(2) Pass it to torch.utils.data.DataLoader and get the dataloader of your private dataset.\n",
    "\n",
    "### 2. Pytorch build-in packages, such as torchvision, torchtext, torchaudio"
   ]
  },
  {
   "cell_type": "markdown",
   "metadata": {},
   "source": [
    "### An Example of datasets in torchvision, MNIST"
   ]
  },
  {
   "cell_type": "code",
   "execution_count": 1,
   "metadata": {},
   "outputs": [],
   "source": [
    "import torch\n",
    "import torch.nn as nn\n",
    "import torch.optim\n",
    "import torchvision\n",
    "import torchvision.transforms as transforms\n",
    "import matplotlib.pyplot as plt\n",
    "import numpy as np"
   ]
  },
  {
   "cell_type": "markdown",
   "metadata": {},
   "source": [
    "All datasets are subclasses of torch.utils.data.Dataset, with name of the format torchvision.datasets.\"__Name of Dataset__\"\n",
    "* They have __getitem__ and __len__ methods implemented. \n",
    "* They can all be passed to a torch.utils.data.DataLoader\n",
    "https://pytorch.org/docs/stable/torchvision/datasets.html\n",
    "\n",
    "\"__Name of Dataset__\" includes many datasets such as MNIST, Fashion-MNIST, ImageNet, CIFAR10, SVHN, COCO, LSUN, and so on."
   ]
  },
  {
   "cell_type": "code",
   "execution_count": 2,
   "metadata": {
    "scrolled": true
   },
   "outputs": [],
   "source": [
    "trainset = torchvision.datasets.MNIST(root='./data', train=True, download=True, transform = transforms.ToTensor())\n",
    "testset = torchvision.datasets.MNIST(root='./data', train=False, download=True, transform = transforms.ToTensor())\n",
    "\n",
    "trainloader = torch.utils.data.DataLoader(trainset, batch_size=64, shuffle=True)\n",
    "testloader = torch.utils.data.DataLoader(testset, batch_size=64, shuffle=False)"
   ]
  },
  {
   "cell_type": "code",
   "execution_count": 3,
   "metadata": {},
   "outputs": [
    {
     "name": "stdout",
     "output_type": "stream",
     "text": [
      "tensor([8, 6, 0, 5])\n"
     ]
    },
    {
     "data": {
      "image/png": "[encoded data removed]",
      "text/plain": [
       "<Figure size 432x288 with 4 Axes>"
      ]
     },
     "metadata": {
      "needs_background": "light"
     },
     "output_type": "display_data"
    }
   ],
   "source": [
    "dataiter = iter(trainloader)\n",
    "images, labels = dataiter.next()\n",
    "im = images[0:4]\n",
    "fig , ax = plt.subplots(1,4)\n",
    "for i in range(4):\n",
    "    ax[i].imshow(im[i][0], cmap='gray')\n",
    "print(labels[0:4])"
   ]
  },
  {
   "cell_type": "markdown",
   "metadata": {},
   "source": [
    "Note that Transforms are common image transformations for data augmentation. \n",
    "\n",
    "* __transforms.CenterCrop__ :  Crops the given image at the center according to the given size. \n",
    "* __transforms.ColorJitter__ :  Randomly change the brightness, contrast and saturation of an image.\n",
    "* __transforms.Grayscale__ : Convert image to grayscale.\n",
    "* __transforms.Resize__ : Resize the input image to the given size.\n",
    "* __transforms.Normalize(mean, std, inplace=False)__ : Normalize the image with mean and standard deviation. \n",
    "\n",
    "\n",
    "They can be chained together by transforms.Compose():"
   ]
  },
  {
   "cell_type": "code",
   "execution_count": 4,
   "metadata": {},
   "outputs": [
    {
     "data": {
      "text/plain": [
       "Compose(\n",
       "    CenterCrop(size=(10, 10))\n",
       "    ToTensor()\n",
       ")"
      ]
     },
     "execution_count": 4,
     "metadata": {},
     "output_type": "execute_result"
    }
   ],
   "source": [
    "transforms.Compose([\n",
    "    transforms.CenterCrop(10),\n",
    "    transforms.ToTensor(),\n",
    "])"
   ]
  },
  {
   "cell_type": "markdown",
   "metadata": {},
   "source": [
    "## III. Saving and Loading a Model"
   ]
  },
  {
   "cell_type": "markdown",
   "metadata": {},
   "source": [
    "What we want to save and load?\n",
    "1. The model parameters, including weights and biases.\n",
    "2. The model architecture.\n",
    "\n",
    "Three functions to be familiar with:\n",
    "* torch.save(arg, PATH)\n",
    "* torch.load(PATH)\n",
    "* model.load_state_dict(arg)"
   ]
  },
  {
   "cell_type": "markdown",
   "metadata": {},
   "source": [
    "What is state_dict?\n",
    "model.state_dict() is simply a Python dictionary object that maps each layer to its parameter tensor."
   ]
  },
  {
   "cell_type": "markdown",
   "metadata": {},
   "source": [
    "### An example of a linear regression model"
   ]
  },
  {
   "cell_type": "code",
   "execution_count": 5,
   "metadata": {},
   "outputs": [
    {
     "name": "stdout",
     "output_type": "stream",
     "text": [
      "Model's state_dict:\n",
      "linear.weight \t torch.Size([1, 10])\n",
      "linear.bias \t torch.Size([1])\n"
     ]
    }
   ],
   "source": [
    "# Define model\n",
    "class Linear_Reg(nn.Module):\n",
    "    def __init__(self):\n",
    "        super(Linear_Reg, self).__init__()\n",
    "        self.linear = nn.Linear(10, 1)\n",
    "\n",
    "    def forward(self, x):\n",
    "        x = self.linear(x)\n",
    "        return x\n",
    "\n",
    "# Initialize model\n",
    "model = Linear_Reg()\n",
    "\n",
    "# Print model's state_dict\n",
    "print(\"Model's state_dict:\")\n",
    "for param_tensor in model.state_dict():\n",
    "    print(param_tensor, \"\\t\", model.state_dict()[param_tensor].size())"
   ]
  },
  {
   "cell_type": "markdown",
   "metadata": {},
   "source": [
    "###  1- Save/Load state_dict "
   ]
  },
  {
   "cell_type": "code",
   "execution_count": 6,
   "metadata": {},
   "outputs": [
    {
     "data": {
      "text/plain": [
       "Linear_Reg(\n",
       "  (linear): Linear(in_features=10, out_features=1, bias=True)\n",
       ")"
      ]
     },
     "execution_count": 6,
     "metadata": {},
     "output_type": "execute_result"
    }
   ],
   "source": [
    "PATH = './ckpt_state_dics.pth'\n",
    "torch.save(model.state_dict(), PATH)   # Saving\n",
    "model = Linear_Reg()\n",
    "model.load_state_dict(torch.load(PATH))  # Loading\n",
    "model.eval()"
   ]
  },
  {
   "cell_type": "markdown",
   "metadata": {},
   "source": [
    "When saving a model for inference, it is only necessary to save the trained model’s learned parameters. Saving the model’s __state_dict__ with the __torch.save()__ function will give you the most flexibility for restoring the model later, which is why it is the recommended method for saving models."
   ]
  },
  {
   "cell_type": "markdown",
   "metadata": {},
   "source": [
    "###  2- Save/Load Entire Model"
   ]
  },
  {
   "cell_type": "code",
   "execution_count": 7,
   "metadata": {},
   "outputs": [
    {
     "name": "stderr",
     "output_type": "stream",
     "text": [
      "/Users/wusuya/anaconda3/lib/python3.6/site-packages/torch/serialization.py:292: UserWarning: Couldn't retrieve source code for container of type Linear_Reg. It won't be checked for correctness upon loading.\n",
      "  \"type \" + obj.__name__ + \". It won't be checked \"\n",
      "/Users/wusuya/anaconda3/lib/python3.6/site-packages/torch/serialization.py:292: UserWarning: Couldn't retrieve source code for container of type Linear. It won't be checked for correctness upon loading.\n",
      "  \"type \" + obj.__name__ + \". It won't be checked \"\n"
     ]
    },
    {
     "data": {
      "text/plain": [
       "Linear_Reg(\n",
       "  (linear): Linear(in_features=10, out_features=1, bias=True)\n",
       ")"
      ]
     },
     "execution_count": 7,
     "metadata": {},
     "output_type": "execute_result"
    }
   ],
   "source": [
    "PATH = './ckpt_entire.pth'\n",
    "torch.save(model, PATH)\n",
    "\n",
    "#Model class must be defined somewhere\n",
    "model = torch.load(PATH)\n",
    "model.eval()"
   ]
  }
 ],
 "metadata": {
  "kernelspec": {
   "display_name": "Python 3",
   "language": "python",
   "name": "python3"
  },
  "language_info": {
   "codemirror_mode": {
    "name": "ipython",
    "version": 3
   },
   "file_extension": ".py",
   "mimetype": "text/x-python",
   "name": "python",
   "nbconvert_exporter": "python",
   "pygments_lexer": "ipython3",
   "version": "3.6.7"
  }
 },
 "nbformat": 4,
 "nbformat_minor": 4
}
