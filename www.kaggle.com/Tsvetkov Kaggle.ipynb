{
 "cells": [
  {
   "cell_type": "markdown",
   "metadata": {},
   "source": [
    "**Dima Tsvetkov**\n",
    "\n",
    "**Kaggle nickname: Dakine100500 (Dima Tsvetkov)**\n",
    "\n",
    "**NetID: dt169**\n",
    "\n",
    "**In-Class Kaggle Competition**"
   ]
  },
  {
   "cell_type": "markdown",
   "metadata": {},
   "source": [
    "# **Exploratory Analysis**\n",
    "First, I looked at all the features on kaggle.com. It has a very useful and convenient data representation\n",
    "as diagrams and overall statistics on each feature.\n",
    "\n",
    "I found out that there are 3 useless features that have the\n",
    "exact same value for all of the dots: ['Over18', 'EmployeeCount', 'StandardHours']. So I deleted them.\n",
    "\n",
    "Also, some of the features are categorical (not something I can efficiently transform into numbers and order them)\n",
    ": ['BusinessTravel', 'Department', 'EducationField', 'Gender',\n",
    "'JobRole', 'MaritalStatus', 'OverTime']. I relocated them to end of the data array (last columns) in order to easier\n",
    "later analysis.\n",
    "\n",
    "A lot of feature have text values so I changed them all into numbers that make sense. For example:\n",
    "'Non-Travel': 0, 'Travel_Rarely': 0.5, 'Travel_Frequently': 1.\n",
    "\n",
    "After that I rescaled all the features into [0, 1] range (for the validation data I used the coefficients\n",
    "obtained from the training data to make sure I am not \"leaking\" any information to the test array.) I thought\n",
    "it would make the distances on the same scale with each other. I also tried to normalize all the features on each\n",
    "other norms (so their squared sum gives 1) but it ended up working worse.\n",
    "\n",
    "Visually I did not notice anything important from just looking at the data representation on kaggle. So I decided\n",
    "to look at the correlation between all the features left and check if there are more not important ones not carrying\n",
    "any additional information. However, it seemed like all the features have at least some new information (no parameters\n",
    "with very high correlation).\n",
    "\n",
    "One of the most important things I noticed just by looking at the data is that it is very imbalanced. Thus, at some\n",
    "point during my work, I was trying to use oversampling to make the data balance. The initial idea was just to copy\n",
    "some less common examples but then I found some algorithms which can make it more efficient. In the end, I\n",
    "tried the imblearn.over_sampling package to make the data more balance. I used SMOTE and ADASYN algorithms from it.\n",
    "ADASYN worked better for the algorithms I used. I haven't tried the undersampling because I decided that our data\n",
    "is not big enough for that.\n",
    "\n",
    "Moreover, to find which features are 'good' I plotted all the ROC curves for all the individual features\n",
    "using logistic regressions. To achieve this goal, I was also trying to use a new tool for myself -\n",
    "SelectKBest from sklearn.feature_selection with 3 different score functions.\n",
    "Later I was trying to throw away a different number of the least well-performing features based on all of these\n",
    "approaches and their combination.\n",
    "\n",
    "For the same purpose, I also tried SelectFromModel from the same package on some of my best models. This package\n",
    "shows what are the most important features of this particular model. So It helped me to retrain my models throwing\n",
    "away some of the least important features."
   ]
  },
  {
   "cell_type": "markdown",
   "metadata": {},
   "source": [
    "# **Models**\n",
    "\n",
    "The first algorithm I chose was the logistic regression from sklearn.linear_model.LogisticRegression. Since this\n",
    "class is my first experience in machine learning usage I decided to select the algorithm I have the most experience\n",
    "with through all our lectures and homework. Moreover, this algorithm is very well-known and has a lot of\n",
    "well-developed instruments in the same library (sklearn). On top of that, it is one of the fastest algorithms\n",
    "and it has a wide variety of parameters I can work with. Logistic regression is much easier to use than a lot of\n",
    "other algorithms. All of that together allowed me not only to study some of the new methods I have never used before\n",
    "(such as SelectFromModel and GridSearchCV) but also I could try a lot of different approaches way easier and faster\n",
    "(for example it was a good way to learn how oversampling works, which parameters should I choose). Moreover,\n",
    "because of how fast it is I practiced and developed some functions and algorithms for the next models I used.\n",
    "Also, since I used logistic regression to study the \"quality\" of the features it was easier to operate with these\n",
    "good features via logistic regression algorithm.\n",
    "\n",
    "The second algorithm I used was a random forest classifier. Besides the similar to the logistic regression benefits, such as\n",
    "well-studied, good implementation in sklearn, ease of use, and simplicity and parametrization, (also, I could\n",
    "a lot of scripts I used for logistic regression) there was one more\n",
    "thing I was guided by. In the logistic regression, I could not but the problem of overfitting that easily and I thought\n",
    "that random forest classifier should be better in terms of overfitting (In the end it did not help that much but that\n",
    "is what I thought because it was easy to understand what some parameters such as tree max depth were actually doing).\n",
    "\n",
    "\n",
    "The last algorithm I used was a Adaboost. Besides all the advantages I mentioned earlier (but both\n",
    "the Adaboost and random forest are not even close to the logistic regression in terms of speed) this method\n",
    "was a good idea to use because I have practiced a lot with decision tree classifiers previously in the\n",
    "random forest algorithm parametrization, so I had some idea of how deep my trees should be,\n",
    "how many nodes and leaves it should have and so on. I decided\n",
    "that I can quickly try this algorithm and see if it works well (it was also 3 times faster\n",
    "than the random forest classifier). In the end, this method was the one\n",
    "that performed the best."
   ]
  },
  {
   "cell_type": "markdown",
   "metadata": {},
   "source": [
    "# **Training**\n",
    "\n",
    "For the logistic regression problem I was mainly working with l2 regularization term and using mostly LIBLINEAR solver,\n",
    "and thus, it minimizes for $\\mathbf{\\beta}$ the following cost function:\n",
    "$\\dfrac{1}{n}\\sum_{i=1}^n\\log(1+exp(-y_i\\mathbf{\\beta}^T\\mathbf{x_i}) + \\lambda ||\\mathbf{\\beta}||_2^2$ where\n",
    "$\\lambda$ is the penalty parameter (it's $C$ in sklearn.linear_model.LogisticRegression).\n",
    "In some cases, the discriminant function of the classifier includes a bias term. LIBLINEAR handles this term by\n",
    "augmenting the vector w and each instance xi with an additional dimension:\n",
    "$\\mathbf{\\beta}^T\\leftarrow \\mathbf{\\beta}^T, b, \\mathbf{x}_i^T \\leftarrow \\mathbf{x}_i^T, B$\n",
    "where $B$ is a constant specified by the user. LIBLINEAR uses Automatic parameter selection and it applies\n",
    "the coordinate descent algorithm.\n",
    "For multi-class classification the problem is decomposed in 2 possible way: 1) one-vs-the rest, 2) Crammer & Singer.\n",
    "LIBLINEAR actually can also support the SVM algorithm.\n",
    "(Source (LIBLINEAR site): https://www.csie.ntu.edu.tw/~cjlin/liblinear/)\n",
    "\n",
    "The core principle of adaboost is to fit a group of weak learners (at least slightly above the random guessing) on the\n",
    "data, which being constantly modified with each iteration. After several iterations we combine all the weak learners\n",
    "with obtained weights.\n",
    "Adaboost from sklearn.ensemble implements the algorithm known as AdaBoost-SAMME. This training algorithm can be\n",
    "represented in following steps: 1) initialization of the observation weights $w_i=1/n$; 2) for $m=1$ to $m=M$ do:\n",
    "a) fitting each classifier $T^m$ with the weight $w_m$;\n",
    "b) compute error $\\sum_{i=1}^nw_iI(y_i\\ne T^m(x_i))/\\sum_{i=1}^nw_i$;\n",
    "c) compute coefficients $\\alpha^m=\\log\\dfrac{1-err^m}{err^m}$;\n",
    "d) set $w_i\\leftarrow w_i \\exp(\\alpha^m I(y_i\\ne T^m(x_i)))$;\n",
    "e) Re-normalization of $w_i$.\n",
    "So the final output is the combination of $\\alpha^m T^m$.\n",
    "(Source: Zhu, H. Zou, S. Rosset, T. Hastie, “Multi-class AdaBoost”, 2009.)\n",
    "\n",
    "For the random forest classifier is a black box algorithm which averaging a bunch of decision trees on various\n",
    "sub samples of features. Moreover, the 2nd level of randomness is achieved by training each tree from a sample\n",
    "of the training set selected with replacement. These high level of randomness should help with the decreasing\n",
    "of the overall variance of the final classifier.  The scikit-learn implementation combines classifiers by\n",
    "averaging their probabilistic prediction.\n",
    "(Source: https://scikit-learn.org/ documentation and guides)\n",
    "\n",
    "Logistic regression was by far the fastest method to use. Average time required for 1 training with the\n",
    "whole training data was ~9ms, while for the random forest this time was more than 100 times longer and was ~1s.\n",
    "AdaBoost was slightly faster than random forest - around 0.4s on average. (I haven't used any extra optimization\n",
    "or parallelism features for these measurements)"
   ]
  },
  {
   "cell_type": "markdown",
   "metadata": {},
   "source": [
    "# **Hyperparameter Selection**\n",
    "\n",
    "For all the algorithms I was using GridSearchCV and then more precise tuning by hand. The logic\n",
    "behind the idea, I was using to tune the parameters is the following:\n",
    "\n",
    "**Common ideas for all the algorithms:**\n",
    "\n",
    "For the class weights, I tried all the values from 1:1 up to 1:5 and also the \"balanced\" case. In most cases\n",
    "ratio around 1:2.5 - 1:30 worked better than the balanced case. And then I was using\n",
    "oversampling data (with 1:1 ratio between labels).\n",
    "GridSearchCV allows me to see the F1 score for each combination of parameters (by using verbose=3) but for that\n",
    "I had to set n_jobs=1 (otherwise it doesn't work in parallel).\n",
    "\n",
    "First, I set some diapason for all of the possible parameters for each algorithm\n",
    "and looked at the performance for all of them to get (it may take some time but it definitely worth it\n",
    "to get some ideas of how each parameter affects the algorithm). After that, I could cast aside a lot of\n",
    "values for most of the features (if f1 is too low (underfitting) or very close to 1 (overfitting)).\n",
    "\n",
    "Then I was tuning every feature 1 by 1 and looked at the performance on both training and validation data sets\n",
    "trying to make them as high as possible (mostly validation set). As soon as I got some good combinations\n",
    "of parameters I was looking precisely at each parameter with finner steps in a small range around these\n",
    "combinations.\n",
    "\n",
    "Also, for all of the algorithms I tuned the number of folder for the cross-validation and the best value 5-7 folders.\n",
    "\n",
    "**Some specific for each algorithm notes:**\n",
    "\n",
    "Random Forest: For this algorithm I was tuning the following parameters: ['n_estimators', 'criterion',\n",
    "'max_depth', 'min_samples_split', 'min_samples_leaf', 'class_weight', 'max_leaf_nodes', 'max_features'\n",
    "]. The most important parameters were 'max_depth' and 'max_features'.\n",
    "\n",
    "AdaBoost: For the adaboost with the decision tree estimator I already knew where I should look at for\n",
    "'max_depth' and 'max_features' values, since I tuned them in the random forest case. And when I tried some\n",
    "different combinations it turned out that these values should be in the same range. However,\n",
    "tuning adaboost was more complicated because 2 parameters 'learning_rate' and 'n_estimators' affect\n",
    "a lot the accuracy of the algorithm. Even a slight change in any of them may completely change the performances.\n",
    "\n",
    "Logistic regression: Some of the parameters I was tuning were: ['C', 'penalty', 'intercept_scaling', 'solver'].\n",
    "First, I started with solvers and found out that they do not affect f1 score that much so I just stopped on the\n",
    "one which works for both l1 and l2 regularization. Also, l2 shows itself better so I was working mostly with it.\n",
    "\n",
    "Below you can see 2 plots with f1 scores of my final AdaBoost model vs 2 different hyperparameters (learning rate\n",
    "and number of estimators). We can see, that the best values are 0.97 and 104 for the learning rate and\n",
    "the number of estimators, accordingly. Validation data and training data were used.\n",
    "(Black line is for the validation data, red line is for the training data)\n",
    "\n"
   ]
  },
  {
   "cell_type": "markdown",
   "metadata": {},
   "source": [
    "# **Data Splits**\n",
    "\n",
    "My first step was to split the training data into 2 parts - the training part and the validation data. Validation data\n",
    "was used to estimate the performance of my final algorithms and it was untouched until the very end. For this\n",
    "splitting, I tried several values: 10%, 15%, 20%, 25%, and 30% for the validation data. In the end, I stopped\n",
    "on the 20% because values lower were not accurate enough to judge my models, and values higher took too much\n",
    "from the training data so it worked worse. For the final model, I tried to use both just training data and\n",
    "full training + validation data.\n",
    "\n",
    "For the cross-validation process, I tried several numbers of folders: from 4 to 10. 10 was definitely too many\n",
    "(probably because the data is not large enough and it is also unbalanced). The best performing value I stopped on\n",
    "was 6-7 folders. It showed the best results in terms of not overfitting the data too much. To get this result\n",
    "I was training my models with different parameters on the training data (using different numbers of folders),\n",
    "checked the average f1 and accuracy values, and then using these models I\n",
    "looked the at f1 and accuracy values for the validation data. If the values for the training data were too high\n",
    "when the same values for the validation data were too low (like 99% vs 50%) I was definitely overfitting the\n",
    "data oo much."
   ]
  },
  {
   "cell_type": "markdown",
   "metadata": {},
   "source": [
    "# **Errors and Mistakes**\n",
    "\n",
    "While working on that project I have several mistakes since I am new to ML:\n",
    "\n",
    "1) I did not preprocess the data the same way for training data and test data. I was not noticing it for quite a\n",
    "while and could not understand why my scores on kaggle were all below 50%.\n",
    "\n",
    "2) For the first couple of days I did not split my training data into the training and validation (test) parts.\n",
    "So I could not check the performance of my models besides looking at the scores on the training data (which was\n",
    "always 1) and checking the results on Kaggle (which was limited to 10 per day). And it slowed me down a lot.\n",
    "\n",
    "3) I did not know that in the GridSearchCV you can increase the number of parallel jobs so all my trainings were\n",
    "very slow (when I set the number of jobs to 16 (I have 16 threads), and the speed increased about 7-8 times).\n",
    "\n",
    "4) I was working with a very low number of features (only used 5-15 of the best features) because I thought it could\n",
    "make my algorithms perform better, but in reality, almost all the best results I got used 31 features (all of the\n",
    "usable ones)\n",
    "\n",
    "5) In the beginning I was not looking at the results of each combination of the parameters and only worked\n",
    "with the best models. Thus, I could not control well what exactly each parameter was doing.\n",
    "\n",
    "6) I was changing too many hyperparameters at the same time trying to catch the best result. In the end, I stopped\n",
    "doing it and started to look at them 1 by 1 and at some small combinations of changes.\n",
    "\n",
    "7) I did not know that Kaggle has an amazing data representation by default so I was trying to plot all the features\n",
    "to see what they are.\n",
    "\n",
    "8) Also, one huge mistake I did - I forgot to add random_state into the oversampling and I was always getting\n",
    "different values when I was learning how to work with imblearn.over_sampling."
   ]
  },
  {
   "cell_type": "markdown",
   "metadata": {},
   "source": [
    "# **Predictive Accuracy**\n",
    "\n",
    "Kaggle nickname: Dakine100500 (Dima Tsvetkov)\n",
    "\n",
    "If we compare results using f1 score on kaggle.com, my best result was achieved with the Adaboost algorithm $F_1=0.7$,\n",
    "my second best was achieved with the logistic regression $F_1=0.66$, and the least success I had with the random forest\n",
    "$F_1=0.59$. However, these numbers correlate a lot with the time I have spent on each algorithm and the order I was\n",
    "working on it. The last algorithm I was trying to optimize was Adaboost and I also spent the most pure time on it\n",
    "compared to 2 others. So I believe, it's definitely possible to achieve better results with other 2. Especially\n",
    "with the random forest algorithm. I was struggling a lot with parameter optimization.\n",
    "\n",
    "For my final model we can look at ROC curve for it (with AUC=)."
   ]
  },
  {
   "cell_type": "markdown",
   "metadata": {},
   "source": [
    "# **Code**\n"
   ]
  },
  {
   "cell_type": "code",
   "execution_count": 1,
   "metadata": {
    "pycharm": {
     "name": "#%%\n"
    }
   },
   "outputs": [],
   "source": [
    "import numpy as np # linear algebra\n",
    "import pandas as pd # data processing, CSV file I/O (e.g. pd.read_csv)\n",
    "from sklearn.model_selection import train_test_split\n",
    "from sklearn.preprocessing import MinMaxScaler\n",
    "from imblearn.over_sampling import SMOTE, ADASYN\n",
    "from sklearn import metrics\n",
    "from sklearn.linear_model import LogisticRegression\n",
    "import matplotlib.pyplot as plt\n",
    "from sklearn.feature_selection import SelectKBest, chi2, f_classif, mutual_info_classif\n",
    "from sklearn.model_selection import GridSearchCV\n",
    "from sklearn.metrics import f1_score, make_scorer\n",
    "from sklearn.feature_selection import SelectFromModel\n",
    "import timeit\n",
    "from sklearn.ensemble import RandomForestClassifier\n",
    "from sklearn.ensemble import AdaBoostClassifier\n",
    "from sklearn.tree import DecisionTreeClassifier\n",
    "from sklearn.svm import SVC"
   ]
  },
  {
   "cell_type": "markdown",
   "metadata": {},
   "source": [
    "Loading datasets."
   ]
  },
  {
   "cell_type": "code",
   "execution_count": 2,
   "metadata": {
    "pycharm": {
     "name": "#%%\n"
    }
   },
   "outputs": [],
   "source": [
    "df_train_validation = pd.read_csv('train.csv')\n",
    "df_test = pd.read_csv('test.csv')\n",
    "\n",
    "## this was used to make sure that everything is loaded correctly\n",
    "# df_train[0:15]"
   ]
  },
  {
   "cell_type": "markdown",
   "metadata": {},
   "source": [
    "Functions for data transformation"
   ]
  },
  {
   "cell_type": "code",
   "execution_count": 3,
   "metadata": {
    "pycharm": {
     "name": "#%%\n"
    }
   },
   "outputs": [],
   "source": [
    "def data_renaming(df, renames_dict, features=None):\n",
    "    \"\"\"\n",
    "    This function transforms all the data we want into numerical values\n",
    "    :param df: data\n",
    "    :param renames_dict: dictionary with the names and values we want to use for these names\n",
    "    :param features: which features we consider for the reaming\n",
    "    :return: updated data\n",
    "    \"\"\"\n",
    "    if features is None:\n",
    "        df = df.replace({**renames_dict})\n",
    "    else:\n",
    "        for i, feature in enumerate(features):\n",
    "            df[feature] = df[feature].replace({**renames_dict[i]})\n",
    "    return   df\n",
    "\n",
    "\n",
    "def features_move_to_end(data, features):\n",
    "    \"\"\"\n",
    "    Functions moves all selected features to the end of the data frame.\n",
    "    :param data: data\n",
    "    :param features: # of features we want to move\n",
    "    :return: updated data\n",
    "    \"\"\"\n",
    "    new_data = data[[c for c in data if c not in features] + features]\n",
    "    return new_data\n",
    "\n",
    "\n",
    "def delete_useless_data(data, features):\n",
    "    \"\"\"\n",
    "    Function deletes the features from the data\n",
    "    :param data: data\n",
    "    :param features: list of features to delete\n",
    "    :return: updated data\n",
    "    \"\"\"\n",
    "    return data.drop(features, axis=1)"
   ]
  },
  {
   "cell_type": "markdown",
   "metadata": {},
   "source": [
    "Preprocessing data: converting all string values into numerical values using data_renaming function."
   ]
  },
  {
   "cell_type": "code",
   "execution_count": 4,
   "metadata": {
    "pycharm": {
     "name": "#%%\n"
    }
   },
   "outputs": [],
   "source": [
    "## features to transform\n",
    "features = [\n",
    "    'BusinessTravel',  # 1\n",
    "    'Department',  # 2\n",
    "    'EducationField',  # 3\n",
    "    'Gender',  # 4\n",
    "    'JobRole',  # 5\n",
    "    'MaritalStatus',  # 6\n",
    "    'OverTime',  # 7\n",
    "]\n",
    "## the exact transformations we want to perform\n",
    "renames = [\n",
    "    {'Travel_Rarely': 0.5, 'Travel_Frequently': 1, 'Non-Travel': 0},  # 1\n",
    "    {'Cardiology': 0, 'Maternity': 1, 'Neurology': 2},  # 2\n",
    "    {'Life Sciences': 0, 'Medical': 1, 'Marketing': 2, 'Technical Degree': 3,\n",
    "     'Human Resources': 4, 'Other': 5},  # 3\n",
    "    {'Male': 0, 'Female': 1},  # 4\n",
    "    {'Nurse': 1, 'Other': 0, 'Therapist': 2, 'Administrative': 3, 'Admin': 4},  # 5\n",
    "    {'Married': 0, 'Single': 1, 'Divorced': 2},  # 6\n",
    "    {'No': 0, 'Yes' : 1},  # 7\n",
    "]\n",
    "## all features\n",
    "data_train_validation_num = data_renaming(df_train_validation, renames, features)\n",
    "## y values. Separated because in the test data we don't have 'Attrition'\n",
    "data_train_validation_num = data_renaming(data_train_validation_num, [{'No': 0, 'Yes' : 1}], ['Attrition'])\n",
    "## test features (no values)\n",
    "data_test_num = data_renaming(df_test, renames, features)"
   ]
  },
  {
   "cell_type": "markdown",
   "metadata": {},
   "source": [
    "Relocating all \"non-numerical feature\" (features with multiple choices and not numerical values)\n",
    "to the end of the data base to make it easier to process later."
   ]
  },
  {
   "cell_type": "code",
   "execution_count": 5,
   "metadata": {
    "pycharm": {
     "name": "#%%\n"
    }
   },
   "outputs": [],
   "source": [
    "features_end = [\n",
    "    'Department',  # 2\n",
    "    'EducationField',  # 3\n",
    "    'JobRole',  # 5\n",
    "    'MaritalStatus',  # 6\n",
    "]\n",
    "data_train_validation_num_sort = features_move_to_end(data_train_validation_num, features_end)\n",
    "data_test_num_sort = features_move_to_end(data_test_num, features_end)"
   ]
  },
  {
   "cell_type": "markdown",
   "metadata": {},
   "source": [
    "Deleting ['Over18', 'EmployeeCount', 'StandardHours'] since they carry 0 info (all values are the same, only 1\n",
    "choice)."
   ]
  },
  {
   "cell_type": "code",
   "execution_count": 6,
   "metadata": {
    "pycharm": {
     "name": "#%%\n"
    }
   },
   "outputs": [],
   "source": [
    "features_delete = ['Over18', 'EmployeeCount', 'StandardHours']\n",
    "data_train_validation_num_useful = delete_useless_data(data_train_validation_num_sort, features_delete)\n",
    "data_test_num_useful = delete_useless_data(data_test_num_sort, features_delete)"
   ]
  },
  {
   "cell_type": "markdown",
   "metadata": {},
   "source": [
    "Splitting training_validation data into the training and validation parts.\n",
    "(I tried here different portions, 0.1, 0.15, 0.2, 0.25, 0.3)"
   ]
  },
  {
   "cell_type": "code",
   "execution_count": 7,
   "metadata": {
    "pycharm": {
     "name": "#%%\n"
    }
   },
   "outputs": [],
   "source": [
    "data_train, data_val = train_test_split(data_train_validation_num_useful, test_size=0.20, random_state=1)\n",
    "# test_size=0.1, 0.15, 0.2, 0.25, 0.3"
   ]
  },
  {
   "cell_type": "markdown",
   "metadata": {},
   "source": [
    "Rescaling all the features into [0, 1] diapason (using training data so we are not interfering with the test\n",
    "and validation data)."
   ]
  },
  {
   "cell_type": "code",
   "execution_count": 8,
   "metadata": {
    "pycharm": {
     "name": "#%%\n"
    }
   },
   "outputs": [],
   "source": [
    "## splitting the data into X and y parts.\n",
    "## X_train_full - all the training data\n",
    "X_train_full = data_train_validation_num_useful.drop('Attrition', axis=1)\n",
    "y_train_full = data_train_validation_num_useful['Attrition']\n",
    "## X_train is the data we testing or algorithms on\n",
    "X_train = data_train.drop('Attrition', axis=1)\n",
    "y_train = data_train['Attrition']\n",
    "## X_val is what I am using for the validation of the algorithms\n",
    "X_val = data_val.drop('Attrition', axis=1)\n",
    "y_val = data_val['Attrition']\n",
    "\n",
    "## rescaling training and validation data, both using train data as a reference\n",
    "min_max_scaler = MinMaxScaler(feature_range=(0,1))\n",
    "min_max_scaler.fit(X_train)\n",
    "X_train = min_max_scaler.transform(X_train)\n",
    "X_val = min_max_scaler.transform(X_val)\n",
    "\n",
    "## rescaling the full data for the final model\n",
    "min_max_scaler_full = MinMaxScaler(feature_range=(0,1))\n",
    "min_max_scaler_full.fit(X_train_full)\n",
    "X_train_full = min_max_scaler_full.transform(X_train_full)\n",
    "X_test = min_max_scaler_full.transform(data_test_num_useful)"
   ]
  },
  {
   "cell_type": "markdown",
   "metadata": {},
   "source": [
    "Here I was learning how to use the oversampling. I tried imblearn.over_sampling package to make\n",
    "our strongly imbalance data more balance. I used SMOTE and ADASYN algorithms.\n",
    "ADASYN worked better for the algorithms I have been working with."
   ]
  },
  {
   "cell_type": "code",
   "execution_count": 9,
   "metadata": {
    "pycharm": {
     "name": "#%%\n"
    }
   },
   "outputs": [
    {
     "name": "stdout",
     "output_type": "stream",
     "text": [
      "1072\n",
      "1862\n",
      "[[0.52719119 0.4047619  0.5        ... 0.2        0.25       0.        ]\n",
      " [0.43803718 0.47619048 0.         ... 0.2        0.         1.        ]\n",
      " [0.06442449 0.19047619 1.         ... 0.2        0.         0.        ]\n",
      " ...\n",
      " [0.45059079 0.02380952 0.5        ... 0.19039679 0.170668   0.5       ]\n",
      " [0.64813809 0.15961644 0.5        ... 0.         0.25       0.5       ]\n",
      " [0.60131132 0.02980132 0.56291388 ... 0.         0.25       0.5       ]] 1862\n"
     ]
    }
   ],
   "source": [
    "oversampling = True\n",
    "if oversampling:\n",
    "    over_ = 'adasyn' # 'smote' 'adasyn'\n",
    "    if over_ == 'smote':\n",
    "        print(len(y_train))\n",
    "        X_train, y_train = SMOTE(random_state=15).fit_resample(X_train, y_train)\n",
    "        print(len(y_train))\n",
    "        if True:\n",
    "            X_train_full, y_train_full = SMOTE(random_state=15).fit_resample(X_train_full, y_train_full)\n",
    "    else:\n",
    "        print(len(y_train))\n",
    "        X_train, y_train = ADASYN(random_state=15).fit_resample(X_train, y_train)\n",
    "        print(len(y_train))\n",
    "        if True:\n",
    "            X_train_full, y_train_full = ADASYN(random_state=15).fit_resample(X_train_full, y_train_full)\n",
    "print(X_train, len(X_train))"
   ]
  },
  {
   "cell_type": "markdown",
   "metadata": {},
   "source": [
    "Trying to find good features.\n",
    "\n",
    "Plotting ROC curves for all the individual features using logistic regressions to see which features perform the best."
   ]
  },
  {
   "cell_type": "code",
   "execution_count": 10,
   "metadata": {
    "pycharm": {
     "name": "#%%\n"
    }
   },
   "outputs": [
    {
     "name": "stdout",
     "output_type": "stream",
     "text": [
      "#0: 0.5299898914368006), score=0.5241675617615468\n",
      "#1: 0.7552014096599091), score=0.7132116004296455\n",
      "#2: 0.5793579908422879), score=0.6100966702470462\n",
      "#3: 0.5424276937705402), score=0.5392051557465092\n",
      "#4: 0.6000649671356302), score=0.575187969924812\n",
      "#5: 0.5235052943022784), score=0.48549946294307195\n",
      "#6: 0.6090374709205716), score=0.5762620837808807\n",
      "#7: 0.5007454488386691), score=0.5069817400644469\n",
      "#8: 0.5606265693659762), score=0.5359828141783028\n",
      "#9: 0.6372341309405117), score=0.6176154672395274\n",
      "#10: 0.7190257929913961), score=0.7148227712137487\n",
      "#11: 0.588358189320926), score=0.5622986036519871\n",
      "#12: 0.7235348353088882), score=0.6595059076262084\n",
      "#13: 0.5437674245781174), score=0.5252416756176155\n",
      "#14: 0.4997865200694214), score=0.5069817400644469\n",
      "#15: 0.7175862458919537), score=0.7073039742212675\n",
      "#16: 0.5084497664414165), score=0.5268528464017186\n",
      "#17: 0.5179946272294228), score=0.5102040816326531\n",
      "#18: 0.5566194933717367), score=0.5343716433941997\n",
      "#19: 0.6407928990805362), score=0.6498388829215896\n",
      "#20: 0.7707352479598242), score=0.7126745435016112\n",
      "#21: 0.5311449909530668), score=0.5204081632653061\n",
      "#22: 0.5632281396551089), score=0.5735767991407089\n",
      "#23: 0.7360032172002512), score=0.6885069817400644\n",
      "#24: 0.7124223394630922), score=0.6519871106337272\n",
      "#25: 0.5413891427569144), score=0.5510204081632653\n",
      "#26: 0.7165528876333961), score=0.6621911922663802\n",
      "#27: 0.5370889645877184), score=0.5499462943071965\n",
      "#28: 0.4862542003618773), score=0.4774436090225564\n",
      "#29: 0.6408130931280234), score=0.6186895810955961\n",
      "#30: 0.5467578745245745), score=0.4505907626208378\n",
      "[0.52998989 0.75520141 0.57935799 0.54242769 0.60006497 0.52350529\n",
      " 0.60903747 0.50074545 0.56062657 0.63723413 0.71902579 0.58835819\n",
      " 0.72353484 0.54376742 0.49978652 0.71758625 0.50844977 0.51799463\n",
      " 0.55661949 0.6407929  0.77073525 0.53114499 0.56322814 0.73600322\n",
      " 0.71242234 0.54138914 0.71655289 0.53708896 0.4862542  0.64081309\n",
      " 0.54675787]\n",
      "[[ 1]\n",
      " [10]\n",
      " [12]\n",
      " [15]\n",
      " [20]\n",
      " [23]\n",
      " [24]\n",
      " [26]]\n"
     ]
    },
    {
     "data": {
      "text/plain": "<Figure size 432x288 with 1 Axes>",
      "image/png": "[encoded data removed]"
     },
     "metadata": {
      "needs_background": "light"
     },
     "output_type": "display_data"
    }
   ],
   "source": [
    "auc_value = []\n",
    "\n",
    "for i, x_train in enumerate(np.array(X_train).T):\n",
    "    x_train  = x_train.reshape(-1, 1)\n",
    "    log_reg = LogisticRegression(random_state=0, penalty='l1', solver='liblinear').fit(x_train, y_train)\n",
    "    y_pred = log_reg.predict_proba(x_train)[:, 1]\n",
    "    ## calculating the auc_values for each log regression rained on a single feature i\n",
    "    fpr, tpr, thresholds = metrics.roc_curve(np.array(y_train, dtype=int),  y_pred)\n",
    "    auc = metrics.roc_auc_score(y_train, y_pred)\n",
    "    auc_value.append(auc)\n",
    "    # predict = log_reg.predict(x_train)\n",
    "    # print(predict[predict != 0])\n",
    "    print(f'#{i}: {auc}), score={log_reg.score(x_train, np.array(y_train))}')\n",
    "    ## ploting ROC curves\n",
    "    plt.plot(fpr,tpr)\n",
    "    plt.ylabel('TP Rate')\n",
    "    plt.xlabel('FP Rate')\n",
    "\n",
    "## printing all the auc values to see the best features\n",
    "auc_value = np.array(auc_value)\n",
    "print(auc_value)\n",
    "## studying how many good feature we have\n",
    "print(np.argwhere(auc_value > 0.65))  # 0.50, 0.55, 0.60, 0.65\n",
    "plt.grid(True)\n",
    "plt.show()\n",
    "## some of the best features\n",
    "# good: 1, (9), 10, 12, 15, (19), 20, 23, 24, 26, (29)"
   ]
  },
  {
   "cell_type": "markdown",
   "metadata": {},
   "source": [
    "Learning how to use sklearn.feature_selection.\n",
    "\n",
    "I am using 3 different metrics and they give almost the same results with some minor variations"
   ]
  },
  {
   "cell_type": "code",
   "execution_count": 11,
   "metadata": {
    "pycharm": {
     "name": "#%%\n"
    }
   },
   "outputs": [
    {
     "name": "stdout",
     "output_type": "stream",
     "text": [
      "[ 1 10 12 15 19 20 23 24 26 29]\n",
      "[ 1 10 12 15 19 20 23 24 26 29]\n",
      "[ 1  4  8 14 16 20 21 23 24 26]\n",
      "[ 1  6 10 12 15 19 20 23 24 25 26 29]\n",
      "[ 1  6  9 10 12 15 19 20 23 24 26 29]\n",
      "[ 1  4  5  8 14 16 20 21 23 24 25 26]\n",
      "[ 1  6  9 10 12 15 17 19 20 23 24 25 26 29]\n",
      "[ 1  4  6  9 10 12 15 19 20 23 24 25 26 29]\n",
      "[ 1  4  5  8 10 14 16 20 21 23 24 25 26 28]\n",
      "[ 1  4  6  9 10 11 12 15 17 19 20 23 24 25 26 29]\n",
      "[ 1  2  4  6  9 10 11 12 15 19 20 23 24 25 26 29]\n",
      "[ 1  4  5  6  8 10 11 14 16 20 21 23 24 25 26 28]\n",
      "[ 1  2  4  6  8  9 10 11 12 15 17 19 20 23 24 25 26 29]\n",
      "[ 1  2  4  6  8  9 10 11 12 15 19 20 22 23 24 25 26 29]\n",
      "[ 1  4  5  6  8  9 10 11 14 16 18 20 21 23 24 25 26 28]\n",
      "[ 1  2  4  6  8  9 10 11 12 15 17 18 19 20 23 24 25 26 27 29]\n",
      "[ 1  2  4  6  8  9 10 11 12 15 17 18 19 20 22 23 24 25 26 29]\n",
      "[ 1  4  5  6  8  9 10 11 14 16 18 20 21 22 23 24 25 26 28 29]\n",
      "[ 1  2  4  6  8  9 10 11 12 13 15 17 18 19 20 22 23 24 25 26 27 29]\n",
      "[ 1  2  4  6  8  9 10 11 12 13 15 17 18 19 20 22 23 24 25 26 27 29]\n",
      "[ 1  4  5  6  8  9 10 11 14 16 18 19 20 21 22 23 24 25 26 28 29 30]\n",
      "[ 1  2  3  4  6  8  9 10 11 12 13 15 16 17 18 19 20 22 23 24 25 26 27 29]\n",
      "[ 1  2  3  4  6  8  9 10 11 12 13 15 17 18 19 20 21 22 23 24 25 26 27 29]\n",
      "[ 1  2  4  5  6  8  9 10 11 14 16 18 19 20 21 22 23 24 25 26 27 28 29 30]\n"
     ]
    }
   ],
   "source": [
    "## K here stands for the number of the best features\n",
    "for K in [10, 12, 14, 16, 18, 20, 22, 24]:\n",
    "    ## using 3 different metrics here and printing the best results\n",
    "    X_best = SelectKBest(chi2, k=K).fit(X_train, y_train)\n",
    "    good_chi = X_best.get_support(True)\n",
    "    print(good_chi)\n",
    "    X_best = SelectKBest(f_classif, k=K).fit(X_train, y_train)\n",
    "    good_f = X_best.get_support(True)\n",
    "    print(good_f)\n",
    "    X_best = SelectKBest(mutual_info_classif, k=K).fit(X_train, y_train)\n",
    "    good_mutual = X_best.get_support(True)\n",
    "    print(good_mutual)"
   ]
  },
  {
   "cell_type": "markdown",
   "metadata": {},
   "source": [
    "Studying the correlation between features. Checking if there are features with very high correlation.\n",
    "It seems like there are no features that we can discard. They all have at least some extra information."
   ]
  },
  {
   "cell_type": "code",
   "execution_count": 12,
   "metadata": {
    "pycharm": {
     "name": "#%%\n"
    }
   },
   "outputs": [
    {
     "name": "stdout",
     "output_type": "stream",
     "text": [
      "feature #0: [ 1.          0.01084989  0.06969375  0.03402593 -0.04909657 -0.00769498\n",
      " -0.06339786  0.00566963 -0.01620359 -0.12000761 -0.00701266  0.03092725\n",
      " -0.0192286  -0.01422055  0.08876807 -0.02099639 -0.01124058  0.03276864\n",
      " -0.01469112 -0.00515771  0.00841317 -0.0231872  -0.06619107 -0.00533783\n",
      " -0.00623978  0.06499876  0.00784805 -0.05366953 -0.0341357  -0.00246933\n",
      " -0.00407835]\n",
      "feature #1: [ 1.08498867e-02  1.00000000e+00 -6.29730963e-02  1.12392586e-01\n",
      "  2.34056213e-02  2.15614130e-01  3.78361789e-02 -2.49197900e-02\n",
      "  5.99766217e-02  9.60351525e-02  5.60158376e-01  3.24288575e-02\n",
      "  5.51208650e-01 -1.56067593e-02  3.16628143e-01 -4.93608345e-02\n",
      "  1.07078255e-02  1.30347594e-02  1.09386347e-01  1.46226603e-01\n",
      "  7.19670990e-01 -2.59756291e-02  7.57522727e-04  4.10033355e-01\n",
      "  3.37097776e-01  2.63541181e-01  3.33935826e-01  6.72852250e-02\n",
      " -7.65173596e-02  3.07576604e-01 -3.73051112e-03]\n",
      "feature #2: [ 6.96937531e-02 -6.29730963e-02  1.00000000e+00 -2.12689849e-02\n",
      " -6.56127047e-02  7.68494892e-02  3.28947073e-02  1.04286059e-01\n",
      " -8.14809032e-02  3.12971353e-02 -7.43730675e-02  1.02190749e-01\n",
      " -6.78183240e-02  4.79497494e-02 -6.66141088e-02  7.18455781e-02\n",
      " -1.00018393e-01 -6.70453399e-02 -1.07907527e-02 -5.21526194e-02\n",
      " -3.56834812e-02  6.87274534e-02 -6.72891291e-04 -1.71110690e-02\n",
      " -2.61649868e-02 -1.96050478e-02 -5.13713040e-02  6.10263402e-03\n",
      " -1.45099375e-02 -9.72292744e-02  2.27740135e-02]\n",
      "feature #3: [ 0.03402593  0.11239259 -0.02126898  1.         -0.03738068 -0.0054238\n",
      "  0.05127901 -0.00500701  0.04024541  0.08143286  0.07175511  0.07752126\n",
      "  0.0674453  -0.09658211  0.04693376  0.05999004 -0.00630184 -0.02096998\n",
      "  0.0144008   0.07027068  0.08645586  0.03184818 -0.05465203  0.0177384\n",
      "  0.04119547 -0.02146642  0.023668    0.03017389  0.01440589  0.03603207\n",
      " -0.00890644]\n",
      "feature #4: [-0.04909657  0.02340562 -0.0656127  -0.03738068  1.          0.03851054\n",
      " -0.01918991 -0.03246045  0.02233761 -0.00452776  0.02816175 -0.03240034\n",
      " -0.00583898  0.03647694  0.00878897  0.12429717  0.08100418  0.02275642\n",
      "  0.01801836 -0.01146496 -0.02141291 -0.07343516 -0.0374823  -0.01734228\n",
      " -0.00773867  0.00539103 -0.00434883 -0.07734031  0.049274    0.00333733\n",
      " -0.07896038]\n",
      "feature #5: [-7.69498028e-03  2.15614130e-01  7.68494892e-02 -5.42380406e-03\n",
      "  3.85105417e-02  1.00000000e+00 -1.74355966e-02 -4.84751361e-02\n",
      "  8.40508585e-04  4.48158668e-02  8.49870775e-02  2.45587975e-02\n",
      "  8.84816869e-02 -2.38621205e-02  7.86019220e-02  3.74576716e-02\n",
      " -2.80156350e-02 -1.25514103e-02  5.25378543e-02  2.34728455e-02\n",
      "  1.35667277e-01  2.98873957e-02 -3.66066456e-02  8.67823483e-02\n",
      "  8.77563007e-02  8.00986382e-02  6.30992894e-02 -2.22418346e-03\n",
      " -1.71241557e-02  7.36469823e-02  1.13311459e-02]\n",
      "feature #6: [-0.06339786  0.03783618  0.03289471  0.05127901 -0.01918991 -0.0174356\n",
      "  1.          0.04730751 -0.02587813  0.08063279  0.03115521  0.08647342\n",
      "  0.02734569  0.01453395 -0.0821298   0.09789221 -0.01877356 -0.07809795\n",
      "  0.00997175  0.10458966  0.01804838  0.02126675  0.00632887  0.07495572\n",
      "  0.08338809  0.05023862  0.05303847  0.06540565  0.12457717  0.04492461\n",
      "  0.04581229]\n",
      "feature #7: [ 0.00566963 -0.02491979  0.10428606 -0.00500701 -0.03246045 -0.04847514\n",
      "  0.04730751  1.         -0.03060476 -0.06401929  0.0099992  -0.02713464\n",
      " -0.01100039  0.11905814 -0.00521668  0.03023776 -0.00789459  0.00275032\n",
      " -0.0986518   0.02554925  0.01787832  0.05053896  0.05613678  0.05752823\n",
      "  0.0766999   0.03305502  0.03267827 -0.04366658 -0.00408534 -0.02075024\n",
      "  0.04224129]\n",
      "feature #8: [-1.62035924e-02  5.99766217e-02 -8.14809032e-02  4.02454066e-02\n",
      "  2.23376059e-02  8.40508585e-04 -2.58781291e-02 -3.06047610e-02\n",
      "  1.00000000e+00  7.39020183e-02  1.91796837e-02 -7.72814249e-02\n",
      "  3.16494532e-02  9.85979966e-03  1.64609454e-02 -2.10162180e-02\n",
      " -3.18685454e-02 -4.14906600e-02 -8.36071197e-03  3.83932394e-02\n",
      "  3.83010058e-02 -3.72584439e-03 -2.96908908e-02  7.08065928e-03\n",
      "  2.15498019e-02 -2.70336525e-02  2.96406167e-03 -1.57452254e-02\n",
      " -1.79098694e-02  1.88911157e-02 -3.13098316e-02]\n",
      "feature #9: [-0.12000761  0.09603515  0.03129714  0.08143286 -0.00452776  0.04481587\n",
      "  0.08063279 -0.06401929  0.07390202  1.          0.03351278 -0.03045625\n",
      "  0.0393858  -0.10144208 -0.04141166  0.01961826  0.00229287  0.01709504\n",
      "  0.08566004  0.11066808  0.0647654  -0.03335723  0.06295088  0.06917064\n",
      "  0.08178527  0.01073801  0.10326853  0.04913493 -0.00300217 -0.01153939\n",
      "  0.00526771]\n",
      "feature #10: [-7.01265583e-03  5.60158376e-01 -7.43730675e-02  7.17551131e-02\n",
      "  2.81617456e-02  8.49870775e-02  3.11552094e-02  9.99920052e-03\n",
      "  1.91796837e-02  3.35127810e-02  1.00000000e+00  2.55047225e-02\n",
      "  9.51531081e-01  3.70909811e-02  1.84260860e-01 -1.26885726e-01\n",
      " -4.01317581e-02 -2.69919037e-02  6.96955876e-02  7.67507221e-02\n",
      "  8.00299936e-01 -6.26161500e-04  2.67765369e-02  5.62918343e-01\n",
      "  4.28444798e-01  3.75515874e-01  4.52478761e-01 -3.68454119e-02\n",
      " -1.80241879e-02  5.66646150e-01 -5.60798302e-02]\n",
      "feature #11: [ 3.09272473e-02  3.24288575e-02  1.02190749e-01  7.75212559e-02\n",
      " -3.24003446e-02  2.45587975e-02  8.64734189e-02 -2.71346446e-02\n",
      " -7.72814249e-02 -3.04562463e-02  2.55047225e-02  1.00000000e+00\n",
      "  1.39908172e-02  7.21468895e-02 -6.31860431e-02  5.96828793e-02\n",
      " -4.92861579e-02 -5.42653504e-02  6.18235793e-02  4.22057909e-02\n",
      "  1.96381099e-02 -3.23373201e-02 -6.59994067e-02  5.90001540e-02\n",
      "  5.32877362e-02  2.53367476e-02  2.71754371e-02  6.77368986e-02\n",
      "  1.10575294e-04  5.62436457e-02  2.76091247e-02]\n",
      "feature #12: [-0.0192286   0.55120865 -0.06781832  0.0674453  -0.00583898  0.08848169\n",
      "  0.02734569 -0.01100039  0.03164945  0.0393858   0.95153108  0.01399082\n",
      "  1.          0.04930404  0.19300716 -0.10492319 -0.04543927 -0.03408788\n",
      "  0.06133292  0.07139375  0.78956041 -0.00320146  0.02507806  0.5468476\n",
      "  0.416056    0.3768744   0.4280799   0.01949295 -0.02259017  0.54958228\n",
      " -0.05837371]\n",
      "feature #13: [-0.01422055 -0.01560676  0.04794975 -0.09658211  0.03647694 -0.02386212\n",
      "  0.01453395  0.11905814  0.0098598  -0.10144208  0.03709098  0.07214689\n",
      "  0.04930404  1.          0.03188762 -0.01275624 -0.04762379 -0.09784974\n",
      "  0.00348658 -0.05339077  0.01216983  0.00937972  0.00448189 -0.03549623\n",
      " -0.01213835 -0.02951685 -0.05107186 -0.03171825 -0.08016456  0.00120626\n",
      "  0.01979105]\n",
      "feature #14: [ 0.08876807  0.31662814 -0.06661411  0.04693376  0.00878897  0.07860192\n",
      " -0.0821298  -0.00521668  0.01646095 -0.04141166  0.18426086 -0.06318604\n",
      "  0.19300716  0.03188762  1.          0.00101181 -0.03185134 -0.05460979\n",
      "  0.08124205  0.07014627  0.27958054 -0.01441047 -0.00453664 -0.05955032\n",
      " -0.03369028  0.01387521 -0.02319252 -0.01600328  0.02431108  0.07134016\n",
      "  0.00192952]\n",
      "feature #15: [-0.02099639 -0.04936083  0.07184558  0.05999004  0.12429717  0.03745767\n",
      "  0.09789221  0.03023776 -0.02101622  0.01961826 -0.12688573  0.05968288\n",
      " -0.10492319 -0.01275624  0.00101181  1.          0.01898387  0.0336701\n",
      "  0.07456182  0.02030975 -0.09523161 -0.10004829 -0.00990043 -0.08682455\n",
      " -0.05985165 -0.03945316 -0.07424113 -0.00816532  0.01625038 -0.11658015\n",
      "  0.03461692]\n",
      "feature #16: [-1.12405779e-02  1.07078255e-02 -1.00018393e-01 -6.30184225e-03\n",
      "  8.10041787e-02 -2.80156350e-02 -1.87735585e-02 -7.89458770e-03\n",
      " -3.18685454e-02  2.29287009e-03 -4.01317581e-02 -4.92861579e-02\n",
      " -4.54392661e-02 -4.76237938e-02 -3.18513375e-02  1.89838696e-02\n",
      "  1.00000000e+00  7.82604769e-01 -3.75676580e-02  5.91465792e-02\n",
      " -1.61289947e-02 -6.43965225e-02  1.47458331e-02 -2.90754804e-02\n",
      "  9.66007417e-03 -7.43798824e-04 -8.75762022e-03  4.90017831e-02\n",
      " -1.79558918e-02  2.38709505e-02 -9.64844440e-03]\n",
      "feature #17: [ 0.03276864  0.01303476 -0.06704534 -0.02096998  0.02275642 -0.01255141\n",
      " -0.07809795  0.00275032 -0.04149066  0.01709504 -0.0269919  -0.05426535\n",
      " -0.03408788 -0.09784974 -0.05460979  0.0336701   0.78260477  1.\n",
      " -0.01842653  0.00118084  0.01029435 -0.10007204  0.02429269  0.00565926\n",
      "  0.0397899   0.03740111  0.0241507   0.06927151 -0.05124234  0.03480017\n",
      "  0.01446567]\n",
      "feature #18: [-0.01469112  0.10938635 -0.01079075  0.0144008   0.01801836  0.05253785\n",
      "  0.00997175 -0.0986518  -0.00836071  0.08566004  0.06969559  0.06182358\n",
      "  0.06133292  0.00348658  0.08124205  0.07456182 -0.03756766 -0.01842653\n",
      "  1.         -0.02367389  0.06104302  0.05079676  0.04937876  0.04499643\n",
      "  0.00973604  0.04211722  0.0301495   0.0070722   0.02125636  0.05523266\n",
      "  0.09899119]\n",
      "feature #19: [-0.00515771  0.1462266  -0.05215262  0.07027068 -0.01146496  0.02347285\n",
      "  0.10458966  0.02554925  0.03839324  0.11066808  0.07675072  0.04220579\n",
      "  0.07139375 -0.05339077  0.07014627  0.02030975  0.05914658  0.00118084\n",
      " -0.02367389  1.          0.09257404 -0.01304697  0.04690754  0.10406831\n",
      "  0.14238106  0.07419186  0.09367855  0.1188966  -0.00343021  0.06052146\n",
      "  0.02468839]\n",
      "feature #20: [ 0.00841317  0.71967099 -0.03568348  0.08645586 -0.02141291  0.13566728\n",
      "  0.01804838  0.01787832  0.03830101  0.0647654   0.80029994  0.01963811\n",
      "  0.78956041  0.01216983  0.27958054 -0.09523161 -0.01612899  0.01029435\n",
      "  0.06104302  0.09257404  1.         -0.00731025  0.00725798  0.67667689\n",
      "  0.54135393  0.43557723  0.56223589  0.05613565 -0.05124218  0.44362409\n",
      " -0.03568907]\n",
      "feature #21: [-2.31871958e-02 -2.59756291e-02  6.87274534e-02  3.18481790e-02\n",
      " -7.34351599e-02  2.98873957e-02  2.12667489e-02  5.05389632e-02\n",
      " -3.72584439e-03 -3.33572271e-02 -6.26161500e-04 -3.23373201e-02\n",
      " -3.20146398e-03  9.37971733e-03 -1.44104747e-02 -1.00048287e-01\n",
      " -6.43965225e-02 -1.00072039e-01  5.07967552e-02 -1.30469699e-02\n",
      " -7.31025049e-03  1.00000000e+00  6.65608839e-03  1.92850188e-02\n",
      "  1.21097852e-02 -3.99964576e-02  1.60728659e-02 -1.79599847e-02\n",
      " -1.40974571e-02  4.23302285e-02 -9.36985796e-03]\n",
      "feature #22: [-6.61910663e-02  7.57522727e-04 -6.72891291e-04 -5.46520312e-02\n",
      " -3.74823034e-02 -3.66066456e-02  6.32887100e-03  5.61367763e-02\n",
      " -2.96908908e-02  6.29508839e-02  2.67765369e-02 -6.59994067e-02\n",
      "  2.50780601e-02  4.48188903e-03 -4.53664455e-03 -9.90042680e-03\n",
      "  1.47458331e-02  2.42926857e-02  4.93787612e-02  4.69075408e-02\n",
      "  7.25798494e-03  6.65608839e-03  1.00000000e+00  5.93720781e-03\n",
      "  5.10399341e-02  7.33483336e-03  7.62867955e-03  5.42323187e-03\n",
      "  6.32195819e-02 -2.56958437e-02 -2.55470201e-02]\n",
      "feature #23: [-0.00533783  0.41003335 -0.01711107  0.0177384  -0.01734228  0.08678235\n",
      "  0.07495572  0.05752823  0.00708066  0.06917064  0.56291834  0.05900015\n",
      "  0.5468476  -0.03549623 -0.05955032 -0.08682455 -0.02907548  0.00565926\n",
      "  0.04499643  0.10406831  0.67667689  0.01928502  0.00593721  1.\n",
      "  0.7984478   0.62898193  0.81790387  0.03520419 -0.01936722  0.31660436\n",
      " -0.03155192]\n",
      "feature #24: [-0.00623978  0.33709778 -0.02616499  0.04119547 -0.00773867  0.0877563\n",
      "  0.08338809  0.0766999   0.0215498   0.08178527  0.4284448   0.05328774\n",
      "  0.416056   -0.01213835 -0.03369028 -0.05985165  0.00966007  0.0397899\n",
      "  0.00973604  0.14238106  0.54135393  0.01210979  0.05103993  0.7984478\n",
      "  1.          0.55458096  0.76077955  0.04233196 -0.00189856  0.2658284\n",
      " -0.02637041]\n",
      "feature #25: [ 6.49987634e-02  2.63541181e-01 -1.96050478e-02 -2.14664206e-02\n",
      "  5.39103202e-03  8.00986382e-02  5.02386244e-02  3.30550227e-02\n",
      " -2.70336525e-02  1.07380064e-02  3.75515874e-01  2.53367476e-02\n",
      "  3.76874396e-01 -2.95168548e-02  1.38752142e-02 -3.94531575e-02\n",
      " -7.43798824e-04  3.74011139e-02  4.21172154e-02  7.41918634e-02\n",
      "  4.35577228e-01 -3.99964576e-02  7.33483336e-03  6.28981933e-01\n",
      "  5.54580960e-01  1.00000000e+00  5.66731585e-01  1.10773608e-02\n",
      " -3.82299084e-02  1.27536845e-01 -6.14417858e-02]\n",
      "feature #26: [ 7.84805399e-03  3.33935826e-01 -5.13713040e-02  2.36680013e-02\n",
      " -4.34883398e-03  6.30992894e-02  5.30384730e-02  3.26782714e-02\n",
      "  2.96406167e-03  1.03268527e-01  4.52478761e-01  2.71754371e-02\n",
      "  4.28079896e-01 -5.10718639e-02 -2.31925169e-02 -7.42411327e-02\n",
      " -8.75762022e-03  2.41507049e-02  3.01494998e-02  9.36785466e-02\n",
      "  5.62235888e-01  1.60728659e-02  7.62867955e-03  8.17903865e-01\n",
      "  7.60779551e-01  5.66731585e-01  1.00000000e+00 -6.73938746e-04\n",
      " -9.37293396e-03  2.84377093e-01 -5.60123340e-02]\n",
      "feature #27: [-5.36695280e-02  6.72852250e-02  6.10263402e-03  3.01738936e-02\n",
      " -7.73403122e-02 -2.22418346e-03  6.54056460e-02 -4.36665776e-02\n",
      " -1.57452254e-02  4.91349268e-02 -3.68454119e-02  6.77368986e-02\n",
      "  1.94929480e-02 -3.17182520e-02 -1.60032784e-02 -8.16531546e-03\n",
      "  4.90017831e-02  6.92715058e-02  7.07219508e-03  1.18896601e-01\n",
      "  5.61356531e-02 -1.79599847e-02  5.42323187e-03  3.52041940e-02\n",
      "  4.23319571e-02  1.10773608e-02 -6.73938746e-04  1.00000000e+00\n",
      " -1.12535579e-02 -3.00683126e-02  7.25148731e-03]\n",
      "feature #28: [-3.41356988e-02 -7.65173596e-02 -1.45099375e-02  1.44058861e-02\n",
      "  4.92740000e-02 -1.71241557e-02  1.24577168e-01 -4.08534479e-03\n",
      " -1.79098694e-02 -3.00217217e-03 -1.80241879e-02  1.10575294e-04\n",
      " -2.25901714e-02 -8.01645575e-02  2.43110752e-02  1.62503808e-02\n",
      " -1.79558918e-02 -5.12423445e-02  2.12563605e-02 -3.43021241e-03\n",
      " -5.12421799e-02 -1.40974571e-02  6.32195819e-02 -1.93672201e-02\n",
      " -1.89856178e-03 -3.82299084e-02 -9.37293396e-03 -1.12535579e-02\n",
      "  1.00000000e+00 -9.95531142e-02 -5.05402305e-03]\n",
      "feature #29: [-0.00246933  0.3075766  -0.09722927  0.03603207  0.00333733  0.07364698\n",
      "  0.04492461 -0.02075024  0.01889112 -0.01153939  0.56664615  0.05624365\n",
      "  0.54958228  0.00120626  0.07134016 -0.11658015  0.02387095  0.03480017\n",
      "  0.05523266  0.06052146  0.44362409  0.04233023 -0.02569584  0.31660436\n",
      "  0.2658284   0.12753684  0.28437709 -0.03006831 -0.09955311  1.\n",
      " -0.05196964]\n",
      "feature #30: [-0.00407835 -0.00373051  0.02277401 -0.00890644 -0.07896038  0.01133115\n",
      "  0.04581229  0.04224129 -0.03130983  0.00526771 -0.05607983  0.02760912\n",
      " -0.05837371  0.01979105  0.00192952  0.03461692 -0.00964844  0.01446567\n",
      "  0.09899119  0.02468839 -0.03568907 -0.00936986 -0.02554702 -0.03155192\n",
      " -0.02637041 -0.06144179 -0.05601233  0.00725149 -0.00505402 -0.05196964\n",
      "  1.        ]\n"
     ]
    }
   ],
   "source": [
    "## here we need to transpose the matrix so we can see the correlationg between features and not the points\n",
    "corr = np.corrcoef(X_train_full.T)\n",
    "for i, cor in enumerate(corr):\n",
    "    ## just the correlation between each of the feature with all others\n",
    "    print(f'feature #{i}: {cor}')"
   ]
  },
  {
   "cell_type": "markdown",
   "metadata": {},
   "source": [
    "Different combinations of good features I have been using. Some of them I got later into the file and copied here."
   ]
  },
  {
   "cell_type": "code",
   "execution_count": 13,
   "metadata": {
    "pycharm": {
     "name": "#%%\n"
    }
   },
   "outputs": [],
   "source": [
    "# features_best = np.arange(31)\n",
    "# features_best = np.arange(30)\n",
    "# features_best = [1, 2, 4, 6, 9, 10, 11, 14, 15, 19, 20, 21, 22, 23, 24, 25]\n",
    "# features_best = [1, 9, 10, 12, 15, 19, 20, 23, 24, 26, 29]\n",
    "# features_best = [1, 10, 12, 15, 19, 20, 23, 24, 26]\n",
    "# features_best = [1, 3,  6,  8, 10, 12, 13, 15, 19, 20, 23, 24, 25, 26, 29, 30]\n",
    "features_best = [1, 2, 3, 4, 5, 6,  8,  9, 10, 11, 12, 13, 15, 19, 20, 21, 22, 23, 24, 25, 26, 27, 28, 29, 30]"
   ]
  },
  {
   "cell_type": "markdown",
   "metadata": {},
   "source": [
    "Training logistic regression with different parameters. I am using GridSearchCV here with different\n",
    "numbers of folders for cross-validation: cv = 5, 6, 7, 8, 9, 10."
   ]
  },
  {
   "cell_type": "code",
   "execution_count": 14,
   "metadata": {
    "pycharm": {
     "name": "#%%\n"
    }
   },
   "outputs": [
    {
     "name": "stdout",
     "output_type": "stream",
     "text": [
      "l2 1 {1: 1, 0: 1} 2 liblinear\n",
      "906 956\n",
      "944 918\n",
      "RF: Train score: 0.8947368421052632, Train F1 0.8954108858057631\n",
      "RF: Val score: 0.8656716417910447, Val F1 0.6086956521739131\n"
     ]
    }
   ],
   "source": [
    "## Using f1 score for GridSearchCV because f1 is used on the kaggle. But I also look at the score from sklearn\n",
    "f1 = make_scorer(f1_score , average='binary')\n",
    "\n",
    "## Different solvers and sets of the parameters were used. Here you can see some of them\n",
    "## 'liblinear' solver is used in the end because it's the fastest one\n",
    "## more over I have seen a noticeable difference using various solvers\n",
    "parameters_log_reg = {\n",
    "    'penalty':['l2'],\n",
    "    # 'penalty':['l2', 'l1'],\n",
    "    'C':[1e1, 0.8, 1, 2, 3, 4, 5, 6, 7, 8, 9],\n",
    "    # 'C':[1e0, 1e1, 5e1, 1e2, 8e2, 9e2, 1e3, 2e3, 3e3, 4e3, 4e3],\n",
    "    # 'class_weight':[{1:1, 0:1}, {1:1.5, 0:1}, {1:2, 0:1},{1:2.5, 0:1},\n",
    "    #                 {1:3, 0:1}, {1:3.5, 0:1}, {1:4, 0:1}, 'balanced'],\n",
    "    'class_weight':[{1:1, 0:1}],\n",
    "    'intercept_scaling':[1, 1.5, 2],\n",
    "    'solver':['liblinear'],\n",
    "}\n",
    "log_reg = LogisticRegression(random_state=1, max_iter=400)\n",
    "## n_jobs was set to 1 in the beginning because only without parallelism verbose=3 correctly\n",
    "## shows the information about each model\n",
    "clf = GridSearchCV(log_reg, parameters_log_reg, n_jobs=16, scoring=f1, cv=7)\n",
    "clf.fit(X_train[:, features_best], y_train)\n",
    "# print(clf.cv_results_)\n",
    "bestCase = clf.cv_results_['mean_test_score'].argmax()\n",
    "## printing the best parameters\n",
    "print(clf.cv_results_['param_penalty'][bestCase],\n",
    "      clf.cv_results_['param_C'][bestCase],\n",
    "      clf.cv_results_['param_class_weight'][bestCase],\n",
    "      clf.cv_results_['param_intercept_scaling'][bestCase],\n",
    "      clf.cv_results_['param_solver'][bestCase],\n",
    ")\n",
    "## retraining the model with the best parameters\n",
    "## sometimes I was changing them to something different here\n",
    "best_model = LogisticRegression(\n",
    "    random_state=1,\n",
    "    penalty=clf.cv_results_['param_penalty'][bestCase],\n",
    "    C=clf.cv_results_['param_C'][bestCase],\n",
    "    class_weight=clf.cv_results_['param_class_weight'][bestCase],\n",
    "    intercept_scaling=clf.cv_results_['param_intercept_scaling'][bestCase],\n",
    "    solver=clf.cv_results_['param_solver'][bestCase],\n",
    "\n",
    ")\n",
    "best_model.fit(X_train[:, features_best], y_train)\n",
    "prediction_train = best_model.predict(X_train[:, features_best])\n",
    "## looking at how many correctly predicted ones and zeros are\n",
    "print(len(prediction_train[prediction_train==0]),len(prediction_train[prediction_train==1]))\n",
    "print( len(y_train[y_train==0]), len(y_train[y_train==1]),)\n",
    "## printing the score and F1 value fro training data and validation data\n",
    "## to see the performance and make the conclusion how strongly we overfit\n",
    "prediction = best_model.predict(X_val[:, features_best])\n",
    "f1_best_train = f1_score(y_train, prediction_train)\n",
    "f1_best = f1_score(y_val, prediction)\n",
    "print(f'RF: Train score: {best_model.score(X_train[:, features_best], y_train)}, Train F1 {f1_best_train}')\n",
    "print(f'RF: Val score: {best_model.score(X_val[:, features_best], y_val)}, Val F1 {f1_best}')"
   ]
  },
  {
   "cell_type": "markdown",
   "metadata": {},
   "source": [
    "Here I was learning a new method to study the feature performance: SelectFromModel.\n",
    "I was using some of the sets it gave me in the retraining. I have not found it very useful\n",
    "because al the features almost always outperformed any smaller sets."
   ]
  },
  {
   "cell_type": "code",
   "execution_count": 15,
   "metadata": {
    "pycharm": {
     "name": "#%%\n"
    }
   },
   "outputs": [
    {
     "name": "stdout",
     "output_type": "stream",
     "text": [
      "threshold: None\n",
      "[ 1  4  6  9 10 14 15 19 20 22 24 25]\n",
      "Val score: 0.8880597014925373, Val F1 0.6511627906976745\n",
      "threshold: median\n",
      "[ 1  2  4  6  9 10 11 12 14 15 19 20 22 24 25 26]\n",
      "Val score: 0.8731343283582089, Val F1 0.6304347826086957\n",
      "threshold: -0.5\n",
      "[ 0  1  2  3  4  5  6  7  8  9 10 11 12 13 14 15 16 17 18 19 20 21 22 23\n",
      " 24 25 26 27 28 29 30]\n",
      "Val score: 0.8768656716417911, Val F1 0.6292134831460675\n",
      "threshold: 0\n",
      "[ 0  1  2  3  4  5  6  7  8  9 10 11 12 13 14 15 16 17 18 19 20 21 22 23\n",
      " 24 25 26 27 28 29 30]\n",
      "Val score: 0.8768656716417911, Val F1 0.6292134831460675\n",
      "threshold: 0.1\n",
      "[ 0  1  2  3  4  5  6  7  8  9 10 11 12 13 14 15 16 17 18 19 20 21 22 23\n",
      " 24 25 26 27 28 29]\n",
      "Val score: 0.8731343283582089, Val F1 0.6222222222222222\n",
      "threshold: 0.2\n",
      "[ 0  1  2  3  4  5  6  8  9 10 11 12 13 14 15 16 17 18 19 20 21 22 23 24\n",
      " 25 26 27 28 29]\n",
      "Val score: 0.8805970149253731, Val F1 0.6444444444444444\n",
      "threshold: 0.3\n",
      "[ 0  1  2  3  4  5  6  9 10 11 12 14 15 16 17 18 19 20 21 22 23 24 25 26\n",
      " 27 29]\n",
      "Val score: 0.8805970149253731, Val F1 0.6444444444444444\n",
      "threshold: 0.4\n",
      "[ 0  1  2  4  6  9 10 11 12 14 15 17 18 19 20 21 22 23 24 25 26 29]\n",
      "Val score: 0.8731343283582089, Val F1 0.6304347826086957\n",
      "threshold: 0.5\n",
      "[ 0  1  2  4  6  9 10 11 12 14 15 17 18 19 20 21 22 23 24 25 26 29]\n",
      "Val score: 0.8731343283582089, Val F1 0.6304347826086957\n",
      "threshold: 1\n",
      "[ 1  2  4  6  9 10 11 12 14 15 19 20 22 23 24 25 26 29]\n",
      "Val score: 0.8768656716417911, Val F1 0.6373626373626374\n",
      "threshold: 1.5\n",
      "[ 1  4  6  9 10 14 15 19 20 22 24 25]\n",
      "Val score: 0.8880597014925373, Val F1 0.6511627906976745\n",
      "threshold: 2\n",
      "[ 1  4  6  9 15 19 20 24 25]\n",
      "Val score: 0.8582089552238806, Val F1 0.5777777777777777\n",
      "threshold: 2.5\n",
      "[ 1  9 15 19 20 24 25]\n",
      "Val score: 0.8395522388059702, Val F1 0.5274725274725275\n"
     ]
    }
   ],
   "source": [
    "test_model = LogisticRegression(\n",
    "    random_state=1,\n",
    "    penalty=clf.cv_results_['param_penalty'][bestCase],\n",
    "    C=clf.cv_results_['param_C'][bestCase],\n",
    "    class_weight=clf.cv_results_['param_class_weight'][bestCase],\n",
    "    intercept_scaling=clf.cv_results_['param_intercept_scaling'][bestCase],\n",
    "    solver=clf.cv_results_['param_solver'][bestCase],\n",
    ")\n",
    "## threshold to see the different sets of the best features for my model\n",
    "for threshold in [None, 'median', -0.5, 0, 1e-1, 2e-1, 3e-1, 4e-1, 0.5, 1, 1.5, 2, 2.5]:\n",
    "    print(f'threshold: {threshold}')\n",
    "    ## choosing the best parameters from  our best model\n",
    "    model = SelectFromModel(estimator=test_model, threshold=threshold).fit(X_train, y_train)\n",
    "    # print(model.estimator_.coef_)\n",
    "    _best = np.array(model.get_support())\n",
    "    features_best_sel = np.stack(np.argwhere(_best == True), axis=1)[0]\n",
    "    print(features_best_sel)\n",
    "    ## re-training the model to see how it performs with the new set of features\n",
    "    test_model.fit(X_train[:, features_best_sel], y_train)\n",
    "    prediction = test_model.predict(X_val[:, features_best_sel])\n",
    "    f1_best = f1_score(y_val, prediction)\n",
    "    print(f'Val score: {test_model.score(X_val[:, features_best_sel], y_val)}, Val F1 {f1_best}')\n"
   ]
  },
  {
   "cell_type": "markdown",
   "metadata": {},
   "source": [
    "Measuring the speed performance. On average the training speed is ~ 9ms."
   ]
  },
  {
   "cell_type": "code",
   "execution_count": 16,
   "metadata": {
    "pycharm": {
     "name": "#%%\n"
    }
   },
   "outputs": [
    {
     "name": "stdout",
     "output_type": "stream",
     "text": [
      "0.007282760000089183\n"
     ]
    }
   ],
   "source": [
    "# THE_best_params = [1, 2, 3, 4, 6, 9, 10, 11, 12, 14, 15, 17, 18, 19, 20, 21, 22, 23, 24, 25, 27, 29, 30]  # 31 23\n",
    "# THE_best_params = [1, 2, 4, 6, 9, 10, 11, 14, 15, 19, 20, 21, 22, 23, 24, 25]  # 31 16\n",
    "THE_best_params = features_best\n",
    "times_train = 5  # number of retrainings\n",
    "time_log_reg = timeit.timeit('best_model.fit(X_train_full[:, THE_best_params], y_train_full)',\n",
    "                           number=times_train, globals=globals())\n",
    "print(time_log_reg / times_train)\n"
   ]
  },
  {
   "cell_type": "code",
   "execution_count": 17,
   "metadata": {
    "pycharm": {
     "name": "#%%\n"
    }
   },
   "outputs": [],
   "source": [
    "def result_file(prediction, name):\n",
    "    \"\"\"\n",
    "    Function saves the final prediction in the correct format for kaggle.com\n",
    "    :param prediction: array with the predictions\n",
    "    :param name: the name of the file\n",
    "    :return: None\n",
    "    \"\"\"\n",
    "    example = pd.read_csv('sample_submission.csv')\n",
    "    example['Predicted'] = prediction\n",
    "    print(name)\n",
    "    example.to_csv(name + '.csv', index=False)"
   ]
  },
  {
   "cell_type": "markdown",
   "metadata": {},
   "source": [
    "Prediction for the test data with the final model, trained on training data and on the whole data.\n",
    "Using 2 different piece of data data to see the difference between them.\n",
    "Parameters are optimized for the training data\n",
    "but the whole data is larger so both can work better."
   ]
  },
  {
   "cell_type": "code",
   "execution_count": 18,
   "metadata": {
    "pycharm": {
     "name": "#%%\n"
    }
   },
   "outputs": [
    {
     "name": "stdout",
     "output_type": "stream",
     "text": [
      "Val score: 0.8805970149253731, Val F1 0.6444444444444444\n",
      "Train score: 0.8839957035445757, Train F1 0.8853503184713376\n",
      "Train full score: 0.8909618573797679, Train full F1 0.8957590170432026\n",
      "prediction_logReg_Final_day_25_25_cv=8_full_resample\n"
     ]
    }
   ],
   "source": [
    "## selecting the features to use for the final model\n",
    "THE_best_params = features_best\n",
    "## here we can switch between the data we are using\n",
    "best_model.fit(X_train_full[:, THE_best_params], y_train_full)\n",
    "# best_model.fit(X_train[:, THE_best_params], y_train)\n",
    "prediction = best_model.predict(X_test[:, THE_best_params])\n",
    "prediction_val = best_model.predict(X_val[:, THE_best_params])\n",
    "f1_best = f1_score(y_val, prediction_val)\n",
    "print(f'Val score: {best_model.score(X_val[:, THE_best_params], y_val)}, Val F1 {f1_best}')\n",
    "prediction_train = best_model.predict(X_train[:, THE_best_params])\n",
    "f1_best = f1_score(y_train, prediction_train)\n",
    "print(f'Train score: {best_model.score(X_train[:, THE_best_params], y_train)}, Train F1 {f1_best}')\n",
    "prediction_train_full = best_model.predict(X_train_full[:, THE_best_params])\n",
    "f1_best = f1_score(y_train_full, prediction_train_full)\n",
    "print(f'Train full score: {best_model.score(X_train_full[:, THE_best_params], y_train_full)}, Train full F1 {f1_best}')\n",
    "result_file(prediction, f'prediction_logReg_Final_day_{len(features_best)}_{len(THE_best_params)}_cv=8_full_resample')"
   ]
  },
  {
   "cell_type": "markdown",
   "metadata": {},
   "source": [
    "Here I am using the random forest algorithm."
   ]
  },
  {
   "cell_type": "code",
   "execution_count": 19,
   "metadata": {
    "pycharm": {
     "name": "#%%\n"
    }
   },
   "outputs": [
    {
     "name": "stdout",
     "output_type": "stream",
     "text": [
      "Fitting 7 folds for each of 1 candidates, totalling 7 fits\n",
      "200 entropy None 2 1 None None sqrt\n",
      "943 919\n",
      "944 918\n",
      "RF: Train score: 0.9983888292158969, Train F1 0.9983669025585192\n",
      "RF: Val score: 0.9440298507462687, Val F1 0.7058823529411764\n"
     ]
    }
   ],
   "source": [
    "f1 = make_scorer(f1_score, average='binary')\n",
    "\n",
    "# some of the parameters I was looking at are in the comments\n",
    "parameters_RF = {\n",
    "    # 'n_estimators':[50, 75, 100, 150, 175],\n",
    "    'n_estimators':[200],\n",
    "    # 'criterion':['gini', 'entropy', 'log_loss'],\n",
    "    'criterion':['entropy'],\n",
    "    # 'max_depth':[None, 2, 3, 4, 5,  6, 7],\n",
    "    'max_depth':[None],\n",
    "    # 'min_samples_split':[2, 0.1, 0.15, 0.2, 0.3, 0.4],\n",
    "    # 'min_samples_split':[2, 0.001, 0.025, 0.05, 0.075, 0.1],\n",
    "    'min_samples_split':[2],\n",
    "    # 'min_samples_leaf':[1, 3, 7, 11],\n",
    "    'min_samples_leaf':[1],\n",
    "    # 'class_weight':['balanced', 'balanced_subsample', {1:1, 0:1}, {1:1.5, 0:1}, {1:2, 0:1}, {1:2.5, 0:1}],\n",
    "    'class_weight':[None],\n",
    "    # 'max_leaf_nodes':[None, 8, 16],\n",
    "    'max_leaf_nodes':[None],\n",
    "    # 'max_features': ['sqrt', None, 'log2'],\n",
    "    'max_features': ['sqrt'],\n",
    "}\n",
    "\n",
    "# parameters_RF = {\n",
    "#     # 'n_estimators':[50, 75, 125, 100, 125, 150, 175, 250],\n",
    "#     'n_estimators':[75],\n",
    "#     # 'criterion':['gini', 'entropy', 'log_loss'],\n",
    "#     'criterion':['log_loss'],\n",
    "#     # 'max_depth':[None, 2, 3, 4, 5,  6, 7, 8, 9],\n",
    "#     'max_depth':[5],\n",
    "#     # 'min_samples_split':[2, 0.1, 0.15, 0.2, 0.3, 0.4],\n",
    "#     # 'min_samples_split':[2, 0.001, 0.025, 0.05, 0.075, 0.1],\n",
    "#     'min_samples_split':[2],\n",
    "#     'min_samples_leaf':[1],\n",
    "#     # 'min_samples_leaf':[1, 5, 7],\n",
    "#     # 'class_weight':['balanced', 'balanced_subsample', {1:1, 0:1}, {1:1.5, 0:1}, {1:2, 0:1}, {1:2.5, 0:1}],\n",
    "#     'class_weight':[{1:1, 0:1}],\n",
    "#     # 'max_leaf_nodes':[None, 2,3 ,4],\n",
    "#     'max_leaf_nodes':[None],\n",
    "#     # 'max_features': ['sqrt', None, 'log2',4, 5, 6, 7, 8, 9, 10],\n",
    "#     'max_features': [9],\n",
    "#\n",
    "# }\n",
    "\n",
    "## selecting the random forest classifier\n",
    "RF_class = RandomForestClassifier(random_state=1)\n",
    "clf = GridSearchCV(RF_class, parameters_RF, n_jobs=16, scoring=f1, cv=7, verbose=3)\n",
    "clf.fit(X_train[:, features_best], y_train)\n",
    "# print(clf.cv_results_)\n",
    "bestCase = clf.cv_results_['mean_test_score'].argmax()\n",
    "## printing the best parameters\n",
    "print(clf.cv_results_['param_n_estimators'][bestCase],\n",
    "    clf.cv_results_['param_criterion'][bestCase],\n",
    "    clf.cv_results_['param_max_depth'][bestCase],\n",
    "    clf.cv_results_['param_min_samples_split'][bestCase],\n",
    "    clf.cv_results_['param_min_samples_leaf'][bestCase],\n",
    "    clf.cv_results_['param_class_weight'][bestCase],\n",
    "    clf.cv_results_['param_max_leaf_nodes'][bestCase],\n",
    "    clf.cv_results_['param_max_features'][bestCase],\n",
    ")\n",
    "## using the best parameters to train the model\n",
    "best_model = RandomForestClassifier(\n",
    "    random_state=1,\n",
    "    n_estimators=clf.cv_results_['param_n_estimators'][bestCase],\n",
    "    criterion=clf.cv_results_['param_criterion'][bestCase],\n",
    "    max_depth=clf.cv_results_['param_max_depth'][bestCase],\n",
    "    min_samples_split=clf.cv_results_['param_min_samples_split'][bestCase],\n",
    "    min_samples_leaf=clf.cv_results_['param_min_samples_leaf'][bestCase],\n",
    "    class_weight=clf.cv_results_['param_class_weight'][bestCase],\n",
    "    max_leaf_nodes=clf.cv_results_['param_max_leaf_nodes'][bestCase],\n",
    "    max_features=clf.cv_results_['param_max_features'][bestCase],\n",
    ")\n",
    "\n",
    "best_model.fit(X_train[:, features_best], y_train)\n",
    "prediction_train = best_model.predict(X_train[:, features_best])\n",
    "print(len(prediction_train[prediction_train==0]),len(prediction_train[prediction_train==1]))\n",
    "print( len(y_train[y_train==0]), len(y_train[y_train==1]),)\n",
    "## printing the score and F1 value fro training data and validation data\n",
    "## to see the performance and make the conclusion how strongly we overfit\n",
    "prediction = best_model.predict(X_val[:, features_best])\n",
    "f1_best_train = f1_score(y_train, prediction_train)\n",
    "f1_best = f1_score(y_val, prediction)\n",
    "print(f'RF: Train score: {best_model.score(X_train[:, features_best], y_train)}, Train F1 {f1_best_train}')\n",
    "print(f'RF: Val score: {best_model.score(X_val[:, features_best], y_val)}, Val F1 {f1_best}')"
   ]
  },
  {
   "cell_type": "markdown",
   "metadata": {},
   "source": [
    "Measuring the speed of the model. The average value is ~1s"
   ]
  },
  {
   "cell_type": "code",
   "execution_count": 20,
   "metadata": {
    "pycharm": {
     "name": "#%%\n"
    }
   },
   "outputs": [
    {
     "name": "stdout",
     "output_type": "stream",
     "text": [
      "0.7987325599999167\n",
      "RandomForestClassifier(criterion='entropy', n_estimators=200, random_state=1)\n"
     ]
    }
   ],
   "source": [
    "times_train = 5\n",
    "time_forest = timeit.timeit('best_model.fit(X_train_full[:, THE_best_params], y_train_full)',\n",
    "                           number=times_train, globals=globals())\n",
    "print(time_forest / times_train)\n",
    "print(best_model)"
   ]
  },
  {
   "cell_type": "markdown",
   "metadata": {},
   "source": [
    "Here I am working on the 3nd algorithm - adaboost. As an estimator I tried decision trees and support vector\n",
    "machines. 2nd one was too hard to optimize so in the end I was mostly using decision trees."
   ]
  },
  {
   "cell_type": "code",
   "execution_count": 21,
   "metadata": {
    "pycharm": {
     "name": "#%%\n"
    }
   },
   "outputs": [],
   "source": [
    "## some of the feature sets\n",
    "# features_best = np.arange(31)\n",
    "# features_best = [1, 2, 4, 6, 9, 10, 11, 14, 15, 19, 20, 21, 22, 23, 24, 25]\n",
    "# features_best = [1, 10, 12, 15, 19, 20, 23, 24, 26]\n",
    "# features_best = [1, 3,  6,  8, 10, 12, 13, 15, 19, 20, 23, 24, 25, 26, 29, 30]\n",
    "features_best = [1, 2, 3, 4, 5, 6,  8,  9, 10, 11, 12, 13, 15, 19, 20, 21, 22, 23, 24, 25, 26, 27, 28, 29, 30]"
   ]
  },
  {
   "cell_type": "code",
   "execution_count": 22,
   "metadata": {
    "pycharm": {
     "name": "#%%\n"
    }
   },
   "outputs": [
    {
     "name": "stdout",
     "output_type": "stream",
     "text": [
      "1 100 DecisionTreeClassifier(max_depth=4, max_features=5, max_leaf_nodes=2)\n",
      "944 918\n",
      "944 918\n",
      "RF: Train score: 0.9763694951664876, Train F1 0.9760348583877996\n",
      "RF: Val score: 0.9365671641791045, Val F1 0.7301587301587302\n"
     ]
    }
   ],
   "source": [
    "f1 = make_scorer(f1_score , average='binary')\n",
    "\n",
    "# different estimators\n",
    "tree1 = DecisionTreeClassifier()\n",
    "tree2 = DecisionTreeClassifier(max_depth=2)\n",
    "tree3 = DecisionTreeClassifier(max_depth=3)\n",
    "tree4 = DecisionTreeClassifier(max_depth=4, max_features=5, max_leaf_nodes=2, )\n",
    "tree5 = DecisionTreeClassifier(max_depth=5, max_features=7)\n",
    "tree6 = DecisionTreeClassifier(max_depth=6)\n",
    "svc1 = SVC(probability=True, kernel='linear', gamma='scale')\n",
    "svc1_2 = SVC(probability=True, kernel='linear', gamma='auto')\n",
    "svc2 = SVC(probability=True, kernel='poly', gamma='scale')\n",
    "svc2_2 = SVC(probability=True, kernel='poly', gamma='auto')\n",
    "svc3 = SVC(probability=True, kernel='rbf', gamma='scale')\n",
    "svc3_2 = SVC(probability=True, kernel='rbf', gamma='auto')\n",
    "## some combinations of the parameters to use in GridSearchCV\n",
    "parameters_AB = {\n",
    "    'learning_rate':[1],\n",
    "    'base_estimator':[tree4],\n",
    "    # 'base_estimator':[tree1, tree2, tree3, tree4,  tree5, tree6],\n",
    "                      # svc1, svc2, svc3, svc1_2, svc2_2, svc3_2],\n",
    "    # 'n_estimators':[50, 70, 90,],\n",
    "    'n_estimators':[100],\n",
    "}\n",
    "## adaboost classifier\n",
    "AB_class = AdaBoostClassifier(random_state=1)\n",
    "clf = GridSearchCV(AB_class, parameters_AB, scoring=f1, n_jobs=16, cv=5)\n",
    "clf.fit(X_train[:, features_best], y_train)\n",
    "# print(clf.cv_results_)\n",
    "bestCase = clf.cv_results_['mean_test_score'].argmax()\n",
    "print(clf.cv_results_['param_learning_rate'][bestCase],\n",
    "    clf.cv_results_['param_n_estimators'][bestCase],\n",
    "    clf.cv_results_['param_base_estimator'][bestCase],\n",
    ")\n",
    "best_model = AdaBoostClassifier(\n",
    "    random_state=1,\n",
    "    learning_rate=clf.cv_results_['param_learning_rate'][bestCase],\n",
    "    base_estimator=clf.cv_results_['param_base_estimator'][bestCase],\n",
    "    n_estimators=clf.cv_results_['param_n_estimators'][bestCase],\n",
    ")\n",
    "\n",
    "#4, 5, 2, 1, 0.97, 104\n",
    "## looking at the scores on the training and validation data and the number of 0 and 1 features\n",
    "best_model.fit(X_train[:, features_best], y_train)\n",
    "prediction_train = best_model.predict(X_train[:, features_best])\n",
    "print(len(prediction_train[prediction_train==0]),len(prediction_train[prediction_train==1]))\n",
    "print( len(y_train[y_train==0]), len(y_train[y_train==1]),)\n",
    "prediction = best_model.predict(X_val[:, features_best])\n",
    "f1_best_train = f1_score(y_train, prediction_train)\n",
    "f1_best = f1_score(y_val, prediction)\n",
    "print(f'RF: Train score: {best_model.score(X_train[:, features_best], y_train)}, Train F1 {f1_best_train}')\n",
    "print(f'RF: Val score: {best_model.score(X_val[:, features_best], y_val)}, Val F1 {f1_best}')"
   ]
  },
  {
   "cell_type": "markdown",
   "metadata": {},
   "source": [
    "Measuring the speed of the model. The average value is ~0.4s. Not the slowest one and and I achieved the best\n",
    "results with it."
   ]
  },
  {
   "cell_type": "code",
   "execution_count": 23,
   "metadata": {
    "pycharm": {
     "name": "#%%\n"
    }
   },
   "outputs": [
    {
     "name": "stdout",
     "output_type": "stream",
     "text": [
      "0.20230321999988518\n"
     ]
    }
   ],
   "source": [
    "times_train = 5\n",
    "time_ada = timeit.timeit('best_model.fit(X_train_full[:, THE_best_params], y_train_full)',\n",
    "                           number=times_train, globals=globals())\n",
    "print(time_ada / times_train)\n"
   ]
  },
  {
   "cell_type": "markdown",
   "metadata": {},
   "source": [
    "Calculating plots with some hyperparameter tunings. I am doing it with my final model (Adaboost one) and showing\n",
    "the curves for tuning the learning rate and the number of estimators."
   ]
  },
  {
   "cell_type": "code",
   "execution_count": 24,
   "metadata": {
    "pycharm": {
     "name": "#%%\n"
    }
   },
   "outputs": [
    {
     "name": "stdout",
     "output_type": "stream",
     "text": [
      "done\n"
     ]
    }
   ],
   "source": [
    "THE_best_params = np.arange(31)\n",
    "\n",
    "F1_scores_lr = []\n",
    "F1_scores_train_lr = []\n",
    "## for the learning rate curve\n",
    "for learning_rate in np.linspace(0.80, 0.99, 31):\n",
    "    for n_estimators in [97]:\n",
    "        tree4 = DecisionTreeClassifier(max_depth=4, max_features=5, max_leaf_nodes=2,\n",
    "                                       )\n",
    "        best_model = AdaBoostClassifier(\n",
    "            random_state=1,\n",
    "            learning_rate=learning_rate,\n",
    "            base_estimator=tree4,\n",
    "            n_estimators=n_estimators,\n",
    "        )\n",
    "        ## raining the model on the training data\n",
    "        best_model.fit(X_train[:, THE_best_params], y_train)\n",
    "        ## calculating the score for the validation data\n",
    "        prediction_val = best_model.predict(X_val[:, THE_best_params])\n",
    "        f1_best = f1_score(y_val, prediction_val)\n",
    "        F1_scores_lr.append(f1_best)\n",
    "        ## caluclating the score for the training data\n",
    "        prediction_train = best_model.predict(X_train[:, THE_best_params])\n",
    "        f1_best = f1_score(y_train, prediction_train)\n",
    "        F1_scores_train_lr.append(f1_best)\n",
    "\n",
    "F1_scores_ne = []\n",
    "F1_scores_train_ne = []\n",
    "## for n_estimators curve\n",
    "for learning_rate in [0.97]:\n",
    "    for n_estimators in range(69, 115):\n",
    "        tree4 = DecisionTreeClassifier(max_depth=4, max_features=5, max_leaf_nodes=2,\n",
    "                                       )\n",
    "        best_model = AdaBoostClassifier(\n",
    "            random_state=1,\n",
    "            learning_rate=learning_rate,\n",
    "            base_estimator=tree4,\n",
    "            n_estimators=n_estimators,\n",
    "        )\n",
    "        ## raining the model on the training data\n",
    "        best_model.fit(X_train[:, THE_best_params], y_train)\n",
    "        ## calculating the score for the validation data\n",
    "        prediction_val = best_model.predict(X_val[:, THE_best_params])\n",
    "        f1_best = f1_score(y_val, prediction_val)\n",
    "        F1_scores_ne.append(f1_best)\n",
    "        ## caluclating the score for the training data\n",
    "        prediction_train = best_model.predict(X_train[:, THE_best_params])\n",
    "        f1_best = f1_score(y_train, prediction_train)\n",
    "        F1_scores_train_ne.append(f1_best)\n",
    "\n",
    "\n",
    "print('done')"
   ]
  },
  {
   "cell_type": "markdown",
   "metadata": {},
   "source": [
    "Plotting the tuning of the learning rate for the adaboost."
   ]
  },
  {
   "cell_type": "code",
   "execution_count": 25,
   "metadata": {
    "pycharm": {
     "name": "#%%\n"
    }
   },
   "outputs": [
    {
     "data": {
      "text/plain": "<Figure size 432x288 with 1 Axes>",
      "image/png": "[encoded data removed]"
     },
     "metadata": {
      "needs_background": "light"
     },
     "output_type": "display_data"
    }
   ],
   "source": [
    "plt.scatter(0.97, 0.815, c='b', s=70)\n",
    "plt.plot(np.linspace(0.80, 0.99, 31),F1_scores_lr, lw=3, c='k', label='validation')\n",
    "plt.plot(np.linspace(0.80, 0.99, 31),F1_scores_train_lr, lw=3, c='r', label='training')\n",
    "plt.xlabel(f'learning_rate')\n",
    "plt.ylabel(f'F1 validation')\n",
    "plt.savefig('learning_rate.png')\n",
    "plt.show()"
   ]
  },
  {
   "cell_type": "markdown",
   "metadata": {},
   "source": [
    "Plotting the tuning of the number of features for the adaboost."
   ]
  },
  {
   "cell_type": "code",
   "execution_count": 26,
   "metadata": {
    "pycharm": {
     "name": "#%%\n"
    }
   },
   "outputs": [
    {
     "data": {
      "text/plain": "<Figure size 432x288 with 1 Axes>",
      "image/png": "[encoded data removed]"
     },
     "metadata": {
      "needs_background": "light"
     },
     "output_type": "display_data"
    }
   ],
   "source": [
    "plt.scatter(104, 0.817, c='b', s=70)\n",
    "plt.plot(range(69, 115),F1_scores_ne, lw=3, c='k', label='validation')\n",
    "plt.plot(range(69, 115),F1_scores_train_ne, lw=3, c='r', label='training')\n",
    "plt.xlabel(f'# estimators')\n",
    "plt.ylabel(f'F1 validation')\n",
    "plt.savefig('estimators.png')\n",
    "plt.show()"
   ]
  },
  {
   "cell_type": "markdown",
   "metadata": {},
   "source": [
    "ROC curves and AUC values for the final Adaboost model."
   ]
  },
  {
   "cell_type": "code",
   "execution_count": 31,
   "metadata": {
    "pycharm": {
     "name": "#%%\n"
    }
   },
   "outputs": [
    {
     "data": {
      "text/plain": "<Figure size 432x288 with 1 Axes>",
      "image/png": "[encoded data removed]"
     },
     "metadata": {
      "needs_background": "light"
     },
     "output_type": "display_data"
    }
   ],
   "source": [
    "THE_best_params = np.arange(31)\n",
    "tree4 = DecisionTreeClassifier(max_depth=4, max_features=5, max_leaf_nodes=2)\n",
    "best_model = AdaBoostClassifier(\n",
    "    random_state=1,\n",
    "    learning_rate=0.97,\n",
    "    base_estimator=tree4,\n",
    "    n_estimators=104,\n",
    ")\n",
    "best_model.fit(X_train[:, THE_best_params], y_train)\n",
    "y_pred = best_model.predict_proba(X_val[:, THE_best_params])[:, 1]\n",
    "## calculating the auc_values for validation data\n",
    "fpr, tpr, thresholds = metrics.roc_curve(np.array(y_val, dtype=int),  y_pred)\n",
    "auc = metrics.roc_auc_score(y_val, y_pred)\n",
    "## plotting ROC curve\n",
    "plt.plot(fpr,tpr, lw=3, label=f'validation (AUC={auc}')\n",
    "y_pred = best_model.predict_proba(X_train[:, THE_best_params])[:, 1]\n",
    "## calculating the auc_values for training data\n",
    "fpr, tpr, _ = metrics.roc_curve(np.array(y_train, dtype=int),  y_pred)\n",
    "auc = metrics.roc_auc_score(y_train, y_pred)\n",
    "## plotting ROC curve\n",
    "plt.plot(fpr,tpr, lw=3, label=f'validation (AUC={auc}')\n",
    "\n",
    "plt.ylabel('TP Rate')\n",
    "plt.xlabel('FP Rate')\n",
    "plt.grid(True)\n",
    "plt.legend()\n",
    "plt.savefig('ROC.png')\n",
    "plt.show()"
   ]
  },
  {
   "cell_type": "markdown",
   "metadata": {},
   "source": [
    "THE FINAL MODEL"
   ]
  },
  {
   "cell_type": "code",
   "execution_count": 28,
   "metadata": {
    "pycharm": {
     "name": "#%%\n"
    }
   },
   "outputs": [
    {
     "name": "stdout",
     "output_type": "stream",
     "text": [
      "The_FINAL_ada\n"
     ]
    }
   ],
   "source": [
    "tree4 = DecisionTreeClassifier(max_depth=4, max_features=5, max_leaf_nodes=2)\n",
    "best_model = AdaBoostClassifier(\n",
    "    random_state=1,\n",
    "    learning_rate=0.97,\n",
    "    base_estimator=tree4,\n",
    "    n_estimators=104,\n",
    ")\n",
    "## selecting the features to use for the final model\n",
    "THE_best_params = np.arange(31)\n",
    "## Training on the training data\n",
    "best_model.fit(X_train[:, THE_best_params], y_train)\n",
    "prediction = best_model.predict(X_test[:, THE_best_params])\n",
    "## saving the final predictions for the kaggle\n",
    "result_file(prediction, f'The_FINAL_ada')\n",
    "\n"
   ]
  }
 ],
 "metadata": {
  "kernelspec": {
   "display_name": "Python 3",
   "language": "python",
   "name": "python3"
  },
  "language_info": {
   "codemirror_mode": {
    "name": "ipython",
    "version": 3
   },
   "file_extension": ".py",
   "mimetype": "text/x-python",
   "name": "python",
   "nbconvert_exporter": "python",
   "pygments_lexer": "ipython3",
   "version": "3.9.7"
  }
 },
 "nbformat": 4,
 "nbformat_minor": 1
}