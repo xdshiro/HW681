{
 "cells": [
  {
   "cell_type": "markdown",
   "metadata": {
    "pycharm": {
     "name": "#%% md\n"
    }
   },
   "source": [
    "## **Problem 4: Classifiers and Metrics - Coding**\n",
    "**3.1** Copying the data from HW, transforming it into the numpy array and calculating\n",
    "g(**x**) values."
   ]
  },
  {
   "cell_type": "code",
   "execution_count": 1,
   "metadata": {},
   "outputs": [
    {
     "name": "stdout",
     "output_type": "stream",
     "text": [
      "[-1.54   0.564  3.118  1.994  0.406 -1.57  -0.316  0.278  3.32  -1.802]\n"
     ]
    }
   ],
   "source": [
    "import numpy as np\n",
    "import matplotlib.pyplot as plt\n",
    "\n",
    "thetaVector = 0.05, -3, 2.1, 0.008\n",
    "theta0Default = 0.3\n",
    "\n",
    "def g(x, thetaV=thetaVector, theta0=theta0Default):\n",
    "    thetaV = np.array(thetaV)\n",
    "    return np.matmul(thetaV, x) + theta0\n",
    "\n",
    "dataRaw = \"\"\"20 1 0 20 0\n",
    "18 1 1 33 0\n",
    "11 0 1 21 1\n",
    "31 0 0 18 1\n",
    "19 1 1 7 1\n",
    "21 1 0 10 0\n",
    "44 1 0 23 1\n",
    "15 1 1 16 0\n",
    "16 0 1 15 1\n",
    "17 1 0 6 0\"\"\"\n",
    "# transforming the data into an appropriate form\n",
    "data = np.array([row.split(sep=' ') for row in dataRaw.split(sep='\\n')], dtype=int).T\n",
    "xArray = data[0:4, :]\n",
    "print(g(xArray))"
   ]
  },
  {
   "cell_type": "markdown",
   "metadata": {
    "pycharm": {
     "name": "#%% md\n"
    }
   },
   "source": [
    "Now let's sort the data by Y values for an easier interpretation of the results\n",
    "(First - elements Y=1, then Y=0). If we plot the sorted data with the values\n",
    "g(**x**), we can clearly see that the threshold should be between\n",
    "values 0.278 and 0.406. Let's choose the value $(0.276+0.406)/2\\approx0.34$.\n",
    "That value allows us to have only 1 false positive and 1 false negative value."
   ]
  },
  {
   "cell_type": "code",
   "execution_count": 2,
   "metadata": {
    "pycharm": {
     "name": "#%%\n"
    }
   },
   "outputs": [
    {
     "data": {
      "text/plain": [
       "Text(0, 0.5, 'Y')"
      ]
     },
     "execution_count": 2,
     "metadata": {},
     "output_type": "execute_result"
    },
    {
     "data": {
      "image/png": "[encoded data removed]",
      "text/plain": [
       "<Figure size 432x288 with 1 Axes>"
      ]
     },
     "metadata": {
      "needs_background": "light"
     },
     "output_type": "display_data"
    }
   ],
   "source": [
    "threshold = 0.34\n",
    "dataSorted = data[:, data[4].argsort()[::-1]]\n",
    "xArraySorted = dataSorted[0:4, :]\n",
    "yArraySorted = dataSorted[4, :]\n",
    "valuesSorted = g(xArraySorted)\n",
    "plt.scatter(valuesSorted, yArraySorted)\n",
    "plt.plot([threshold, threshold], [-0.5, 1.5], c='r')\n",
    "plt.ylim(-1, 2)\n",
    "plt.xlabel('g(x)', fontsize=16)\n",
    "plt.ylabel('Y', fontsize=16)"
   ]
  },
  {
   "cell_type": "markdown",
   "metadata": {
    "pycharm": {
     "name": "#%% md\n"
    }
   },
   "source": [
    "**3.2** Let's calculate f(**x**) now. As we can see from the plot below, the new threshold value should be in between\n",
    "0.271 and 0.385. Let's choose threshold$=(0.271+0.385)/2\\approx0.33$"
   ]
  },
  {
   "cell_type": "code",
   "execution_count": 3,
   "metadata": {
    "pycharm": {
     "name": "#%%\n"
    }
   },
   "outputs": [
    {
     "name": "stdout",
     "output_type": "stream",
     "text": [
      "[-0.91212037  0.51093923  0.99609231  0.96360121  0.38507106 -0.91702576\n",
      " -0.30588564  0.27105303  0.99738936 -0.94701274]\n"
     ]
    },
    {
     "data": {
      "text/plain": [
       "Text(0, 0.5, 'Y')"
      ]
     },
     "execution_count": 3,
     "metadata": {},
     "output_type": "execute_result"
    },
    {
     "data": {
      "image/png": "[encoded data removed]",
      "text/plain": [
       "<Figure size 432x288 with 1 Axes>"
      ]
     },
     "metadata": {
      "needs_background": "light"
     },
     "output_type": "display_data"
    }
   ],
   "source": [
    "def tanh(z):\n",
    "    return (np.exp(z) - np.exp(-z)) / (np.exp(z) + np.exp(-z))\n",
    "\n",
    "def f(x, thetaV=thetaVector, theta0=theta0Default, func=tanh):\n",
    "    thetaV = np.array(thetaV)\n",
    "    return func(np.matmul(thetaV, x) + theta0)\n",
    "\n",
    "print(f(xArray))  # unsorted data\n",
    "sortedFValues = f(xArraySorted)  # sorted data\n",
    "\n",
    "threshold = 0.33\n",
    "plt.scatter(sortedFValues, yArraySorted)\n",
    "plt.plot([threshold, threshold], [-0.5, 1.5], c='r')\n",
    "plt.ylim(-1, 2)\n",
    "plt.xlabel('g(x)', fontsize=16)\n",
    "plt.ylabel('Y', fontsize=16)"
   ]
  },
  {
   "cell_type": "markdown",
   "metadata": {
    "pycharm": {
     "name": "#%% md\n"
    }
   },
   "source": [
    "F1 implementation"
   ]
  },
  {
   "cell_type": "code",
   "execution_count": 4,
   "metadata": {
    "pycharm": {
     "name": "#%%\n"
    }
   },
   "outputs": [
    {
     "name": "stdout",
     "output_type": "stream",
     "text": [
      "Precision=0.8, Recall=0.8, F1= 0.80000\n",
      "\n"
     ]
    }
   ],
   "source": [
    "def F1(labels_predicted, labels_true, print_values=True):\n",
    "    TP, FP, TN, FN = ([0]*4)\n",
    "    for pr, y in zip(labels_predicted, labels_true):\n",
    "        if pr == 1:\n",
    "            if pr == y:\n",
    "                TP += 1\n",
    "            else:\n",
    "                FP += 1\n",
    "        else:\n",
    "            if pr == y:\n",
    "                TN += 1\n",
    "            else:\n",
    "                FN += 1\n",
    "    precision = TP / (TP + FP)\n",
    "    recall = TP / (TP + FN)\n",
    "    F1 = 2 * (precision * recall) / (precision + recall)\n",
    "    if print_values:\n",
    "        print(f'Precision={precision}, Recall={recall}, F1={F1: 1.5f}')\n",
    "    return F1\n",
    "yPredictedSorted = []\n",
    "for v in sortedFValues:\n",
    "    if v > threshold:\n",
    "        yPredictedSorted.append(1)\n",
    "    else:\n",
    "        yPredictedSorted.append(0)\n",
    "F1_values = F1(yPredictedSorted, yArraySorted)\n",
    "print()"
   ]
  },
  {
   "cell_type": "markdown",
   "metadata": {},
   "source": [
    "We can see that with threshold=0.33 we have 1 false positive and 1 false negative prediction.\n",
    "### Confusion matrix:\n",
    "|  Total: 10   | Positive: 5 | Negative: 5 |\n",
    "| --- | --- | --- |\n",
    "| **Predicted Positive: 5** | True Positive (TP): 4 | False Positive (FP): 1 |\n",
    "| **Predicted Negative: 5**  | False Negative (FN): 1 | True Negative (TN): 4 |\n",
    "\n",
    "$\\textbf{Precision}=\\frac{\\text{TP}}{\\text{TP}+\\text{FP}}=\\frac{4}{4+1}=\\textbf{0.8}$,\n",
    "\n",
    "$\\textbf{Recall}=\\frac{\\text{TP}}{\\text{TP}+\\text{FN}}=\\frac{4}{4+1}=\\textbf{0.8}$,\n",
    "\n",
    "$\\textbf{F1}=2\\frac{\\text{Precision}\\times \\text{Recall}}{\\text{Precision}+\n",
    "\\text{Recall}}=\\textbf{0.8}$."
   ]
  },
  {
   "cell_type": "markdown",
   "metadata": {},
   "source": [
    "**3.3**\n",
    "ROC curve for $f(x)$.\n",
    "Red circle represents decision points with the minimum classification error."
   ]
  },
  {
   "cell_type": "code",
   "execution_count": 5,
   "metadata": {
    "pycharm": {
     "name": "#%%\n"
    }
   },
   "outputs": [
    {
     "data": {
      "image/png": "[encoded data removed]",
      "text/plain": [
       "<Figure size 432x288 with 1 Axes>"
      ]
     },
     "metadata": {
      "needs_background": "light"
     },
     "output_type": "display_data"
    }
   ],
   "source": [
    "order = sortedFValues.argsort()[::-1]\n",
    "fSorted = sortedFValues[order]\n",
    "ySorted = yArraySorted[order]\n",
    "valuesROC = np.zeros(len(order) + 1)\n",
    "xROC = np.zeros(len(order) + 1)\n",
    "for i, value in enumerate(ySorted):\n",
    "    valuesROC[i+1] = valuesROC[i] + value\n",
    "    xROC[i+1] = xROC[i] + (1 - value)\n",
    "plt.plot(xROC, valuesROC, c='b', lw=3)\n",
    "plt.scatter(1, 4, c='r', s=255)\n",
    "plt.scatter(xROC, valuesROC, c='b', s=65)\n",
    "# plt.ylim(-1, 2)\n",
    "plt.xlabel('False Positive', fontsize=16)\n",
    "plt.ylabel('True Positive', fontsize=16)\n",
    "plt.grid()"
   ]
  },
  {
   "cell_type": "markdown",
   "metadata": {
    "pycharm": {
     "name": "#%% md\n"
    }
   },
   "source": [
    "Normalized ROC curve:"
   ]
  },
  {
   "cell_type": "code",
   "execution_count": 6,
   "metadata": {
    "pycharm": {
     "name": "#%%\n"
    }
   },
   "outputs": [
    {
     "data": {
      "image/png": "[encoded data removed]",
      "text/plain": [
       "<Figure size 432x288 with 1 Axes>"
      ]
     },
     "metadata": {
      "needs_background": "light"
     },
     "output_type": "display_data"
    }
   ],
   "source": [
    "plt.plot(xROC / 5, valuesROC / 5, c='b', lw=3)\n",
    "plt.scatter(1/5, 4/5, c='r', s=255)\n",
    "plt.scatter(xROC / 5, valuesROC / 5, c='b', s=65)\n",
    "# plt.ylim(-1, 2)\n",
    "plt.xlabel('False Positive Rate', fontsize=16)\n",
    "plt.ylabel('True Positive Rate', fontsize=16)\n",
    "plt.grid()\n"
   ]
  }
 ],
 "metadata": {
  "kernelspec": {
   "display_name": "Python 3",
   "language": "python",
   "name": "python3"
  },
  "language_info": {
   "codemirror_mode": {
    "name": "ipython",
    "version": 3
   },
   "file_extension": ".py",
   "mimetype": "text/x-python",
   "name": "python",
   "nbconvert_exporter": "python",
   "pygments_lexer": "ipython3",
   "version": "3.9.7"
  }
 },
 "nbformat": 4,
 "nbformat_minor": 1
}
