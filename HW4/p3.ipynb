{
 "cells": [
  {
   "cell_type": "markdown",
   "metadata": {
    "collapsed": true,
    "pycharm": {
     "name": "#%% md\n"
    }
   },
   "source": [
    "# **3 Gradient computations in Neural Networks (Ed Tam)**\n",
    "\n",
    "$$\\mathbf{h}_1 = \\sigma\\left( \\mathbf{W}_1^\\top \\mathbf{x} + \\mathbf{b}_1 \\right),$$\n",
    "$$\\mathbf{h}_2 = \\sigma\\left( \\mathbf{W}_2^\\top \\mathbf{h}_1 + \\mathbf{b}_2 \\right),$$\n",
    "$$f(\\mathbf{x}) = \\mathbf{h}_3 =  \\sigma\\left( \\mathbf{W}_3^\\top \\mathbf{h}_2 + b_3 \\right),$$\n",
    "\n",
    "$$L=-\\sum_{i=1}^{N}y_i\\log(f(\\mathbf{x}_i)) + (1-y_i)\\log(1-f(\\mathbf{x}_i)),$$\n",
    "\n",
    "$$\\mathbf{z}_l := \\mathbf{W}_l^{\\top} \\mathbf{h}_{l-1}+\\mathbf{b}_l.$$"
   ]
  },
  {
   "cell_type": "markdown",
   "metadata": {
    "pycharm": {
     "name": "#%% md\n"
    }
   },
   "source": [
    "**3.1 Gradient Evaluation**\n",
    "\n",
    "In order to get $\\frac{\\partial L}{\\partial \\mathbf{W}_1}$ let's start with\n",
    " $-\\frac{\\partial L_i}{\\partial \\mathbf{W}_1}$:\n",
    "\n",
    "\\begin{eqnarray}\n",
    "\\frac{\\partial L_i}{\\partial \\mathbf{W}_1}=\\frac{\\partial L_i}{\\partial {h}_3}\\frac{\\partial {h}_3}{\\partial \\mathbf{W}_1},\n",
    "\\end{eqnarray}\n",
    "\n",
    "\n",
    "\\begin{eqnarray}\n",
    "\\frac{\\partial L_i}{\\partial {h}_3}=\\frac{\\partial L_i}{\\partial f}=\\frac{\\partial}{\\partial f}\\left(y_i\\log(f) + (1-y_i)\\log(1-f)\\right)=\\\\\n",
    "y_i\\dfrac{1}{f}+(1-y_i)\\dfrac{-1}{1-f}=\\dfrac{y_i-y_if-f+y_if}{f(1-f)}=\\dfrac{y_i-f}{f(1-f)}.\n",
    "\\end{eqnarray}\n",
    "\n",
    "Now let's simplify $\\frac{\\partial {h}_3}{\\partial \\mathbf{W}_1}$:\n",
    "\n",
    "\\begin{eqnarray}\n",
    "\\frac{\\partial {h}_3}{\\partial \\mathbf{W}_1}=\\frac{\\partial {h}_3}{\\partial z_3}\\frac{\\partial z_3}{\\partial \\mathbf{h_2}}\\frac{\\partial\\mathbf{h_2}}{\\partial\\mathbf{W}_1},\n",
    "\\end{eqnarray}\n",
    "\n",
    "We know that\n",
    "\n",
    "$$\\frac{\\partial {h}_3}{\\partial z_3}=\\sigma'(z_3)=\\sigma(z_3)(1-\\sigma(z_3))=h_3(1-h_3).$$\n",
    "\n",
    "Also,\n",
    "\n",
    "$$\\frac{\\partial z_3}{\\partial \\mathbf{h_2}}=\\mathbf{W}_{3}^T.$$\n",
    "\n",
    "Next step is to calculate $\\frac{\\partial h_2^l}{\\partial\\mathbf{W}_1}$:\n",
    "\n",
    "$$\\frac{\\partial\\mathbf{h}_2}{\\partial\\mathbf{W}_1}=\\frac{\\partial \\mathbf{h}_2}{\\partial \\mathbf{z}_2}\\frac{\\partial \\mathbf{z}_2}{\\partial \\mathbf{h_1}}\\frac{\\partial\\mathbf{h_1}}{\\partial\\mathbf{W}_1},$$\n",
    "\n",
    "where\n",
    "\n",
    "$$\\frac{\\partial \\mathbf{h}_2}{\\partial \\mathbf{z}_2}=\\mathbf{h}_2\\odot(\\mathbf{1}-\\mathbf{h}_2),$$\n",
    "\n",
    "where $\\odot$ is the Hadamard product (element wise multiplication) and $\\mathbf{1}$ is the vector of ones.\n",
    "\n",
    "for $\\frac{\\partial \\mathbf{z}_2}{\\partial \\mathbf{h_1}}$ we have:\n",
    "\n",
    "$$\\frac{\\partial \\mathbf{z}_2}{\\partial \\mathbf{h_1}}=\\mathbf{W}_{2}^{T}.$$\n",
    "\n",
    "The last derivative we are missing is $\\frac{\\partial\\mathbf{h_1}}{\\partial\\mathbf{W}_1}$ which is\n",
    "\n",
    "$$\\frac{\\partial\\mathbf{h_1}}{\\partial\\mathbf{W}_1}=\\frac{\\partial\\mathbf{h_1}}{\\partial\\mathbf{z}_1}\\frac{\\partial\\mathbf{z}_1}{\\partial \\mathbf{W}_1}=\\mathbf{h}_1\\odot(\\mathbf{1}-\\mathbf{h}_1)\\frac{\\partial \\mathbf{z}_1}{\\partial \\mathbf{W}_1},$$\n",
    "\n",
    "and the derivative $\\frac{\\partial \\mathbf{z}_1}{\\partial \\mathbf{W}_1}$ is\n",
    "\n",
    "$$\\frac{\\partial \\mathbf{z}_1}{\\partial \\mathbf{W}_1}=\\mathbf{x}^T.$$"
   ]
  },
  {
   "cell_type": "markdown",
   "metadata": {
    "pycharm": {
     "name": "#%% md\n"
    }
   },
   "source": [
    "Combining everything together we can have:\n",
    "\n",
    "\\begin{eqnarray}\n",
    "\\frac{\\partial L_i}{\\partial \\mathbf{W}_1}=\\dfrac{y_i-f(\\mathbf{x}_i)}{f(\\mathbf{x}_i)(1-f(\\mathbf{x}_i))}h_3(1-h_3)\\mathbf{W}_{3}^T\\times\\\\\n",
    "\\times \\mathbf{h}_2\\odot(\\mathbf{1}-\\mathbf{h}_2)\\mathbf{W}_{2}^{T}\\mathbf{h}_1\\odot(\\mathbf{1}-\\mathbf{h}_1)\\mathbf{x}_i^T.\n",
    "\\end{eqnarray}\n",
    "\n",
    "Since $f(\\mathbf{x}_i)=h_3$, we can simplify it as follow\n",
    "\n",
    "\\begin{eqnarray}\n",
    "\\frac{\\partial L_i}{\\partial \\mathbf{W}_1}=(y_i-f(\\mathbf{x}_i))\\mathbf{W}_{3}^T\\mathbf{h}_2\\odot(\\mathbf{1}-\\mathbf{h}_2)\\mathbf{W}_{2}^{T}\\mathbf{h}_1\\odot(\\mathbf{1}-\\mathbf{h}_1)\\mathbf{x}_i^T\n",
    "\\end{eqnarray}\n",
    "\n",
    "After the summation over all $i=1...N$ we have:\n",
    "\n",
    "\\begin{eqnarray}\n",
    "\\frac{\\partial L}{\\partial \\mathbf{W}_1}=-\\sum_{i=1}^N (y_i-f(\\mathbf{x}_i))\\mathbf{W}_{3}^T\\mathbf{h}_2\\odot(\\mathbf{1}-\\mathbf{h}_2)\\mathbf{W}_{2}^{T}\\mathbf{h}_1\\odot(\\mathbf{1}-\\mathbf{h}_1)\\mathbf{x}_i^T.\n",
    "\\end{eqnarray}\n",
    "\n",
    "Initially I did the same but in term of summations over all the nodes. The answer is:\n",
    "\n",
    "\\begin{eqnarray}\n",
    "\\frac{\\partial L}{\\partial \\mathbf{W}_1}=-\\sum_{i=1}^N(y_i-f(\\mathbf{x}_i))\\sum_{l=1}^{H}W_{3,l}^Th_2^l(1-h_2^l)\\sum_{m=1}^{H}W_{2,m}^{lT}h_1^m(1-h_1^m)\\mathbf{x}_i^T.\n",
    "\\end{eqnarray}"
   ]
  },
  {
   "cell_type": "markdown",
   "metadata": {
    "pycharm": {
     "name": "#%% md\n"
    }
   },
   "source": [
    "**3.2 Gradient Evaluation**\n",
    "\n",
    "We need to compute $\\delta_l^i:= \\frac{\\partial L_i}{\\partial \\mathbf{z}_l}$, knowing\n",
    "$\\delta_{l+1}^i$, $\\mathbf{W}_{l+1}$, and $\\mathbf{h}_l$.\n",
    "\n",
    "Using out previous derivation we can write\n",
    "\n",
    "\\begin{eqnarray}\n",
    "\\delta_l^i=\\frac{\\partial L_i}{\\partial \\mathbf{z}_l}=\\dfrac{\\partial L_i}{\\partial \\mathbf{z}_{l+1}}  \\dfrac{\\partial \\mathbf{z}_{l+1}}{\\partial \\mathbf{h}_l}   \\dfrac{\\partial \\mathbf{h}_l}{\\partial \\mathbf{z}_l}  =  \\delta_{l+1}^i  \\dfrac{\\partial \\mathbf{z}_{l+1}}{\\partial \\mathbf{h}_l}   \\dfrac{\\partial \\mathbf{h}_l}{\\partial \\mathbf{z}_l} =\\\\\n",
    "=  \\delta_{l+1}^i  \\mathbf{W}^T_{l+1}   \\dfrac{\\partial \\mathbf{h}_l}{\\partial \\mathbf{z}_l}  =\\delta_{l+1}^i  \\mathbf{W}^T_{l+1}  \\mathbf{h}_l\\odot(\\mathbf{1}-\\mathbf{h}_l).\n",
    "\\end{eqnarray}\n",
    "\n",
    "Thus,\n",
    "\n",
    "$$\\delta_l^i=\\delta_{l+1}^i  \\mathbf{W}^T_{l+1}  \\mathbf{h}_l\\odot(\\mathbf{1}-\\mathbf{h}_l).$$"
   ]
  }
 ],
 "metadata": {
  "kernelspec": {
   "display_name": "Python 3",
   "language": "python",
   "name": "python3"
  },
  "language_info": {
   "codemirror_mode": {
    "name": "ipython",
    "version": 3
   },
   "file_extension": ".py",
   "mimetype": "text/x-python",
   "name": "python",
   "nbconvert_exporter": "python",
   "pygments_lexer": "ipython3",
   "version": "3.9.7"
  }
 },
 "nbformat": 4,
 "nbformat_minor": 1
}