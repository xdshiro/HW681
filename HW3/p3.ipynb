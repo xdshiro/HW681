{
 "cells": [
  {
   "cell_type": "markdown",
   "metadata": {
    "collapsed": true,
    "pycharm": {
     "name": "#%% md\n"
    }
   },
   "source": [
    "# **3 Logistic Regression and Kernels (Ed Tam)**\n",
    "**3.1 RKHS**\n",
    "\n",
    "The representer theorem says, that for this problem a minimizer $f_{\\theta}$ of regularized risk can\n",
    "be written as\n",
    "\n",
    "$$f_{\\theta}=\\sum_{i=1}^n\\alpha_ik(\\cdot,x_i).$$\n",
    "\n",
    "In our case, since we are working with a simple inner product $\\theta^T\\theta$,\n",
    "we can write our classifier as\n",
    "\n",
    "$$f_{\\theta}=\\sum_{i=1}^n\\alpha_ix_i,$$\n",
    "\n",
    "where $\\alpha_i$ are real weights. $x_i$ are the points of the training data.\n",
    "Or it can be represented as follow:\n",
    "\n",
    "$$f_{\\theta}(x)=\\sum_{i=1}^n\\alpha_ix^Tx_i.$$"
   ]
  },
  {
   "cell_type": "markdown",
   "source": [
    "**3.2 L2 Regularization**"
   ],
   "metadata": {
    "collapsed": false,
    "pycharm": {
     "name": "#%% md\n"
    }
   }
  },
  {
   "cell_type": "markdown",
   "source": [
    "$$g(\\zeta)=\\ln(1+\\exp(-\\zeta))$$\n",
    "\n",
    "Primal problem:\n",
    "\n",
    "$$\\min_{\\mathbf{w}, \\zeta}\\left[ \\frac{1}{2}\\|w \\|^2 + C\\sum_{i=1}^n g(\\zeta_i)\\right]$$\n",
    "\n",
    "subject to\n",
    "\n",
    "$$y_i(w^T\\mathbf{x}_i) \\geq \\zeta_i, \\forall i$$.\n",
    "\n",
    "We can rewrite our primal problem as follow:\n",
    "\n",
    "$$\\min_{\\mathbf{w}, \\zeta}\\left(\\max_{\\mathbf{\\alpha}; \\alpha_i\\ge0,\\forall i}\\left[ \\frac{1}{2}\\|w \\|^2 + C\\sum_{i=1}^n g(\\zeta_i)+\\sum_{i=1}^n\\alpha_i(\\zeta_i-y_i(w^Tx_i))\\right]\\right).$$\n",
    "\n",
    "In that case the dual problem\n",
    "\n",
    "$$\\max_{\\mathbf{\\alpha}; \\alpha_i\\ge0,\\forall i}\\left(\\min_{\\mathbf{w}, \\zeta}\\left[ \\frac{1}{2}\\|w \\|^2 + C\\sum_{i=1}^n g(\\zeta_i)+\\sum_{i=1}^n\\alpha_i(\\zeta_i-y_i(w^Tx_i))\\right]\\right),$$\n",
    "\n",
    "We can simplify this problem as follow:\n",
    "\n",
    "\\begin{eqnarray}\n",
    "\\max_{\\mathbf{\\alpha}; \\alpha_i\\ge0,\\forall i}\\left(\\min_{\\mathbf{w}, \\zeta}\\left[\\frac{1}{2}\\|w \\|^2 + C\\sum_{i=1}^n g(\\zeta_i)+\\sum_{i=1}^n\\alpha_i(\\zeta_i-y_i(w^Tx_i))\\right]\\right)=\\\\\n",
    "=\\max_{\\mathbf{\\alpha}; \\alpha_i\\ge0,\\forall i}\\left(\\min_{\\mathbf{w}}\\left[\\frac{1}{2}\\|w \\|^2-\\sum_{i=1}^n\\alpha_iy_i(w^Tx_i)\\right]+\\min_{\\zeta}\\left[\\sum_{i=1}^n\\left(Cg(\\zeta_i)+\\alpha_i\\zeta_i\\right)\\right]\\right).\\\\\n",
    "\\end{eqnarray}\n",
    "\n",
    "Let's look at the next part of the equation:\n",
    "\n",
    "$$\\min_{\\mathbf{w}}\\left[\\frac{1}{2}\\|w \\|^2-\\sum_{i=1}^n\\alpha_iy_i(w^Tx_i)\\right],$$\n",
    "\n",
    "to find the min let's take the derivative:\n",
    "\n",
    "$$\\left[\\frac{1}{2}\\|w \\|^2-\\sum_{i=1}^n\\alpha_iy_i(w^Tx_i)\\right]'=\\|w \\|\\dfrac{w}{\\|w \\|}-\\sum_{i=1}^n\\alpha_iy_i(x_i)=0,$$\n",
    "\n",
    "$$w=\\sum_{i=1}^n\\alpha_iy_i(x_i).$$\n",
    "\n",
    "Substituting it back, we have\n",
    "\n",
    "\\begin{eqnarray}\n",
    "\\min_{\\mathbf{w}}\\left[\\frac{1}{2}\\|w \\|^2-\\sum_{i=1}^n\\alpha_iy_i(w^Tx_i)\\right]=\\\\\n",
    "\\frac{1}{2}\\|\\sum_{i=1}^n\\alpha_iy_i(x_i)\\|^2-\\|\\sum_{i=1}^n\\alpha_iy_i(x_i)\\|^2=-\\frac{1}{2}\\|\\sum_{i=1}^n\\alpha_iy_i(x_i)\\|^2.\n",
    "\\end{eqnarray}\n",
    "\n",
    "Now, we can do the same with the 2nd part of the problem:\n",
    "\n",
    "$$\\min_{\\zeta}\\left[\\sum_{i=1}^n\\left(Cg(\\zeta_i)+\\alpha_i\\zeta_i\\right)\\right].$$\n",
    "\n",
    "For that, we will find the derivatives with respect to $\\zeta_i$:\n",
    "\n",
    "\\begin{eqnarray}\n",
    "\\left[Cg(\\zeta_i)+\\alpha_i\\zeta_i\\right]'=Cg'(\\zeta_i)+\\alpha_i=C\\left[\\ln(1+\\exp(-\\zeta_i))\\right]'+\\alpha_i=\\\\\n",
    "=-\\dfrac{C}{\\exp(\\zeta_i)+1}+\\alpha_i=0,\n",
    "\\end{eqnarray}\n",
    "\n",
    "$$\\exp(\\zeta_i)\\alpha_i+\\alpha_i=C,$$\n",
    "\n",
    "$$\\exp(\\zeta_i)=\\dfrac{C-\\alpha_i}{\\alpha_i},$$\n",
    "\n",
    "$$\\zeta_i=\\ln\\dfrac{C-\\alpha_i}{\\alpha_i}.$$\n",
    "\n",
    "In that case:\n",
    "\n",
    "\\begin{eqnarray}\n",
    "\\min_{\\zeta}\\left[\\sum_{i=1}^n\\left(Cg(\\zeta_i)+\\alpha_i\\zeta_i\\right)\\right]=\\sum_{i=1}^n\\left(Cg(\\ln\\dfrac{C-\\alpha_i}{\\alpha_i})+\\alpha_i\\ln\\dfrac{C-\\alpha_i}{\\alpha_i}\\right)=\\\\\n",
    "\\sum_{i=1}^n\\left(C\\ln\\dfrac{C}{C-\\alpha_i}+\\alpha_i\\ln\\dfrac{C-\\alpha_i}{\\alpha_i}\\right)=\\\\\n",
    "=\\sum_{i=1}^n\\ln\\dfrac{C^C(C-\\alpha_i)^{\\alpha_i}}{(C-\\alpha_i)^{C}\\alpha_i^{\\alpha_i}}=\\sum_{i=1}^n\\ln\\left(\\dfrac{C^C}{\\alpha_i^{\\alpha_i}}(C-\\alpha_i)^{\\alpha_i-C}\\right)\n",
    "\\end{eqnarray}\n",
    "\n",
    "The final form for the dual problem looks:\n",
    "\n",
    "$$\\max_{\\mathbf{\\alpha}; \\alpha_i\\ge0,\\forall i}\\left(-\\frac{1}{2}\\|\\sum_{i=1}^n\\alpha_iy_ix_i\\|^2+\\sum_{i=1}^n\\left(Cg(\\ln\\dfrac{C-\\alpha_i}{\\alpha_i})+\\alpha_i\\ln\\dfrac{C-\\alpha_i}{\\alpha_i}\\right)\\right),$$\n",
    "\n",
    "or\n",
    "\n",
    "$$\\max_{\\mathbf{\\alpha}; \\alpha_i\\ge0,\\forall i}\\left(-\\frac{1}{2}\\|\\sum_{i=1}^n\\alpha_iy_ix_i\\|^2-\\sum_{i=1}^n\\ln\\left(\\dfrac{C^C}{\\alpha_i^{\\alpha_i}}(C-\\alpha_i)^{C-\\alpha_i}\\right)\\right),$$\n",
    "\n",
    "or\n",
    "\n",
    "$$-\\min_{\\mathbf{\\alpha}; \\alpha_i\\ge0,\\forall i}\\left(\\frac{1}{2}\\|\\sum_{i=1}^n\\alpha_iy_ix_i\\|^2+\\sum_{i=1}^n\\ln\\left(\\dfrac{C^C}{\\alpha_i^{\\alpha_i}}(C-\\alpha_i)^{C-\\alpha_i}\\right)\\right).$$\n"
   ],
   "metadata": {
    "collapsed": false,
    "pycharm": {
     "name": "#%% md\n"
    }
   }
  },
  {
   "cell_type": "code",
   "execution_count": null,
   "outputs": [],
   "source": [],
   "metadata": {
    "collapsed": false,
    "pycharm": {
     "name": "#%%\n"
    }
   }
  }
 ],
 "metadata": {
  "kernelspec": {
   "display_name": "Python 3",
   "language": "python",
   "name": "python3"
  },
  "language_info": {
   "codemirror_mode": {
    "name": "ipython",
    "version": 2
   },
   "file_extension": ".py",
   "mimetype": "text/x-python",
   "name": "python",
   "nbconvert_exporter": "python",
   "pygments_lexer": "ipython2",
   "version": "2.7.6"
  }
 },
 "nbformat": 4,
 "nbformat_minor": 0
}